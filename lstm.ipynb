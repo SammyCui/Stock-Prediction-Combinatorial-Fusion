{
  "cells": [
    {
      "cell_type": "code",
      "execution_count": null,
      "metadata": {
        "colab": {
          "base_uri": "https://localhost:8080/"
        },
        "id": "SzF9jGTG_cPz",
        "outputId": "e6688240-61fa-4e82-af21-11c93a96c194"
      },
      "outputs": [
        {
          "name": "stdout",
          "output_type": "stream",
          "text": [
            "Drive already mounted at /content/drive/; to attempt to forcibly remount, call drive.mount(\"/content/drive/\", force_remount=True).\n"
          ]
        }
      ],
      "source": [
        "# Importing Googe Drive\n",
        "from google.colab import drive\n",
        "import sys, os\n",
        "drive.mount('/content/drive/')\n",
        "\n",
        "sys.path.append('/content/drive/Shareddrives/CFA project/utils')"
      ]
    },
    {
      "cell_type": "code",
      "execution_count": null,
      "metadata": {
        "colab": {
          "base_uri": "https://localhost:8080/"
        },
        "id": "CuSAt5Cn_nPt",
        "outputId": "b195b743-a5f6-41bb-fb63-d06e144bdade"
      },
      "outputs": [
        {
          "name": "stdout",
          "output_type": "stream",
          "text": [
            "Requirement already satisfied: openpyxl in /usr/local/lib/python3.7/dist-packages (3.0.9)\n",
            "Requirement already satisfied: et-xmlfile in /usr/local/lib/python3.7/dist-packages (from openpyxl) (1.1.0)\n"
          ]
        },
        {
          "name": "stderr",
          "output_type": "stream",
          "text": [
            "/usr/local/lib/python3.7/dist-packages/statsmodels/tools/_testing.py:19: FutureWarning: pandas.util.testing is deprecated. Use the functions in the public API at pandas.testing instead.\n",
            "  import pandas.util.testing as tm\n"
          ]
        }
      ],
      "source": [
        "# Importing necessary packages and libraries\n",
        "# Niu: added the first line to update openpyxl, which is necessary for pandas to read databases\n",
        "\n",
        "!pip install openpyxl --upgrade\n",
        "\n",
        "import numpy as np\n",
        "import pandas as pd\n",
        "import matplotlib.pyplot as plt\n",
        "import string\n",
        "import statsmodels.api as sm\n",
        "from functools import reduce"
      ]
    },
    {
      "cell_type": "markdown",
      "metadata": {
        "id": "cWoKZJhC_qiD"
      },
      "source": [
        "# Data pre-processing"
      ]
    },
    {
      "cell_type": "code",
      "execution_count": null,
      "metadata": {
        "colab": {
          "base_uri": "https://localhost:8080/"
        },
        "id": "vLXPwrJmjrSz",
        "outputId": "fe23c1b6-5762-4857-e62f-22e761b4588f"
      },
      "outputs": [
        {
          "name": "stdout",
          "output_type": "stream",
          "text": [
            "Collecting category_encoders\n",
            "  Downloading category_encoders-2.4.0-py2.py3-none-any.whl (86 kB)\n",
            "\u001b[?25l\r\u001b[K     |███▉                            | 10 kB 16.6 MB/s eta 0:00:01\r\u001b[K     |███████▋                        | 20 kB 22.1 MB/s eta 0:00:01\r\u001b[K     |███████████▍                    | 30 kB 25.3 MB/s eta 0:00:01\r\u001b[K     |███████████████▏                | 40 kB 18.2 MB/s eta 0:00:01\r\u001b[K     |███████████████████             | 51 kB 10.4 MB/s eta 0:00:01\r\u001b[K     |██████████████████████▊         | 61 kB 11.9 MB/s eta 0:00:01\r\u001b[K     |██████████████████████████▌     | 71 kB 6.9 MB/s eta 0:00:01\r\u001b[K     |██████████████████████████████▎ | 81 kB 7.6 MB/s eta 0:00:01\r\u001b[K     |████████████████████████████████| 86 kB 3.0 MB/s \n",
            "\u001b[?25hRequirement already satisfied: numpy>=1.14.0 in /usr/local/lib/python3.7/dist-packages (from category_encoders) (1.21.6)\n",
            "Requirement already satisfied: statsmodels>=0.9.0 in /usr/local/lib/python3.7/dist-packages (from category_encoders) (0.10.2)\n",
            "Requirement already satisfied: scikit-learn>=0.20.0 in /usr/local/lib/python3.7/dist-packages (from category_encoders) (1.0.2)\n",
            "Requirement already satisfied: patsy>=0.5.1 in /usr/local/lib/python3.7/dist-packages (from category_encoders) (0.5.2)\n",
            "Requirement already satisfied: scipy>=1.0.0 in /usr/local/lib/python3.7/dist-packages (from category_encoders) (1.4.1)\n",
            "Requirement already satisfied: pandas>=0.21.1 in /usr/local/lib/python3.7/dist-packages (from category_encoders) (1.3.5)\n",
            "Requirement already satisfied: python-dateutil>=2.7.3 in /usr/local/lib/python3.7/dist-packages (from pandas>=0.21.1->category_encoders) (2.8.2)\n",
            "Requirement already satisfied: pytz>=2017.3 in /usr/local/lib/python3.7/dist-packages (from pandas>=0.21.1->category_encoders) (2022.1)\n",
            "Requirement already satisfied: six in /usr/local/lib/python3.7/dist-packages (from patsy>=0.5.1->category_encoders) (1.15.0)\n",
            "Requirement already satisfied: joblib>=0.11 in /usr/local/lib/python3.7/dist-packages (from scikit-learn>=0.20.0->category_encoders) (1.1.0)\n",
            "Requirement already satisfied: threadpoolctl>=2.0.0 in /usr/local/lib/python3.7/dist-packages (from scikit-learn>=0.20.0->category_encoders) (3.1.0)\n",
            "Installing collected packages: category-encoders\n",
            "Successfully installed category-encoders-2.4.0\n"
          ]
        }
      ],
      "source": [
        "!pip install category_encoders"
      ]
    },
    {
      "cell_type": "code",
      "execution_count": null,
      "metadata": {
        "id": "NGQarZNI_pNR"
      },
      "outputs": [],
      "source": [
        "from category_encoders.target_encoder import TargetEncoder\n",
        "from category_encoders.sum_coding import SumEncoder\n",
        "from category_encoders.m_estimate import MEstimateEncoder\n",
        "from category_encoders.leave_one_out import LeaveOneOutEncoder\n",
        "from category_encoders.binary import BinaryEncoder\n",
        "from category_encoders.cat_boost import CatBoostEncoder\n",
        "from category_encoders.james_stein import JamesSteinEncoder\n",
        "from category_encoders.one_hot import OneHotEncoder\n",
        "from sklearn.preprocessing import StandardScaler\n",
        "\n",
        "from sklearn.preprocessing import RobustScaler\n",
        "from sklearn.model_selection import train_test_split"
      ]
    },
    {
      "cell_type": "code",
      "execution_count": null,
      "metadata": {
        "colab": {
          "base_uri": "https://localhost:8080/"
        },
        "id": "SaJECYek_yJh",
        "outputId": "44a113d1-b96f-4526-b9a9-ea8b57d940a1"
      },
      "outputs": [
        {
          "name": "stdout",
          "output_type": "stream",
          "text": [
            "<class 'pandas.core.frame.DataFrame'>\n",
            "Int64Index: 20020 entries, 14824 to 20019\n",
            "Data columns (total 30 columns):\n",
            " #   Column                           Non-Null Count  Dtype  \n",
            "---  ------                           --------------  -----  \n",
            " 0   Stock                            20020 non-null  object \n",
            " 1   Free.Operating.Cash.Flow         20019 non-null  float64\n",
            " 2   Total.Debt.Outstanding           20020 non-null  float64\n",
            " 3   Price.Close                      20020 non-null  float64\n",
            " 4   Total.Common.Shares.Outstanding  20020 non-null  int64  \n",
            " 5   Cash.and.Equivalents             20020 non-null  int64  \n",
            " 6   Net.Income                       20020 non-null  int64  \n",
            " 7   Interest.Expense                 19415 non-null  float64\n",
            " 8   Short.Interest                   20020 non-null  float64\n",
            " 9   Avg.Daily.Volume.30D             20020 non-null  int64  \n",
            " 10  Current.Assets                   20020 non-null  float64\n",
            " 11  Non.Current.Assets               20020 non-null  float64\n",
            " 12  Current.Liabilities              20020 non-null  float64\n",
            " 13  RSI.Exponential                  20020 non-null  float64\n",
            " 14  MACD.Line1                       20020 non-null  float64\n",
            " 15  Bollinger.Band,Width             20020 non-null  float64\n",
            " 16  Price.Mo.Volatility.T12M         20020 non-null  float64\n",
            " 17  3M.Sharpe.Ratio                  20020 non-null  float64\n",
            " 18  DATE                             20020 non-null  object \n",
            " 19  CPIAUCSL                         20020 non-null  float64\n",
            " 20  PAYEMS                           20020 non-null  int64  \n",
            " 21  PPIACO                           20020 non-null  float64\n",
            " 22  T10YIE                           20020 non-null  float64\n",
            " 23  T5YIE                            20020 non-null  float64\n",
            " 24  UNRATE                           20020 non-null  float64\n",
            " 25  industry                         18956 non-null  object \n",
            " 26  age                              18984 non-null  float64\n",
            " 27  Month_sin                        20020 non-null  float64\n",
            " 28  Month_cos                        20020 non-null  float64\n",
            " 29  sector                           18956 non-null  object \n",
            "dtypes: float64(21), int64(5), object(4)\n",
            "memory usage: 4.7+ MB\n"
          ]
        }
      ],
      "source": [
        "df = pd.read_pickle('/content/drive/Shareddrives/CFA project/data/loaded_df.pkl')\n",
        "df.info()"
      ]
    },
    {
      "cell_type": "code",
      "execution_count": null,
      "metadata": {
        "id": "SX_DGRDKRptF"
      },
      "outputs": [],
      "source": [
        "df = df.dropna(subset=['age','sector','industry']).reset_index(drop=True)"
      ]
    },
    {
      "cell_type": "code",
      "execution_count": null,
      "metadata": {
        "id": "zcRLlC4dTM-f"
      },
      "outputs": [],
      "source": [
        "df = df.sort_values(by=['DATE'])\n",
        "df[['Free.Operating.Cash.Flow', 'Interest.Expense']] = df.groupby('Stock')[['Free.Operating.Cash.Flow', 'Interest.Expense']].apply(lambda x: x.interpolate(method='linear', limit_direction='both'))"
      ]
    },
    {
      "cell_type": "code",
      "execution_count": null,
      "metadata": {
        "colab": {
          "base_uri": "https://localhost:8080/"
        },
        "id": "ajXHVUoafMj7",
        "outputId": "ac76dacc-555f-4664-fb42-7109b5845229"
      },
      "outputs": [
        {
          "data": {
            "text/plain": [
              "Stock                              0\n",
              "Free.Operating.Cash.Flow           0\n",
              "Total.Debt.Outstanding             0\n",
              "Price.Close                        0\n",
              "Total.Common.Shares.Outstanding    0\n",
              "Cash.and.Equivalents               0\n",
              "Net.Income                         0\n",
              "Interest.Expense                   0\n",
              "Short.Interest                     0\n",
              "Avg.Daily.Volume.30D               0\n",
              "Current.Assets                     0\n",
              "Non.Current.Assets                 0\n",
              "Current.Liabilities                0\n",
              "RSI.Exponential                    0\n",
              "MACD.Line1                         0\n",
              "Bollinger.Band,Width               0\n",
              "Price.Mo.Volatility.T12M           0\n",
              "3M.Sharpe.Ratio                    0\n",
              "DATE                               0\n",
              "CPIAUCSL                           0\n",
              "PAYEMS                             0\n",
              "PPIACO                             0\n",
              "T10YIE                             0\n",
              "T5YIE                              0\n",
              "UNRATE                             0\n",
              "industry                           0\n",
              "age                                0\n",
              "Month_sin                          0\n",
              "Month_cos                          0\n",
              "sector                             0\n",
              "dtype: int64"
            ]
          },
          "execution_count": 10,
          "metadata": {},
          "output_type": "execute_result"
        }
      ],
      "source": [
        "df.isna().sum()"
      ]
    },
    {
      "cell_type": "code",
      "execution_count": null,
      "metadata": {
        "id": "Wm1IBcKb_0fV"
      },
      "outputs": [],
      "source": [
        "fundamentals = ['Free.Operating.Cash.Flow', 'Total.Debt.Outstanding',\n",
        "       'Total.Common.Shares.Outstanding',\n",
        "       'Cash.and.Equivalents', 'Net.Income', 'Interest.Expense',\n",
        "       'Short.Interest', 'Avg.Daily.Volume.30D', 'Current.Assets',\n",
        "       'Non.Current.Assets', 'Current.Liabilities']\n",
        "\n",
        "technicals = ['RSI.Exponential','MACD.Line1', 'Bollinger.Band,Width', 'Price.Mo.Volatility.T12M']\n",
        "\n",
        "macros_features = ['CPIAUCSL', 'PAYEMS', 'PPIACO', 'T10YIE', 'T5YIE','UNRATE']"
      ]
    },
    {
      "cell_type": "code",
      "execution_count": null,
      "metadata": {
        "id": "hjZ28hOc_2OB"
      },
      "outputs": [],
      "source": [
        "# keep two types of data: X: [attributes] -> y: close price\n",
        "#                         X: [pct_change_attributes] -> y: pct_change in close price\n",
        "#TODO: determine y: average? EWA? One single close may not show the whole level of increase/decrease\n",
        "df = df.sort_values(by=['DATE'])\n",
        "df_val = df.copy()\n",
        "df_val['next_close'] = df_val.groupby(['Stock'])['Price.Close'].transform(lambda x: x.shift(-1))\n",
        "df_diff = df.copy()\n",
        "\n",
        "# calculate pct_diff as y\n",
        "df_diff['pct_change_close'] = df_diff.groupby(['Stock'])['Price.Close'].transform(lambda x: x.pct_change().shift(-1))\n",
        "\n",
        "## fundamental, close price, and macro shall be saved as pct_change to reflect the pct_change in y; \n",
        "##TODO: shall technical indicators be counted as pct_change as well or remain as is?\n",
        "# features_as_pct = fundamentals + ['Price.Close'] + macros_features\n",
        "# df_diff[features_as_pct] = df_diff.groupby(['Stock'])[features_as_pct].transform(lambda x: x.pct_change())[features_as_pct]"
      ]
    },
    {
      "cell_type": "code",
      "execution_count": null,
      "metadata": {
        "id": "RxEexrJsZh3c"
      },
      "outputs": [],
      "source": [
        ""
      ]
    },
    {
      "cell_type": "code",
      "execution_count": null,
      "metadata": {
        "id": "JG_I57c-0Cy7"
      },
      "outputs": [],
      "source": [
        "df_val = df_val.dropna(subset=['next_close']).reset_index(drop=True)"
      ]
    },
    {
      "cell_type": "code",
      "execution_count": null,
      "metadata": {
        "id": "7RJJH5gWXrtD"
      },
      "outputs": [],
      "source": [
        "df_diff = df_diff.dropna(subset=['pct_change_close']).reset_index(drop=True)"
      ]
    },
    {
      "cell_type": "code",
      "execution_count": null,
      "metadata": {
        "colab": {
          "base_uri": "https://localhost:8080/",
          "height": 1000
        },
        "id": "JErJ6Mp2lMao",
        "outputId": "c3c4bad8-cf50-48fe-9519-675f02f87ac3"
      },
      "outputs": [
        {
          "name": "stdout",
          "output_type": "stream",
          "text": [
            "Stock\n"
          ]
        },
        {
          "data": {
            "image/png": "[encoded data removed]",
            "text/plain": [
              "<Figure size 432x288 with 1 Axes>"
            ]
          },
          "metadata": {},
          "output_type": "display_data"
        },
        {
          "name": "stdout",
          "output_type": "stream",
          "text": [
            "Free.Operating.Cash.Flow\n"
          ]
        },
        {
          "data": {
            "image/png": "[encoded data removed]",
            "text/plain": [
              "<Figure size 432x288 with 1 Axes>"
            ]
          },
          "metadata": {},
          "output_type": "display_data"
        },
        {
          "name": "stdout",
          "output_type": "stream",
          "text": [
            "Total.Debt.Outstanding\n"
          ]
        },
        {
          "data": {
            "image/png": "[encoded data removed]",
            "text/plain": [
              "<Figure size 432x288 with 1 Axes>"
            ]
          },
          "metadata": {},
          "output_type": "display_data"
        },
        {
          "name": "stdout",
          "output_type": "stream",
          "text": [
            "Price.Close\n"
          ]
        },
        {
          "data": {
            "image/png": "[encoded data removed]",
            "text/plain": [
              "<Figure size 432x288 with 1 Axes>"
            ]
          },
          "metadata": {},
          "output_type": "display_data"
        },
        {
          "name": "stdout",
          "output_type": "stream",
          "text": [
            "Total.Common.Shares.Outstanding\n"
          ]
        },
        {
          "data": {
            "image/png": "[encoded data removed]",
            "text/plain": [
              "<Figure size 432x288 with 1 Axes>"
            ]
          },
          "metadata": {},
          "output_type": "display_data"
        },
        {
          "name": "stdout",
          "output_type": "stream",
          "text": [
            "Cash.and.Equivalents\n"
          ]
        },
        {
          "data": {
            "image/png": "[encoded data removed]",
            "text/plain": [
              "<Figure size 432x288 with 1 Axes>"
            ]
          },
          "metadata": {},
          "output_type": "display_data"
        },
        {
          "name": "stdout",
          "output_type": "stream",
          "text": [
            "Net.Income\n"
          ]
        },
        {
          "data": {
            "image/png": "[encoded data removed]",
            "text/plain": [
              "<Figure size 432x288 with 1 Axes>"
            ]
          },
          "metadata": {},
          "output_type": "display_data"
        },
        {
          "name": "stdout",
          "output_type": "stream",
          "text": [
            "Interest.Expense\n"
          ]
        },
        {
          "data": {
            "image/png": "[encoded data removed]",
            "text/plain": [
              "<Figure size 432x288 with 1 Axes>"
            ]
          },
          "metadata": {},
          "output_type": "display_data"
        },
        {
          "name": "stdout",
          "output_type": "stream",
          "text": [
            "Short.Interest\n"
          ]
        },
        {
          "data": {
            "image/png": "[encoded data removed]",
            "text/plain": [
              "<Figure size 432x288 with 1 Axes>"
            ]
          },
          "metadata": {},
          "output_type": "display_data"
        },
        {
          "name": "stdout",
          "output_type": "stream",
          "text": [
            "Avg.Daily.Volume.30D\n"
          ]
        },
        {
          "data": {
            "image/png": "[encoded data removed]",
            "text/plain": [
              "<Figure size 432x288 with 1 Axes>"
            ]
          },
          "metadata": {},
          "output_type": "display_data"
        },
        {
          "name": "stdout",
          "output_type": "stream",
          "text": [
            "Current.Assets\n"
          ]
        },
        {
          "data": {
            "image/png": "[encoded data removed]",
            "text/plain": [
              "<Figure size 432x288 with 1 Axes>"
            ]
          },
          "metadata": {},
          "output_type": "display_data"
        },
        {
          "name": "stdout",
          "output_type": "stream",
          "text": [
            "Non.Current.Assets\n"
          ]
        },
        {
          "data": {
            "image/png": "[encoded data removed]",
            "text/plain": [
              "<Figure size 432x288 with 1 Axes>"
            ]
          },
          "metadata": {},
          "output_type": "display_data"
        },
        {
          "name": "stdout",
          "output_type": "stream",
          "text": [
            "Current.Liabilities\n"
          ]
        },
        {
          "data": {
            "image/png": "[encoded data removed]",
            "text/plain": [
              "<Figure size 432x288 with 1 Axes>"
            ]
          },
          "metadata": {},
          "output_type": "display_data"
        },
        {
          "name": "stdout",
          "output_type": "stream",
          "text": [
            "RSI.Exponential\n"
          ]
        },
        {
          "data": {
            "image/png": "[encoded data removed]",
            "text/plain": [
              "<Figure size 432x288 with 1 Axes>"
            ]
          },
          "metadata": {},
          "output_type": "display_data"
        },
        {
          "name": "stdout",
          "output_type": "stream",
          "text": [
            "MACD.Line1\n"
          ]
        },
        {
          "data": {
            "image/png": "[encoded data removed]",
            "text/plain": [
              "<Figure size 432x288 with 1 Axes>"
            ]
          },
          "metadata": {},
          "output_type": "display_data"
        },
        {
          "name": "stdout",
          "output_type": "stream",
          "text": [
            "Bollinger.Band,Width\n"
          ]
        },
        {
          "data": {
            "image/png": "[encoded data removed]",
            "text/plain": [
              "<Figure size 432x288 with 1 Axes>"
            ]
          },
          "metadata": {},
          "output_type": "display_data"
        },
        {
          "name": "stdout",
          "output_type": "stream",
          "text": [
            "Price.Mo.Volatility.T12M\n"
          ]
        },
        {
          "data": {
            "image/png": "[encoded data removed]",
            "text/plain": [
              "<Figure size 432x288 with 1 Axes>"
            ]
          },
          "metadata": {},
          "output_type": "display_data"
        },
        {
          "name": "stdout",
          "output_type": "stream",
          "text": [
            "3M.Sharpe.Ratio\n"
          ]
        },
        {
          "data": {
            "image/png": "[encoded data removed]",
            "text/plain": [
              "<Figure size 432x288 with 1 Axes>"
            ]
          },
          "metadata": {},
          "output_type": "display_data"
        },
        {
          "name": "stdout",
          "output_type": "stream",
          "text": [
            "DATE\n"
          ]
        },
        {
          "data": {
            "image/png": "[encoded data removed]",
            "text/plain": [
              "<Figure size 432x288 with 1 Axes>"
            ]
          },
          "metadata": {},
          "output_type": "display_data"
        },
        {
          "name": "stdout",
          "output_type": "stream",
          "text": [
            "CPIAUCSL\n"
          ]
        },
        {
          "data": {
            "image/png": "[encoded data removed]",
            "text/plain": [
              "<Figure size 432x288 with 1 Axes>"
            ]
          },
          "metadata": {},
          "output_type": "display_data"
        },
        {
          "name": "stdout",
          "output_type": "stream",
          "text": [
            "PAYEMS\n"
          ]
        },
        {
          "data": {
            "image/png": "[encoded data removed]",
            "text/plain": [
              "<Figure size 432x288 with 1 Axes>"
            ]
          },
          "metadata": {},
          "output_type": "display_data"
        },
        {
          "name": "stdout",
          "output_type": "stream",
          "text": [
            "PPIACO\n"
          ]
        },
        {
          "data": {
            "image/png": "[encoded data removed]",
            "text/plain": [
              "<Figure size 432x288 with 1 Axes>"
            ]
          },
          "metadata": {},
          "output_type": "display_data"
        },
        {
          "name": "stdout",
          "output_type": "stream",
          "text": [
            "T10YIE\n"
          ]
        },
        {
          "data": {
            "image/png": "[encoded data removed]",
            "text/plain": [
              "<Figure size 432x288 with 1 Axes>"
            ]
          },
          "metadata": {},
          "output_type": "display_data"
        },
        {
          "name": "stdout",
          "output_type": "stream",
          "text": [
            "T5YIE\n"
          ]
        },
        {
          "data": {
            "image/png": "[encoded data removed]",
            "text/plain": [
              "<Figure size 432x288 with 1 Axes>"
            ]
          },
          "metadata": {},
          "output_type": "display_data"
        },
        {
          "name": "stdout",
          "output_type": "stream",
          "text": [
            "UNRATE\n"
          ]
        },
        {
          "data": {
            "image/png": "[encoded data removed]",
            "text/plain": [
              "<Figure size 432x288 with 1 Axes>"
            ]
          },
          "metadata": {},
          "output_type": "display_data"
        },
        {
          "name": "stdout",
          "output_type": "stream",
          "text": [
            "industry\n"
          ]
        },
        {
          "data": {
            "image/png": "[encoded data removed]",
            "text/plain": [
              "<Figure size 432x288 with 1 Axes>"
            ]
          },
          "metadata": {},
          "output_type": "display_data"
        },
        {
          "name": "stdout",
          "output_type": "stream",
          "text": [
            "age\n"
          ]
        },
        {
          "data": {
            "image/png": "[encoded data removed]",
            "text/plain": [
              "<Figure size 432x288 with 1 Axes>"
            ]
          },
          "metadata": {},
          "output_type": "display_data"
        },
        {
          "name": "stdout",
          "output_type": "stream",
          "text": [
            "Month_sin\n"
          ]
        },
        {
          "data": {
            "image/png": "[encoded data removed]",
            "text/plain": [
              "<Figure size 432x288 with 1 Axes>"
            ]
          },
          "metadata": {},
          "output_type": "display_data"
        },
        {
          "name": "stdout",
          "output_type": "stream",
          "text": [
            "Month_cos\n"
          ]
        },
        {
          "data": {
            "image/png": "[encoded data removed]",
            "text/plain": [
              "<Figure size 432x288 with 1 Axes>"
            ]
          },
          "metadata": {},
          "output_type": "display_data"
        },
        {
          "name": "stdout",
          "output_type": "stream",
          "text": [
            "sector\n"
          ]
        },
        {
          "data": {
            "image/png": "[encoded data removed]",
            "text/plain": [
              "<Figure size 432x288 with 1 Axes>"
            ]
          },
          "metadata": {},
          "output_type": "display_data"
        },
        {
          "name": "stdout",
          "output_type": "stream",
          "text": [
            "next_close\n"
          ]
        },
        {
          "data": {
            "image/png": "[encoded data removed]",
            "text/plain": [
              "<Figure size 432x288 with 1 Axes>"
            ]
          },
          "metadata": {},
          "output_type": "display_data"
        }
      ],
      "source": [
        "import matplotlib.pyplot as plt\n",
        "\n",
        "for col in df_val.columns:\n",
        "  print(col)\n",
        "  plt.hist(df_val[col])  \n",
        "  plt.show()"
      ]
    },
    {
      "cell_type": "markdown",
      "metadata": {
        "id": "8U4g2dlfLq47"
      },
      "source": [
        "Check if there is missing any quarter -- since time series shall be continuous"
      ]
    },
    {
      "cell_type": "code",
      "execution_count": null,
      "metadata": {
        "colab": {
          "base_uri": "https://localhost:8080/"
        },
        "id": "DE_0jD132RsI",
        "outputId": "1a757dd2-d2ca-4d39-cd60-5b6ca08687aa"
      },
      "outputs": [
        {
          "data": {
            "text/plain": [
              "array(['2014Q1', '2014Q2', '2014Q3', '2014Q4', '2015Q1', '2015Q2',\n",
              "       '2015Q3', '2015Q4', '2016Q1', '2016Q2', '2016Q3', '2016Q4',\n",
              "       '2017Q1', '2017Q2', '2017Q3', '2017Q4', '2018Q1', '2018Q2',\n",
              "       '2018Q3', '2018Q4', '2019Q1', '2019Q2', '2019Q3', '2019Q4',\n",
              "       '2020Q1', '2020Q2', '2020Q3'], dtype=object)"
            ]
          },
          "execution_count": 14,
          "metadata": {},
          "output_type": "execute_result"
        }
      ],
      "source": [
        "df_val.sort_values(by=['DATE'])['DATE'].unique()"
      ]
    },
    {
      "cell_type": "code",
      "execution_count": null,
      "metadata": {
        "colab": {
          "base_uri": "https://localhost:8080/"
        },
        "id": "ij5OSBPgY8na",
        "outputId": "051f3359-1b7a-49a9-d8dc-9896a901bd42"
      },
      "outputs": [
        {
          "data": {
            "text/plain": [
              "2014Q1    676\n",
              "2017Q3    676\n",
              "2020Q2    676\n",
              "2020Q1    676\n",
              "2019Q4    676\n",
              "2019Q3    676\n",
              "2019Q2    676\n",
              "2019Q1    676\n",
              "2018Q4    676\n",
              "2018Q3    676\n",
              "2018Q2    676\n",
              "2018Q1    676\n",
              "2017Q4    676\n",
              "2017Q2    676\n",
              "2014Q2    676\n",
              "2017Q1    676\n",
              "2016Q4    676\n",
              "2016Q3    676\n",
              "2016Q2    676\n",
              "2016Q1    676\n",
              "2015Q4    676\n",
              "2015Q3    676\n",
              "2015Q2    676\n",
              "2015Q1    676\n",
              "2014Q4    676\n",
              "2014Q3    676\n",
              "2020Q3    676\n",
              "Name: DATE, dtype: int64"
            ]
          },
          "execution_count": 15,
          "metadata": {},
          "output_type": "execute_result"
        }
      ],
      "source": [
        "df_val['DATE'].value_counts()"
      ]
    },
    {
      "cell_type": "code",
      "execution_count": null,
      "metadata": {
        "colab": {
          "base_uri": "https://localhost:8080/",
          "height": 204
        },
        "id": "v6v6cmrXAGCa",
        "outputId": "15c12da7-b478-47fd-e116-0cb2d54271e9"
      },
      "outputs": [
        {
          "ename": "NameError",
          "evalue": "ignored",
          "output_type": "error",
          "traceback": [
            "\u001b[0;31m---------------------------------------------------------------------------\u001b[0m",
            "\u001b[0;31mNameError\u001b[0m                                 Traceback (most recent call last)",
            "\u001b[0;32m<ipython-input-16-dc808eddfeb0>\u001b[0m in \u001b[0;36m<module>\u001b[0;34m()\u001b[0m\n\u001b[1;32m      1\u001b[0m \u001b[0;32mimport\u001b[0m \u001b[0mseaborn\u001b[0m \u001b[0;32mas\u001b[0m \u001b[0msns\u001b[0m\u001b[0;34m\u001b[0m\u001b[0;34m\u001b[0m\u001b[0m\n\u001b[1;32m      2\u001b[0m \u001b[0msns\u001b[0m\u001b[0;34m.\u001b[0m\u001b[0mset\u001b[0m\u001b[0;34m(\u001b[0m\u001b[0mrc\u001b[0m\u001b[0;34m=\u001b[0m\u001b[0;34m{\u001b[0m\u001b[0;34m'figure.figsize'\u001b[0m\u001b[0;34m:\u001b[0m \u001b[0;34m(\u001b[0m\u001b[0;36m11\u001b[0m\u001b[0;34m,\u001b[0m\u001b[0;36m8\u001b[0m\u001b[0;34m)\u001b[0m\u001b[0;34m}\u001b[0m\u001b[0;34m)\u001b[0m\u001b[0;34m\u001b[0m\u001b[0;34m\u001b[0m\u001b[0m\n\u001b[0;32m----> 3\u001b[0;31m \u001b[0msns\u001b[0m\u001b[0;34m.\u001b[0m\u001b[0mheatmap\u001b[0m\u001b[0;34m(\u001b[0m\u001b[0mX_train\u001b[0m\u001b[0;34m.\u001b[0m\u001b[0mcorr\u001b[0m\u001b[0;34m(\u001b[0m\u001b[0;34m)\u001b[0m\u001b[0;34m)\u001b[0m\u001b[0;34m\u001b[0m\u001b[0;34m\u001b[0m\u001b[0m\n\u001b[0m",
            "\u001b[0;31mNameError\u001b[0m: name 'X_train' is not defined"
          ]
        }
      ],
      "source": [
        "import seaborn as sns\n",
        "sns.set(rc={'figure.figsize': (11,8)})\n",
        "sns.heatmap(X_train.corr())"
      ]
    },
    {
      "cell_type": "code",
      "execution_count": null,
      "metadata": {
        "id": "KPtSgMXdBUmh"
      },
      "outputs": [],
      "source": [
        "col_2_drop = ['T5YIE', 'Price.Close', '3M.Sharpe.Ratio', 'PAYEMS']\n",
        "df_val = df_val.drop(columns=col_2_drop)"
      ]
    },
    {
      "cell_type": "code",
      "execution_count": null,
      "metadata": {
        "id": "gIT3cvOdVoPX"
      },
      "outputs": [],
      "source": [
        "col_2_drop = ['T5YIE', 'Price.Close', '3M.Sharpe.Ratio', 'PAYEMS']\n",
        "df_diff = df_diff.drop(columns=col_2_drop)"
      ]
    },
    {
      "cell_type": "markdown",
      "metadata": {
        "id": "zkYJwVYDtAIG"
      },
      "source": [
        "# LSTM"
      ]
    },
    {
      "cell_type": "markdown",
      "metadata": {
        "id": "YDqmu34EQwJN"
      },
      "source": [
        "### Prepare data in sequential "
      ]
    },
    {
      "cell_type": "code",
      "execution_count": null,
      "metadata": {
        "id": "U6SMqnnjtCNT"
      },
      "outputs": [],
      "source": [
        "import torch\n",
        "import torch.nn as nn\n",
        "import torch.nn.functional as F\n",
        "import torch.optim as optim"
      ]
    },
    {
      "cell_type": "code",
      "execution_count": null,
      "metadata": {
        "id": "pGCAPT0EExiW"
      },
      "outputs": [],
      "source": [
        "df_diff.info()"
      ]
    },
    {
      "cell_type": "code",
      "execution_count": null,
      "metadata": {
        "id": "kmVk3wAqk84o"
      },
      "outputs": [],
      "source": [
        "def prepare_data(data, L, clip_outliers_cols,  drop_features, y_feature, test_size, normalize_cols, clip_quantile = 0.99, encoding_method='BinaryEncoder',\n",
        "                 train_test_split_type='random', normalize_method='RobustScaler',\n",
        "                 encoding_col='sector', sigma=0, random_seed=40):\n",
        "    \"\"\"\n",
        "\n",
        "  :param data:\n",
        "  :param L: sequence length\n",
        "  :param drop_features: features to drop\n",
        "  :param y_feature:\n",
        "  :param train_test_split_type: 'random': randomly split ; 'time': split by a quarter e.g., 2019Q4. Default random\n",
        "  :param test_size: if train_test_slit == 'random': test/all, e.g. 0.3. else: the quarter string to split\n",
        "  :param encoding_method: str() of encoder to use. Default binaryencoder\n",
        "  :param encoding_col: col name to encode\n",
        "  :param sigma: for LOO and catboost encoder -- gaussian noise added to the encoder\n",
        "  :param random_seed: random_seed for train_test_split under the random mode.\n",
        "  :return: tuple of X_train, X_test, y_train, y_test\n",
        "  \"\"\"\n",
        "\n",
        "    df = data.copy()\n",
        "    df = df.sort_values(by=['DATE']).reset_index(drop=True)\n",
        "    # for col in clip_outliers_cols:\n",
        "    #   percentiles = df[col].quantile([1-clip_quantile, clip_quantile]).values\n",
        "    #   df[col] = np.clip(data[col], percentiles[0], percentiles[1])\n",
        "    X, y = df.drop(columns=[y_feature]), df[y_feature]\n",
        "    # if split dataset randomly\n",
        "    if train_test_split_type == 'random':\n",
        "        X_idx_list = []\n",
        "        y_idx_list = []\n",
        "        # TargetEncoder, LOO and CatBoost requires the knowledge of target feature\n",
        "        # To prevent information leakage, we first store idx for each sequence; then\n",
        "        # randomly split into train-test, calculate the encodings, and convert back\n",
        "        for ticker, group in df.groupby('Stock'):\n",
        "            for i in range(len(group) - L + 1):\n",
        "                X_idx_list.append(group.iloc[i:i + L].index.to_numpy())\n",
        "                y_idx_list.append(group.iloc[i + L - 1].name)\n",
        "\n",
        "        X_train, X_test, y_train, y_test = train_test_split(X_idx_list, y_idx_list, test_size=test_size,\n",
        "                                                            random_state=random_seed)\n",
        "        test_idx = df.loc[y_test][['Stock', 'DATE']]\n",
        "    # if split dataset by a time (quarter)\n",
        "    else:\n",
        "        train, test = df[df['DATE'] < test_size].sort_values(by=['DATE']), df[df['DATE'] >= test_size].sort_values(\n",
        "            by=['DATE'])\n",
        "        X_train, X_test, y_train, y_test = [], [], [], []\n",
        "        for ticker, group in train.groupby(\"Stock\"):\n",
        "            for i in range(len(group) - L + 1):\n",
        "                X_train.append(group.iloc[i:i + L].index.to_numpy())\n",
        "                y_train.append(group.iloc[i + L - 1].name)\n",
        "        for ticker, group in test.groupby(\"Stock\"):\n",
        "            for i in range(len(group) - L + 1):\n",
        "                X_test.append(group.iloc[i:i + L].index.to_numpy())\n",
        "                y_test.append(group.iloc[i + L - 1].name)\n",
        "        test_idx = df.loc[y_test][['Stock', 'DATE']]\n",
        "\n",
        "    # convert back to train df and test df to normalize + category-encoding\n",
        "    X_train_df_idx, X_test_df_idx = list(set(np.array(X_train).flatten())), list(set(np.array(X_test).flatten()))\n",
        "    X_train_df, X_test_df = df.loc[X_train_df_idx], df.loc[X_test_df_idx]\n",
        "    # categorical data encoding\n",
        "\n",
        "    # ohe and binary expand one cat into multiple binary cols\n",
        "    if (encoding_method == 'OneHotEncoder') or (encoding_method == 'BinaryEncoder'):\n",
        "        encoder = eval(encoding_method)()\n",
        "        encoded_df_train = encoder.fit_transform(X_train_df[encoding_col], X_train_df[y_feature])\n",
        "        # if it's ohe, drop the last col as it's redundant\n",
        "        if encoding_method == 'OneHotEncoder':\n",
        "            encoded_df_train = encoded_df_train.iloc[:, :-1]\n",
        "        X_train_df = X_train_df.drop(columns=[encoding_col])\n",
        "        X_train_df = X_train_df.join(encoded_df_train)\n",
        "        # test set\n",
        "        encoded_df_test = encoder.transform(X_test_df[encoding_col])\n",
        "        if encoding_method == 'OneHotEncoder':\n",
        "            encoded_df_test = encoded_df_test.iloc[:, :-1]\n",
        "        X_test_df = X_test_df.drop(columns=[encoding_col])\n",
        "        X_test_df = X_test_df.join(encoded_df_test)\n",
        "    # target-encoding based methods generate 1 col from 1 cat col\n",
        "    else:\n",
        "        if (encoding_method == 'LeaveOneOutEncoder') or (encoding_method == 'CatBoostEncoder'):\n",
        "            encoder = eval(encoding_method)(sigma=sigma)\n",
        "        else:\n",
        "            encoder = eval(encoding_method)()\n",
        "        X_train_df[encoding_col] = encoder.fit_transform(X_train_df[encoding_col], X_train_df[y_feature])\n",
        "        X_test_df[encoding_col] = encoder.transform(X_test_df[encoding_col])\n",
        "        \n",
        "    # normalize\n",
        "    if normalize_method is not None:\n",
        "        normalizer = eval(normalize_method)()\n",
        "        X_train_df[normalize_cols] = normalizer.fit_transform(X_train_df[normalize_cols])\n",
        "        X_test_df[normalize_cols] = normalizer.transform(X_test_df[normalize_cols])\n",
        "    X_train_prepared, X_test_prepared = [], []\n",
        "    y_train_prepared, y_test_prepared = df.loc[y_train][y_feature].to_numpy(), df.loc[y_test][y_feature].to_numpy()\n",
        "    X_train_df, X_test_df = X_train_df.drop(columns=drop_features), X_test_df.drop(columns=drop_features)\n",
        "    for sequence in X_train:\n",
        "        sequence_df = X_train_df.loc[sequence]\n",
        "        X_train_prepared.append(sequence_df)\n",
        "    for sequence in X_test:\n",
        "        sequence_df = X_test_df.loc[sequence]\n",
        "        X_test_prepared.append(sequence_df)\n",
        "\n",
        "    return np.array(X_train_prepared), np.array(X_test_prepared), y_train_prepared, y_test_prepared, test_idx"
      ]
    },
    {
      "cell_type": "code",
      "execution_count": null,
      "metadata": {
        "colab": {
          "base_uri": "https://localhost:8080/"
        },
        "id": "VvX3QdISE5HG",
        "outputId": "94895db7-663b-4c28-933f-897e7101f845"
      },
      "outputs": [
        {
          "data": {
            "text/plain": [
              "['Free.Operating.Cash.Flow',\n",
              " 'Total.Debt.Outstanding',\n",
              " 'Total.Common.Shares.Outstanding',\n",
              " 'Cash.and.Equivalents',\n",
              " 'Net.Income',\n",
              " 'Interest.Expense',\n",
              " 'Short.Interest',\n",
              " 'Avg.Daily.Volume.30D',\n",
              " 'Current.Assets',\n",
              " 'Non.Current.Assets',\n",
              " 'Current.Liabilities',\n",
              " 'RSI.Exponential',\n",
              " 'MACD.Line1',\n",
              " 'Bollinger.Band,Width',\n",
              " 'Price.Mo.Volatility.T12M',\n",
              " 'CPIAUCSL',\n",
              " 'PPIACO',\n",
              " 'T10YIE',\n",
              " 'UNRATE',\n",
              " 'age']"
            ]
          },
          "execution_count": 17,
          "metadata": {},
          "output_type": "execute_result"
        }
      ],
      "source": [
        "drop_features = ['next_close', 'Stock', 'DATE', 'industry', 'sector_0', 'Month_sin', 'Month_cos', 'sector_3', 'T10YIE']\n",
        "# drop_features = ['pct_change_close', 'Stock', 'DATE', 'industry']\n",
        "y_feature = 'next_close'\n",
        "normalize_cols = fundamentals + technicals + macros_features\n",
        "normalize_cols.remove('T5YIE')\n",
        "normalize_cols.remove('PAYEMS')\n",
        "normalize_cols.extend(['age']) # if it's target-encoded, we normalize; otherwise, we don't\n",
        "normalize_cols"
      ]
    },
    {
      "cell_type": "code",
      "execution_count": null,
      "metadata": {
        "id": "kQC2OonxETBi"
      },
      "outputs": [],
      "source": [
        "test_idx = pd.read_pickle('/content/drive/Shareddrives/CFA project/data/test_idx.pkl')"
      ]
    },
    {
      "cell_type": "code",
      "execution_count": null,
      "metadata": {
        "id": "OAJ2lxHhEUFf"
      },
      "outputs": [],
      "source": [
        "test_idx.DATE.unique()"
      ]
    },
    {
      "cell_type": "code",
      "execution_count": null,
      "metadata": {
        "id": "qN2HYKvyJUh8"
      },
      "outputs": [],
      "source": [
        "test_idx"
      ]
    },
    {
      "cell_type": "code",
      "execution_count": null,
      "metadata": {
        "id": "uSohrMT4HmbE"
      },
      "outputs": [],
      "source": [
        "cap_columns = fundamentals + technicals"
      ]
    },
    {
      "cell_type": "code",
      "execution_count": null,
      "metadata": {
        "colab": {
          "base_uri": "https://localhost:8080/"
        },
        "id": "C1_CVqbwDlQp",
        "outputId": "d23d1805-8b27-45d1-cb05-65d763f282d6"
      },
      "outputs": [
        {
          "data": {
            "text/plain": [
              "((12168, 4, 21), (2028, 4, 21), (12168,), (2028,), (2028, 2))"
            ]
          },
          "execution_count": 20,
          "metadata": {},
          "output_type": "execute_result"
        }
      ],
      "source": [
        "X_train, X_test, y_train, y_test, test_idx = prepare_data(data=df_val, L=4, clip_outliers_cols=cap_columns, drop_features=drop_features, y_feature = y_feature, test_size='2019Q2', normalize_cols=normalize_cols, encoding_method='BinaryEncoder',\n",
        "                 train_test_split_type='date', normalize_method='StandardScaler',\n",
        "                 encoding_col='sector', sigma=0, random_seed=40)\n",
        "X_train.shape, X_test.shape, y_train.shape, y_test.shape, test_idx.shape"
      ]
    },
    {
      "cell_type": "code",
      "execution_count": null,
      "metadata": {
        "id": "Lmf_Ooi2ryCa"
      },
      "outputs": [],
      "source": [
        "X_train, X_val, y_train, y_val = train_test_split(X_train, y_train, test_size=0.2,\n",
        "                                                    random_state=40)"
      ]
    },
    {
      "cell_type": "code",
      "execution_count": null,
      "metadata": {
        "colab": {
          "base_uri": "https://localhost:8080/",
          "height": 423
        },
        "id": "jc-cHoFqr-sp",
        "outputId": "4864280c-9cf0-4836-fc34-6bed37143010"
      },
      "outputs": [
        {
          "output_type": "execute_result",
          "data": {
            "text/plain": [
              "       Stock    DATE\n",
              "16499    A.N  2020Q1\n",
              "17383    A.N  2020Q2\n",
              "17631    A.N  2020Q3\n",
              "16315  AAP.N  2020Q1\n",
              "17243  AAP.N  2020Q2\n",
              "...      ...     ...\n",
              "17519  ZBH.N  2020Q2\n",
              "17594  ZBH.N  2020Q3\n",
              "16488  ZTS.N  2020Q1\n",
              "17404  ZTS.N  2020Q2\n",
              "17905  ZTS.N  2020Q3\n",
              "\n",
              "[2028 rows x 2 columns]"
            ],
            "text/html": [
              "\n",
              "  <div id=\"df-1efa6135-aac6-4046-8c9a-00042a01d48a\">\n",
              "    <div class=\"colab-df-container\">\n",
              "      <div>\n",
              "<style scoped>\n",
              "    .dataframe tbody tr th:only-of-type {\n",
              "        vertical-align: middle;\n",
              "    }\n",
              "\n",
              "    .dataframe tbody tr th {\n",
              "        vertical-align: top;\n",
              "    }\n",
              "\n",
              "    .dataframe thead th {\n",
              "        text-align: right;\n",
              "    }\n",
              "</style>\n",
              "<table border=\"1\" class=\"dataframe\">\n",
              "  <thead>\n",
              "    <tr style=\"text-align: right;\">\n",
              "      <th></th>\n",
              "      <th>Stock</th>\n",
              "      <th>DATE</th>\n",
              "    </tr>\n",
              "  </thead>\n",
              "  <tbody>\n",
              "    <tr>\n",
              "      <th>16499</th>\n",
              "      <td>A.N</td>\n",
              "      <td>2020Q1</td>\n",
              "    </tr>\n",
              "    <tr>\n",
              "      <th>17383</th>\n",
              "      <td>A.N</td>\n",
              "      <td>2020Q2</td>\n",
              "    </tr>\n",
              "    <tr>\n",
              "      <th>17631</th>\n",
              "      <td>A.N</td>\n",
              "      <td>2020Q3</td>\n",
              "    </tr>\n",
              "    <tr>\n",
              "      <th>16315</th>\n",
              "      <td>AAP.N</td>\n",
              "      <td>2020Q1</td>\n",
              "    </tr>\n",
              "    <tr>\n",
              "      <th>17243</th>\n",
              "      <td>AAP.N</td>\n",
              "      <td>2020Q2</td>\n",
              "    </tr>\n",
              "    <tr>\n",
              "      <th>...</th>\n",
              "      <td>...</td>\n",
              "      <td>...</td>\n",
              "    </tr>\n",
              "    <tr>\n",
              "      <th>17519</th>\n",
              "      <td>ZBH.N</td>\n",
              "      <td>2020Q2</td>\n",
              "    </tr>\n",
              "    <tr>\n",
              "      <th>17594</th>\n",
              "      <td>ZBH.N</td>\n",
              "      <td>2020Q3</td>\n",
              "    </tr>\n",
              "    <tr>\n",
              "      <th>16488</th>\n",
              "      <td>ZTS.N</td>\n",
              "      <td>2020Q1</td>\n",
              "    </tr>\n",
              "    <tr>\n",
              "      <th>17404</th>\n",
              "      <td>ZTS.N</td>\n",
              "      <td>2020Q2</td>\n",
              "    </tr>\n",
              "    <tr>\n",
              "      <th>17905</th>\n",
              "      <td>ZTS.N</td>\n",
              "      <td>2020Q3</td>\n",
              "    </tr>\n",
              "  </tbody>\n",
              "</table>\n",
              "<p>2028 rows × 2 columns</p>\n",
              "</div>\n",
              "      <button class=\"colab-df-convert\" onclick=\"convertToInteractive('df-1efa6135-aac6-4046-8c9a-00042a01d48a')\"\n",
              "              title=\"Convert this dataframe to an interactive table.\"\n",
              "              style=\"display:none;\">\n",
              "        \n",
              "  <svg xmlns=\"http://www.w3.org/2000/svg\" height=\"24px\"viewBox=\"0 0 24 24\"\n",
              "       width=\"24px\">\n",
              "    <path d=\"M0 0h24v24H0V0z\" fill=\"none\"/>\n",
              "    <path d=\"M18.56 5.44l.94 2.06.94-2.06 2.06-.94-2.06-.94-.94-2.06-.94 2.06-2.06.94zm-11 1L8.5 8.5l.94-2.06 2.06-.94-2.06-.94L8.5 2.5l-.94 2.06-2.06.94zm10 10l.94 2.06.94-2.06 2.06-.94-2.06-.94-.94-2.06-.94 2.06-2.06.94z\"/><path d=\"M17.41 7.96l-1.37-1.37c-.4-.4-.92-.59-1.43-.59-.52 0-1.04.2-1.43.59L10.3 9.45l-7.72 7.72c-.78.78-.78 2.05 0 2.83L4 21.41c.39.39.9.59 1.41.59.51 0 1.02-.2 1.41-.59l7.78-7.78 2.81-2.81c.8-.78.8-2.07 0-2.86zM5.41 20L4 18.59l7.72-7.72 1.47 1.35L5.41 20z\"/>\n",
              "  </svg>\n",
              "      </button>\n",
              "      \n",
              "  <style>\n",
              "    .colab-df-container {\n",
              "      display:flex;\n",
              "      flex-wrap:wrap;\n",
              "      gap: 12px;\n",
              "    }\n",
              "\n",
              "    .colab-df-convert {\n",
              "      background-color: #E8F0FE;\n",
              "      border: none;\n",
              "      border-radius: 50%;\n",
              "      cursor: pointer;\n",
              "      display: none;\n",
              "      fill: #1967D2;\n",
              "      height: 32px;\n",
              "      padding: 0 0 0 0;\n",
              "      width: 32px;\n",
              "    }\n",
              "\n",
              "    .colab-df-convert:hover {\n",
              "      background-color: #E2EBFA;\n",
              "      box-shadow: 0px 1px 2px rgba(60, 64, 67, 0.3), 0px 1px 3px 1px rgba(60, 64, 67, 0.15);\n",
              "      fill: #174EA6;\n",
              "    }\n",
              "\n",
              "    [theme=dark] .colab-df-convert {\n",
              "      background-color: #3B4455;\n",
              "      fill: #D2E3FC;\n",
              "    }\n",
              "\n",
              "    [theme=dark] .colab-df-convert:hover {\n",
              "      background-color: #434B5C;\n",
              "      box-shadow: 0px 1px 3px 1px rgba(0, 0, 0, 0.15);\n",
              "      filter: drop-shadow(0px 1px 2px rgba(0, 0, 0, 0.3));\n",
              "      fill: #FFFFFF;\n",
              "    }\n",
              "  </style>\n",
              "\n",
              "      <script>\n",
              "        const buttonEl =\n",
              "          document.querySelector('#df-1efa6135-aac6-4046-8c9a-00042a01d48a button.colab-df-convert');\n",
              "        buttonEl.style.display =\n",
              "          google.colab.kernel.accessAllowed ? 'block' : 'none';\n",
              "\n",
              "        async function convertToInteractive(key) {\n",
              "          const element = document.querySelector('#df-1efa6135-aac6-4046-8c9a-00042a01d48a');\n",
              "          const dataTable =\n",
              "            await google.colab.kernel.invokeFunction('convertToInteractive',\n",
              "                                                     [key], {});\n",
              "          if (!dataTable) return;\n",
              "\n",
              "          const docLinkHtml = 'Like what you see? Visit the ' +\n",
              "            '<a target=\"_blank\" href=https://colab.research.google.com/notebooks/data_table.ipynb>data table notebook</a>'\n",
              "            + ' to learn more about interactive tables.';\n",
              "          element.innerHTML = '';\n",
              "          dataTable['output_type'] = 'display_data';\n",
              "          await google.colab.output.renderOutput(dataTable, element);\n",
              "          const docLink = document.createElement('div');\n",
              "          docLink.innerHTML = docLinkHtml;\n",
              "          element.appendChild(docLink);\n",
              "        }\n",
              "      </script>\n",
              "    </div>\n",
              "  </div>\n",
              "  "
            ]
          },
          "metadata": {},
          "execution_count": 48
        }
      ],
      "source": [
        "test_idx"
      ]
    },
    {
      "cell_type": "code",
      "source": [
        "test_idx2 = pd.read_pickle('/content/drive/Shareddrives/CFA project/data/test_idx.pkl')\n",
        "test_idx.equals(test_idx2)"
      ],
      "metadata": {
        "colab": {
          "base_uri": "https://localhost:8080/"
        },
        "id": "3Rll8DCk_7IU",
        "outputId": "c64ee6ff-6001-4e04-ce67-10e4fa51021c"
      },
      "execution_count": null,
      "outputs": [
        {
          "output_type": "execute_result",
          "data": {
            "text/plain": [
              "True"
            ]
          },
          "metadata": {},
          "execution_count": 49
        }
      ]
    },
    {
      "cell_type": "code",
      "source": [
        "test_idx2"
      ],
      "metadata": {
        "colab": {
          "base_uri": "https://localhost:8080/",
          "height": 423
        },
        "id": "5gd5l8ERANnO",
        "outputId": "6aa2c732-9ee8-4df9-a0aa-78ce6f8acbae"
      },
      "execution_count": null,
      "outputs": [
        {
          "output_type": "execute_result",
          "data": {
            "text/plain": [
              "       Stock    DATE\n",
              "16499    A.N  2020Q1\n",
              "17383    A.N  2020Q2\n",
              "17631    A.N  2020Q3\n",
              "16315  AAP.N  2020Q1\n",
              "17243  AAP.N  2020Q2\n",
              "...      ...     ...\n",
              "17519  ZBH.N  2020Q2\n",
              "17594  ZBH.N  2020Q3\n",
              "16488  ZTS.N  2020Q1\n",
              "17404  ZTS.N  2020Q2\n",
              "17905  ZTS.N  2020Q3\n",
              "\n",
              "[2028 rows x 2 columns]"
            ],
            "text/html": [
              "\n",
              "  <div id=\"df-56993751-4bcb-443b-9d00-cd406834a428\">\n",
              "    <div class=\"colab-df-container\">\n",
              "      <div>\n",
              "<style scoped>\n",
              "    .dataframe tbody tr th:only-of-type {\n",
              "        vertical-align: middle;\n",
              "    }\n",
              "\n",
              "    .dataframe tbody tr th {\n",
              "        vertical-align: top;\n",
              "    }\n",
              "\n",
              "    .dataframe thead th {\n",
              "        text-align: right;\n",
              "    }\n",
              "</style>\n",
              "<table border=\"1\" class=\"dataframe\">\n",
              "  <thead>\n",
              "    <tr style=\"text-align: right;\">\n",
              "      <th></th>\n",
              "      <th>Stock</th>\n",
              "      <th>DATE</th>\n",
              "    </tr>\n",
              "  </thead>\n",
              "  <tbody>\n",
              "    <tr>\n",
              "      <th>16499</th>\n",
              "      <td>A.N</td>\n",
              "      <td>2020Q1</td>\n",
              "    </tr>\n",
              "    <tr>\n",
              "      <th>17383</th>\n",
              "      <td>A.N</td>\n",
              "      <td>2020Q2</td>\n",
              "    </tr>\n",
              "    <tr>\n",
              "      <th>17631</th>\n",
              "      <td>A.N</td>\n",
              "      <td>2020Q3</td>\n",
              "    </tr>\n",
              "    <tr>\n",
              "      <th>16315</th>\n",
              "      <td>AAP.N</td>\n",
              "      <td>2020Q1</td>\n",
              "    </tr>\n",
              "    <tr>\n",
              "      <th>17243</th>\n",
              "      <td>AAP.N</td>\n",
              "      <td>2020Q2</td>\n",
              "    </tr>\n",
              "    <tr>\n",
              "      <th>...</th>\n",
              "      <td>...</td>\n",
              "      <td>...</td>\n",
              "    </tr>\n",
              "    <tr>\n",
              "      <th>17519</th>\n",
              "      <td>ZBH.N</td>\n",
              "      <td>2020Q2</td>\n",
              "    </tr>\n",
              "    <tr>\n",
              "      <th>17594</th>\n",
              "      <td>ZBH.N</td>\n",
              "      <td>2020Q3</td>\n",
              "    </tr>\n",
              "    <tr>\n",
              "      <th>16488</th>\n",
              "      <td>ZTS.N</td>\n",
              "      <td>2020Q1</td>\n",
              "    </tr>\n",
              "    <tr>\n",
              "      <th>17404</th>\n",
              "      <td>ZTS.N</td>\n",
              "      <td>2020Q2</td>\n",
              "    </tr>\n",
              "    <tr>\n",
              "      <th>17905</th>\n",
              "      <td>ZTS.N</td>\n",
              "      <td>2020Q3</td>\n",
              "    </tr>\n",
              "  </tbody>\n",
              "</table>\n",
              "<p>2028 rows × 2 columns</p>\n",
              "</div>\n",
              "      <button class=\"colab-df-convert\" onclick=\"convertToInteractive('df-56993751-4bcb-443b-9d00-cd406834a428')\"\n",
              "              title=\"Convert this dataframe to an interactive table.\"\n",
              "              style=\"display:none;\">\n",
              "        \n",
              "  <svg xmlns=\"http://www.w3.org/2000/svg\" height=\"24px\"viewBox=\"0 0 24 24\"\n",
              "       width=\"24px\">\n",
              "    <path d=\"M0 0h24v24H0V0z\" fill=\"none\"/>\n",
              "    <path d=\"M18.56 5.44l.94 2.06.94-2.06 2.06-.94-2.06-.94-.94-2.06-.94 2.06-2.06.94zm-11 1L8.5 8.5l.94-2.06 2.06-.94-2.06-.94L8.5 2.5l-.94 2.06-2.06.94zm10 10l.94 2.06.94-2.06 2.06-.94-2.06-.94-.94-2.06-.94 2.06-2.06.94z\"/><path d=\"M17.41 7.96l-1.37-1.37c-.4-.4-.92-.59-1.43-.59-.52 0-1.04.2-1.43.59L10.3 9.45l-7.72 7.72c-.78.78-.78 2.05 0 2.83L4 21.41c.39.39.9.59 1.41.59.51 0 1.02-.2 1.41-.59l7.78-7.78 2.81-2.81c.8-.78.8-2.07 0-2.86zM5.41 20L4 18.59l7.72-7.72 1.47 1.35L5.41 20z\"/>\n",
              "  </svg>\n",
              "      </button>\n",
              "      \n",
              "  <style>\n",
              "    .colab-df-container {\n",
              "      display:flex;\n",
              "      flex-wrap:wrap;\n",
              "      gap: 12px;\n",
              "    }\n",
              "\n",
              "    .colab-df-convert {\n",
              "      background-color: #E8F0FE;\n",
              "      border: none;\n",
              "      border-radius: 50%;\n",
              "      cursor: pointer;\n",
              "      display: none;\n",
              "      fill: #1967D2;\n",
              "      height: 32px;\n",
              "      padding: 0 0 0 0;\n",
              "      width: 32px;\n",
              "    }\n",
              "\n",
              "    .colab-df-convert:hover {\n",
              "      background-color: #E2EBFA;\n",
              "      box-shadow: 0px 1px 2px rgba(60, 64, 67, 0.3), 0px 1px 3px 1px rgba(60, 64, 67, 0.15);\n",
              "      fill: #174EA6;\n",
              "    }\n",
              "\n",
              "    [theme=dark] .colab-df-convert {\n",
              "      background-color: #3B4455;\n",
              "      fill: #D2E3FC;\n",
              "    }\n",
              "\n",
              "    [theme=dark] .colab-df-convert:hover {\n",
              "      background-color: #434B5C;\n",
              "      box-shadow: 0px 1px 3px 1px rgba(0, 0, 0, 0.15);\n",
              "      filter: drop-shadow(0px 1px 2px rgba(0, 0, 0, 0.3));\n",
              "      fill: #FFFFFF;\n",
              "    }\n",
              "  </style>\n",
              "\n",
              "      <script>\n",
              "        const buttonEl =\n",
              "          document.querySelector('#df-56993751-4bcb-443b-9d00-cd406834a428 button.colab-df-convert');\n",
              "        buttonEl.style.display =\n",
              "          google.colab.kernel.accessAllowed ? 'block' : 'none';\n",
              "\n",
              "        async function convertToInteractive(key) {\n",
              "          const element = document.querySelector('#df-56993751-4bcb-443b-9d00-cd406834a428');\n",
              "          const dataTable =\n",
              "            await google.colab.kernel.invokeFunction('convertToInteractive',\n",
              "                                                     [key], {});\n",
              "          if (!dataTable) return;\n",
              "\n",
              "          const docLinkHtml = 'Like what you see? Visit the ' +\n",
              "            '<a target=\"_blank\" href=https://colab.research.google.com/notebooks/data_table.ipynb>data table notebook</a>'\n",
              "            + ' to learn more about interactive tables.';\n",
              "          element.innerHTML = '';\n",
              "          dataTable['output_type'] = 'display_data';\n",
              "          await google.colab.output.renderOutput(dataTable, element);\n",
              "          const docLink = document.createElement('div');\n",
              "          docLink.innerHTML = docLinkHtml;\n",
              "          element.appendChild(docLink);\n",
              "        }\n",
              "      </script>\n",
              "    </div>\n",
              "  </div>\n",
              "  "
            ]
          },
          "metadata": {},
          "execution_count": 50
        }
      ]
    },
    {
      "cell_type": "code",
      "execution_count": null,
      "metadata": {
        "id": "9Sf2ZYKj70o1"
      },
      "outputs": [],
      "source": [
        "import torch\n",
        "from typing_extensions import ParamSpecArgs\n",
        "from torch.utils.data import Dataset\n",
        "from torchvision import datasets\n",
        "from torch.utils.data import DataLoader"
      ]
    },
    {
      "cell_type": "code",
      "execution_count": null,
      "metadata": {
        "colab": {
          "base_uri": "https://localhost:8080/",
          "height": 186
        },
        "id": "ICiAcfDknXpi",
        "outputId": "1d3732d7-ab2f-418f-9855-a7a8825e936c"
      },
      "outputs": [
        {
          "ename": "NameError",
          "evalue": "ignored",
          "output_type": "error",
          "traceback": [
            "\u001b[0;31m---------------------------------------------------------------------------\u001b[0m",
            "\u001b[0;31mNameError\u001b[0m                                 Traceback (most recent call last)",
            "\u001b[0;32m<ipython-input-48-878bf7cae176>\u001b[0m in \u001b[0;36m<module>\u001b[0;34m()\u001b[0m\n\u001b[0;32m----> 1\u001b[0;31m \u001b[0mX_train\u001b[0m\u001b[0;34m,\u001b[0m \u001b[0mX_val\u001b[0m\u001b[0;34m,\u001b[0m \u001b[0mX_test\u001b[0m\u001b[0;34m,\u001b[0m \u001b[0my_train\u001b[0m\u001b[0;34m,\u001b[0m \u001b[0my_val\u001b[0m\u001b[0;34m,\u001b[0m \u001b[0my_test\u001b[0m \u001b[0;34m=\u001b[0m \u001b[0mtorch\u001b[0m\u001b[0;34m.\u001b[0m\u001b[0mtensor\u001b[0m\u001b[0;34m(\u001b[0m\u001b[0mX_train\u001b[0m\u001b[0;34m,\u001b[0m \u001b[0mdtype\u001b[0m\u001b[0;34m=\u001b[0m\u001b[0mtorch\u001b[0m\u001b[0;34m.\u001b[0m\u001b[0mdouble\u001b[0m\u001b[0;34m)\u001b[0m\u001b[0;34m,\u001b[0m \u001b[0mtorch\u001b[0m\u001b[0;34m.\u001b[0m\u001b[0mtensor\u001b[0m\u001b[0;34m(\u001b[0m\u001b[0mX_val\u001b[0m\u001b[0;34m,\u001b[0m \u001b[0mdtype\u001b[0m\u001b[0;34m=\u001b[0m\u001b[0mtorch\u001b[0m\u001b[0;34m.\u001b[0m\u001b[0mdouble\u001b[0m\u001b[0;34m)\u001b[0m\u001b[0;34m,\u001b[0m \u001b[0mtorch\u001b[0m\u001b[0;34m.\u001b[0m\u001b[0mtensor\u001b[0m\u001b[0;34m(\u001b[0m\u001b[0mX_test\u001b[0m\u001b[0;34m,\u001b[0m \u001b[0mdtype\u001b[0m\u001b[0;34m=\u001b[0m\u001b[0mtorch\u001b[0m\u001b[0;34m.\u001b[0m\u001b[0mdouble\u001b[0m\u001b[0;34m)\u001b[0m\u001b[0;34m,\u001b[0m \u001b[0mtorch\u001b[0m\u001b[0;34m.\u001b[0m\u001b[0mtensor\u001b[0m\u001b[0;34m(\u001b[0m\u001b[0my_train\u001b[0m\u001b[0;34m,\u001b[0m \u001b[0mdtype\u001b[0m\u001b[0;34m=\u001b[0m\u001b[0mtorch\u001b[0m\u001b[0;34m.\u001b[0m\u001b[0mdouble\u001b[0m\u001b[0;34m)\u001b[0m\u001b[0;34m,\u001b[0m \u001b[0mtorch\u001b[0m\u001b[0;34m.\u001b[0m\u001b[0mtensor\u001b[0m\u001b[0;34m(\u001b[0m\u001b[0my_val\u001b[0m\u001b[0;34m,\u001b[0m \u001b[0mdtype\u001b[0m\u001b[0;34m=\u001b[0m\u001b[0mtorch\u001b[0m\u001b[0;34m.\u001b[0m\u001b[0mdouble\u001b[0m\u001b[0;34m)\u001b[0m\u001b[0;34m,\u001b[0m \u001b[0mtorch\u001b[0m\u001b[0;34m.\u001b[0m\u001b[0mtensor\u001b[0m\u001b[0;34m(\u001b[0m\u001b[0my_test\u001b[0m\u001b[0;34m,\u001b[0m \u001b[0mdtype\u001b[0m\u001b[0;34m=\u001b[0m\u001b[0mtorch\u001b[0m\u001b[0;34m.\u001b[0m\u001b[0mdouble\u001b[0m\u001b[0;34m)\u001b[0m\u001b[0;34m\u001b[0m\u001b[0;34m\u001b[0m\u001b[0m\n\u001b[0m",
            "\u001b[0;31mNameError\u001b[0m: name 'X_val' is not defined"
          ]
        }
      ],
      "source": [
        "X_train, X_val, X_test, y_train, y_val, y_test = torch.tensor(X_train, dtype=torch.double), torch.tensor(X_val, dtype=torch.double), torch.tensor(X_test, dtype=torch.double), torch.tensor(y_train, dtype=torch.double), torch.tensor(y_val, dtype=torch.double), torch.tensor(y_test, dtype=torch.double)"
      ]
    },
    {
      "cell_type": "code",
      "execution_count": null,
      "metadata": {
        "id": "fc1dr6L1CdVR"
      },
      "outputs": [],
      "source": [
        "X_train, X_test, y_train, y_test = torch.tensor(X_train, dtype=torch.double), torch.tensor(X_test, dtype=torch.double), torch.tensor(y_train, dtype=torch.double), torch.tensor(y_test, dtype=torch.double)"
      ]
    },
    {
      "cell_type": "code",
      "execution_count": null,
      "metadata": {
        "id": "w5xrbnCr3slW"
      },
      "outputs": [],
      "source": [
        "class LSTMDataset(Dataset):\n",
        "  def __init__(self, X,y):\n",
        "    self.X = X\n",
        "    self.y = y\n",
        "\n",
        "  def __len__(self):\n",
        "    return len(self.y)\n",
        "  \n",
        "  def __getitem__(self, index):\n",
        "    return self.X[index], self.y[index]"
      ]
    },
    {
      "cell_type": "markdown",
      "metadata": {
        "id": "8ucru12u-I2l"
      },
      "source": [
        "Build the LSTM model\n",
        "##### reference: https://blog.floydhub.com/long-short-term-memory-from-zero-to-hero-with-pytorch/"
      ]
    },
    {
      "cell_type": "code",
      "execution_count": null,
      "metadata": {
        "id": "W8BXXJbL-LJq"
      },
      "outputs": [],
      "source": [
        "class LSTMV1(torch.nn.Module):\n",
        "  def __init__(self, n_hidden, n_features, seq_length, n_layers) -> None:\n",
        "      super(LSTMV1, self).__init__()\n",
        "      self.n_hidden = n_hidden\n",
        "      self.n_features = n_features\n",
        "      self.seq_length = seq_length\n",
        "      self.n_layers = n_layers\n",
        "      self.lstm = torch.nn.LSTM(input_size = self.n_features, hidden_size=self.n_hidden, num_layers=self.n_layers, batch_first=True)\n",
        "      self.fc1 = torch.nn.Linear(in_features=self.n_hidden * self.seq_length, out_features=1)\n",
        "\n",
        "  def forward(self, x):\n",
        "    out, _ = self.lstm(x)\n",
        "    out = self.fc1(out.contiguous().view(x.shape[0], -1))\n",
        "    return out"
      ]
    },
    {
      "cell_type": "code",
      "execution_count": null,
      "metadata": {
        "id": "avkpi6dPW1pl"
      },
      "outputs": [],
      "source": [
        "class LSTMV2(torch.nn.Module):\n",
        "  def __init__(self, n_hidden, n_features, seq_length, n_layers) -> None:\n",
        "      super(LSTMV2, self).__init__()\n",
        "      self.n_hidden = n_hidden\n",
        "      self.n_features = n_features\n",
        "      self.seq_length = seq_length\n",
        "      self.n_layers = n_layers\n",
        "      self.lstm = torch.nn.LSTM(input_size = self.n_features, hidden_size=self.n_hidden, num_layers=self.n_layers, batch_first=True)\n",
        "      self.fc1 = torch.nn.Linear(in_features=self.n_hidden * self.seq_length, out_features=1)\n",
        "  \n",
        "  def init_hidden(self, batch_size):\n",
        "    hidden_state = torch.zeros(self.n_layers,batch_size,self.n_hidden).double()\n",
        "    cell_state = torch.zeros(self.n_layers,batch_size,self.n_hidden).double()\n",
        "    return (hidden_state, cell_state)\n",
        "\n",
        "  def forward(self, x, hidden):\n",
        "    out, _ = self.lstm(x, hidden)\n",
        "    out = self.fc1(out.contiguous().view(x.shape[0], -1))\n",
        "    return out, hidden"
      ]
    },
    {
      "cell_type": "code",
      "execution_count": null,
      "metadata": {
        "id": "C0XHBbRwukwM"
      },
      "outputs": [],
      "source": [
        "class LSTMV3(torch.nn.Module):\n",
        "  def __init__(self, n_hidden, n_features, seq_length, n_layers) -> None:\n",
        "      super(LSTMV3, self).__init__()\n",
        "      self.n_hidden = n_hidden\n",
        "      self.n_features = n_features\n",
        "      self.seq_length = seq_length\n",
        "      self.n_layers = n_layers\n",
        "      self.lstm = torch.nn.LSTM(input_size = self.n_features, hidden_size=self.n_hidden, num_layers=self.n_layers, batch_first=True)\n",
        "      self.fc = nn.Sequential(torch.nn.Linear(in_features=self.n_hidden * self.seq_length, out_features=self.n_hidden * self.seq_length),\n",
        "                              nn.ReLU(),\n",
        "                              nn.Dropout(0.25),\n",
        "                              torch.nn.Linear(in_features=self.n_hidden * self.seq_length, out_features=1))\n",
        "\n",
        "  \n",
        "  def init_hidden(self, batch_size):\n",
        "    hidden_state = torch.zeros(self.n_layers,batch_size,self.n_hidden).double()\n",
        "    cell_state = torch.zeros(self.n_layers,batch_size,self.n_hidden).double()\n",
        "    return (hidden_state, cell_state)\n",
        "\n",
        "  def forward(self, x, hidden):\n",
        "    out, _ = self.lstm(x, hidden)\n",
        "    out = self.fc(out.contiguous().view(x.shape[0], -1))\n",
        "    return out, hidden"
      ]
    },
    {
      "cell_type": "markdown",
      "metadata": {
        "id": "R9QjlpTn-EmZ"
      },
      "source": [
        "Specify parameters"
      ]
    },
    {
      "cell_type": "code",
      "execution_count": null,
      "metadata": {
        "colab": {
          "base_uri": "https://localhost:8080/"
        },
        "id": "HI0aChqjJPq2",
        "outputId": "ddd84fb5-9559-44e2-f1ea-ca851c3496fb"
      },
      "outputs": [
        {
          "output_type": "execute_result",
          "data": {
            "text/plain": [
              "(40, 21, 4, 1)"
            ]
          },
          "metadata": {},
          "execution_count": 43
        }
      ],
      "source": [
        "# Tunables\n",
        "n_hidden = 40\n",
        "n_features = X_train.shape[2]\n",
        "seq_length = X_train.shape[1]\n",
        "n_layers = 1\n",
        "n_hidden, n_features, seq_length, n_layers"
      ]
    },
    {
      "cell_type": "markdown",
      "metadata": {
        "id": "3PoNsRoMoClg"
      },
      "source": [
        "Initiate training"
      ]
    },
    {
      "cell_type": "code",
      "execution_count": null,
      "metadata": {
        "id": "yLbmMT__n9Xv"
      },
      "outputs": [],
      "source": [
        "lr = 0.001\n",
        "batch_size = 16\n",
        "epochs = 400\n",
        "clip = 5\n",
        "print_every = 1000\n",
        "valid_loss_min = np.Inf\n",
        "\n",
        "model = LSTMV3(n_hidden=n_hidden, n_features=n_features, seq_length=seq_length, n_layers=n_layers).double()\n",
        "criterion = torch.nn.MSELoss()\n",
        "# optimizer = torch.optim.Adam(lstmv2.parameters(), lr=lr)\n",
        "optimizer = torch.optim.SGD(model.parameters(), lr=lr, momentum=0.9)\n",
        "\n",
        "train_dataloader = DataLoader(LSTMDataset(X_train, y_train), batch_size = batch_size, shuffle=True, drop_last=True)\n",
        "# val_dataloader = DataLoader(LSTMDataset(X_val, y_val), batch_size = batch_size, shuffle=True, drop_last=True)\n",
        "test_dataloader = DataLoader(LSTMDataset(X_test, y_test), batch_size = batch_size, shuffle=True, drop_last=True)"
      ]
    },
    {
      "cell_type": "markdown",
      "metadata": {
        "id": "8VVHSy1ItMPX"
      },
      "source": [
        "Training"
      ]
    },
    {
      "cell_type": "code",
      "execution_count": null,
      "metadata": {
        "colab": {
          "background_save": true,
          "base_uri": "https://localhost:8080/"
        },
        "id": "b1MI2wwTOqlR",
        "outputId": "c53722ce-84be-49a2-ffd6-634fbbf8382e"
      },
      "outputs": [
        {
          "name": "stdout",
          "output_type": "stream",
          "text": [
            "Epoch: 1/400... Loss: 502.152836... Val Loss: 1034.323527\n",
            "Validation loss decreased (inf --> 1034.323527).  Saving model ...\n",
            "Epoch: 2/400... Loss: 294.510920... Val Loss: 844.932741\n",
            "Validation loss decreased (1034.323527 --> 844.932741).  Saving model ...\n",
            "Epoch: 3/400... Loss: 229.201526... Val Loss: 743.194540\n",
            "Validation loss decreased (844.932741 --> 743.194540).  Saving model ...\n",
            "Epoch: 4/400... Loss: 196.102594... Val Loss: 694.781305\n",
            "Validation loss decreased (743.194540 --> 694.781305).  Saving model ...\n",
            "Epoch: 5/400... Loss: 159.715692... Val Loss: 599.688315\n",
            "Validation loss decreased (694.781305 --> 599.688315).  Saving model ...\n",
            "Epoch: 6/400... Loss: 141.961140... Val Loss: 583.443078\n",
            "Validation loss decreased (599.688315 --> 583.443078).  Saving model ...\n",
            "Epoch: 7/400... Loss: 130.166837... Val Loss: 576.110824\n",
            "Validation loss decreased (583.443078 --> 576.110824).  Saving model ...\n",
            "Epoch: 8/400... Loss: 114.969989... Val Loss: 559.955403\n",
            "Validation loss decreased (576.110824 --> 559.955403).  Saving model ...\n",
            "Epoch: 9/400... Loss: 118.900421... Val Loss: 535.712829\n",
            "Validation loss decreased (559.955403 --> 535.712829).  Saving model ...\n",
            "Epoch: 10/400... Loss: 105.881537... Val Loss: 551.717511\n",
            "Epoch: 11/400... Loss: 99.762229... Val Loss: 532.571228\n",
            "Validation loss decreased (535.712829 --> 532.571228).  Saving model ...\n",
            "Epoch: 12/400... Loss: 95.460732... Val Loss: 533.713242\n",
            "Epoch: 13/400... Loss: 90.688113... Val Loss: 539.372714\n",
            "Epoch: 14/400... Loss: 96.077833... Val Loss: 541.888170\n",
            "Epoch: 15/400... Loss: 88.668751... Val Loss: 550.294305\n",
            "Epoch: 16/400... Loss: 84.991207... Val Loss: 552.860853\n",
            "Epoch: 17/400... Loss: 77.178809... Val Loss: 507.900454\n",
            "Validation loss decreased (532.571228 --> 507.900454).  Saving model ...\n",
            "Epoch: 18/400... Loss: 67.858349... Val Loss: 523.044365\n",
            "Epoch: 19/400... Loss: 76.541059... Val Loss: 568.729613\n",
            "Epoch: 20/400... Loss: 76.858940... Val Loss: 525.548201\n",
            "Epoch: 21/400... Loss: 70.127871... Val Loss: 540.776210\n",
            "Epoch: 22/400... Loss: 74.997531... Val Loss: 555.766123\n",
            "Epoch: 23/400... Loss: 70.149214... Val Loss: 533.809994\n",
            "Epoch: 24/400... Loss: 63.394041... Val Loss: 535.705478\n",
            "Epoch: 25/400... Loss: 63.222827... Val Loss: 530.544567\n",
            "Epoch: 26/400... Loss: 59.842062... Val Loss: 565.663161\n",
            "Epoch: 27/400... Loss: 63.891386... Val Loss: 584.237197\n",
            "Epoch: 28/400... Loss: 60.373973... Val Loss: 566.267992\n",
            "Epoch: 29/400... Loss: 59.846517... Val Loss: 582.975490\n",
            "Epoch: 30/400... Loss: 61.098170... Val Loss: 539.710208\n",
            "Epoch: 31/400... Loss: 55.474268... Val Loss: 545.316224\n",
            "Epoch: 32/400... Loss: 61.402082... Val Loss: 512.361140\n",
            "Epoch: 33/400... Loss: 54.081460... Val Loss: 581.172990\n",
            "Epoch: 34/400... Loss: 49.600416... Val Loss: 545.433624\n",
            "Epoch: 35/400... Loss: 50.801070... Val Loss: 553.130907\n",
            "Epoch: 36/400... Loss: 56.359763... Val Loss: 559.964506\n",
            "Epoch: 37/400... Loss: 45.558804... Val Loss: 507.866757\n",
            "Validation loss decreased (507.900454 --> 507.866757).  Saving model ...\n",
            "Epoch: 38/400... Loss: 49.882245... Val Loss: 502.340826\n",
            "Validation loss decreased (507.866757 --> 502.340826).  Saving model ...\n",
            "Epoch: 39/400... Loss: 51.805485... Val Loss: 497.931874\n",
            "Validation loss decreased (502.340826 --> 497.931874).  Saving model ...\n",
            "Epoch: 40/400... Loss: 53.789293... Val Loss: 524.043077\n",
            "Epoch: 41/400... Loss: 51.793783... Val Loss: 505.172754\n",
            "Epoch: 42/400... Loss: 43.797044... Val Loss: 509.247182\n",
            "Epoch: 43/400... Loss: 44.591318... Val Loss: 526.669760\n",
            "Epoch: 44/400... Loss: 45.657479... Val Loss: 478.740713\n",
            "Validation loss decreased (497.931874 --> 478.740713).  Saving model ...\n",
            "Epoch: 45/400... Loss: 46.417678... Val Loss: 470.574890\n",
            "Validation loss decreased (478.740713 --> 470.574890).  Saving model ...\n",
            "Epoch: 46/400... Loss: 46.885332... Val Loss: 455.028932\n",
            "Validation loss decreased (470.574890 --> 455.028932).  Saving model ...\n",
            "Epoch: 47/400... Loss: 40.639369... Val Loss: 465.625962\n",
            "Epoch: 48/400... Loss: 44.167494... Val Loss: 465.528924\n",
            "Epoch: 49/400... Loss: 41.797353... Val Loss: 454.180531\n",
            "Validation loss decreased (455.028932 --> 454.180531).  Saving model ...\n",
            "Epoch: 50/400... Loss: 37.683735... Val Loss: 464.436044\n",
            "Epoch: 51/400... Loss: 42.896729... Val Loss: 427.730543\n",
            "Validation loss decreased (454.180531 --> 427.730543).  Saving model ...\n",
            "Epoch: 52/400... Loss: 38.553493... Val Loss: 479.057088\n",
            "Epoch: 53/400... Loss: 40.922877... Val Loss: 455.155127\n",
            "Epoch: 54/400... Loss: 41.248354... Val Loss: 464.055755\n",
            "Epoch: 55/400... Loss: 35.990391... Val Loss: 464.859984\n",
            "Epoch: 56/400... Loss: 39.728183... Val Loss: 432.543623\n",
            "Epoch: 57/400... Loss: 39.379394... Val Loss: 468.414174\n",
            "Epoch: 58/400... Loss: 42.151438... Val Loss: 518.169015\n",
            "Epoch: 59/400... Loss: 39.391931... Val Loss: 476.974470\n",
            "Epoch: 60/400... Loss: 37.087357... Val Loss: 448.271335\n",
            "Epoch: 61/400... Loss: 38.205522... Val Loss: 458.507595\n",
            "Epoch: 62/400... Loss: 38.272725... Val Loss: 467.923478\n",
            "Epoch: 63/400... Loss: 34.566035... Val Loss: 500.962321\n",
            "Epoch: 64/400... Loss: 40.424978... Val Loss: 466.632661\n",
            "Epoch: 65/400... Loss: 41.928029... Val Loss: 452.348288\n",
            "Epoch: 66/400... Loss: 44.848890... Val Loss: 431.411789\n",
            "Epoch: 67/400... Loss: 34.275303... Val Loss: 451.767398\n",
            "Epoch: 68/400... Loss: 37.754826... Val Loss: 458.759125\n",
            "Epoch: 69/400... Loss: 30.456346... Val Loss: 469.199235\n",
            "Epoch: 70/400... Loss: 35.523988... Val Loss: 424.664213\n",
            "Validation loss decreased (427.730543 --> 424.664213).  Saving model ...\n",
            "Epoch: 71/400... Loss: 38.575130... Val Loss: 462.509496\n",
            "Epoch: 72/400... Loss: 35.847199... Val Loss: 524.306005\n",
            "Epoch: 73/400... Loss: 30.067999... Val Loss: 451.216900\n",
            "Epoch: 74/400... Loss: 31.679327... Val Loss: 429.672114\n",
            "Epoch: 75/400... Loss: 33.380165... Val Loss: 404.940509\n",
            "Validation loss decreased (424.664213 --> 404.940509).  Saving model ...\n",
            "Epoch: 76/400... Loss: 32.480103... Val Loss: 424.919529\n",
            "Epoch: 77/400... Loss: 31.589083... Val Loss: 438.010955\n",
            "Epoch: 78/400... Loss: 30.483594... Val Loss: 441.699506\n",
            "Epoch: 79/400... Loss: 31.041330... Val Loss: 458.796185\n",
            "Epoch: 80/400... Loss: 39.223279... Val Loss: 436.493273\n",
            "Epoch: 81/400... Loss: 34.751501... Val Loss: 460.383124\n",
            "Epoch: 82/400... Loss: 31.703876... Val Loss: 452.627143\n",
            "Epoch: 83/400... Loss: 33.082010... Val Loss: 440.797385\n",
            "Epoch: 84/400... Loss: 32.090386... Val Loss: 470.418234\n",
            "Epoch: 85/400... Loss: 37.737170... Val Loss: 452.137227\n",
            "Epoch: 86/400... Loss: 27.818352... Val Loss: 416.745128\n",
            "Epoch: 87/400... Loss: 34.956792... Val Loss: 474.594574\n",
            "Epoch: 88/400... Loss: 29.657060... Val Loss: 465.498991\n",
            "Epoch: 89/400... Loss: 26.553476... Val Loss: 478.642688\n",
            "Epoch: 90/400... Loss: 28.485506... Val Loss: 445.714924\n",
            "Epoch: 91/400... Loss: 34.076530... Val Loss: 458.816914\n",
            "Epoch: 92/400... Loss: 35.399983... Val Loss: 442.406880\n",
            "Epoch: 93/400... Loss: 29.475194... Val Loss: 481.191870\n",
            "Epoch: 94/400... Loss: 31.904208... Val Loss: 486.551502\n",
            "Epoch: 95/400... Loss: 27.501944... Val Loss: 468.320575\n",
            "Epoch: 96/400... Loss: 32.675849... Val Loss: 480.259326\n",
            "Epoch: 97/400... Loss: 34.615059... Val Loss: 445.933245\n",
            "Epoch: 98/400... Loss: 30.592985... Val Loss: 454.709116\n",
            "Epoch: 99/400... Loss: 32.265109... Val Loss: 516.029919\n",
            "Epoch: 100/400... Loss: 26.471326... Val Loss: 484.670079\n",
            "Epoch: 101/400... Loss: 38.446352... Val Loss: 469.289610\n",
            "Epoch: 102/400... Loss: 28.419101... Val Loss: 490.069604\n",
            "Epoch: 103/400... Loss: 34.800966... Val Loss: 488.184787\n",
            "Epoch: 104/400... Loss: 33.542030... Val Loss: 477.945900\n",
            "Epoch: 105/400... Loss: 35.447322... Val Loss: 500.296198\n",
            "Epoch: 106/400... Loss: 33.200821... Val Loss: 489.502661\n",
            "Epoch: 107/400... Loss: 27.809738... Val Loss: 480.165710\n",
            "Epoch: 108/400... Loss: 33.691431... Val Loss: 476.795944\n",
            "Epoch: 109/400... Loss: 27.480605... Val Loss: 497.272181\n",
            "Epoch: 110/400... Loss: 31.607327... Val Loss: 506.827845\n",
            "Epoch: 111/400... Loss: 32.607444... Val Loss: 451.293452\n",
            "Epoch: 112/400... Loss: 28.031135... Val Loss: 508.916103\n",
            "Epoch: 113/400... Loss: 29.642286... Val Loss: 462.038581\n",
            "Epoch: 114/400... Loss: 29.641980... Val Loss: 437.274060\n",
            "Epoch: 115/400... Loss: 30.577642... Val Loss: 454.614614\n",
            "Epoch: 116/400... Loss: 28.851281... Val Loss: 470.640893\n",
            "Epoch: 117/400... Loss: 27.899921... Val Loss: 470.339706\n",
            "Epoch: 118/400... Loss: 27.600049... Val Loss: 452.840540\n",
            "Epoch: 119/400... Loss: 30.027102... Val Loss: 491.120250\n",
            "Epoch: 120/400... Loss: 26.297094... Val Loss: 451.135916\n",
            "Epoch: 121/400... Loss: 29.874994... Val Loss: 458.195886\n",
            "Epoch: 122/400... Loss: 26.628626... Val Loss: 467.568775\n",
            "Epoch: 123/400... Loss: 30.492472... Val Loss: 462.571319\n",
            "Epoch: 124/400... Loss: 29.641196... Val Loss: 459.230024\n",
            "Epoch: 125/400... Loss: 22.950374... Val Loss: 462.512781\n",
            "Epoch: 126/400... Loss: 25.909027... Val Loss: 453.221526\n",
            "Epoch: 127/400... Loss: 26.466612... Val Loss: 484.006319\n",
            "Epoch: 128/400... Loss: 30.261441... Val Loss: 457.925768\n",
            "Epoch: 129/400... Loss: 29.534829... Val Loss: 482.606448\n",
            "Epoch: 130/400... Loss: 28.117895... Val Loss: 501.830311\n",
            "Epoch: 131/400... Loss: 22.824596... Val Loss: 480.569736\n",
            "Epoch: 132/400... Loss: 28.745144... Val Loss: 457.522648\n",
            "Epoch: 133/400... Loss: 24.687939... Val Loss: 465.604791\n",
            "Epoch: 134/400... Loss: 25.991718... Val Loss: 461.189740\n",
            "Epoch: 135/400... Loss: 25.674262... Val Loss: 527.377096\n",
            "Epoch: 136/400... Loss: 28.470245... Val Loss: 516.676011\n",
            "Epoch: 137/400... Loss: 40.199329... Val Loss: 508.757210\n",
            "Epoch: 138/400... Loss: 26.043421... Val Loss: 481.766129\n",
            "Epoch: 139/400... Loss: 27.703638... Val Loss: 489.408212\n",
            "Epoch: 140/400... Loss: 24.135515... Val Loss: 476.346867\n",
            "Epoch: 141/400... Loss: 26.410311... Val Loss: 470.295189\n",
            "Epoch: 142/400... Loss: 26.518373... Val Loss: 494.486900\n",
            "Epoch: 143/400... Loss: 25.171701... Val Loss: 481.848389\n",
            "Epoch: 144/400... Loss: 28.828973... Val Loss: 461.504596\n",
            "Epoch: 145/400... Loss: 26.378140... Val Loss: 447.339145\n",
            "Epoch: 146/400... Loss: 27.991831... Val Loss: 490.798929\n",
            "Epoch: 147/400... Loss: 26.489173... Val Loss: 473.139270\n",
            "Epoch: 148/400... Loss: 25.635206... Val Loss: 495.308706\n",
            "Epoch: 149/400... Loss: 24.353303... Val Loss: 463.490229\n",
            "Epoch: 150/400... Loss: 26.173103... Val Loss: 474.775519\n",
            "Epoch: 151/400... Loss: 28.260987... Val Loss: 454.110283\n",
            "Epoch: 152/400... Loss: 27.119920... Val Loss: 476.662463\n",
            "Epoch: 153/400... Loss: 26.173322... Val Loss: 484.232007\n",
            "Epoch: 154/400... Loss: 24.226317... Val Loss: 451.045652\n",
            "Epoch: 155/400... Loss: 25.177212... Val Loss: 426.180389\n",
            "Epoch: 156/400... Loss: 22.868981... Val Loss: 480.126599\n",
            "Epoch: 157/400... Loss: 25.157179... Val Loss: 520.289165\n",
            "Epoch: 158/400... Loss: 26.496986... Val Loss: 458.084313\n",
            "Epoch: 159/400... Loss: 20.793192... Val Loss: 471.411158\n",
            "Epoch: 160/400... Loss: 24.186705... Val Loss: 466.881991\n",
            "Epoch: 161/400... Loss: 25.110806... Val Loss: 454.992742\n",
            "Epoch: 162/400... Loss: 25.264909... Val Loss: 475.402812\n",
            "Epoch: 163/400... Loss: 24.555443... Val Loss: 445.089439\n",
            "Epoch: 164/400... Loss: 24.374206... Val Loss: 483.725711\n",
            "Epoch: 165/400... Loss: 24.078215... Val Loss: 446.219114\n",
            "Epoch: 166/400... Loss: 22.557728... Val Loss: 427.273717\n",
            "Epoch: 167/400... Loss: 26.623978... Val Loss: 475.584286\n",
            "Epoch: 168/400... Loss: 23.915095... Val Loss: 432.565340\n",
            "Epoch: 169/400... Loss: 23.988395... Val Loss: 430.396603\n",
            "Epoch: 170/400... Loss: 20.840464... Val Loss: 430.576751\n",
            "Epoch: 171/400... Loss: 27.413536... Val Loss: 443.670736\n",
            "Epoch: 172/400... Loss: 26.943879... Val Loss: 441.790943\n",
            "Epoch: 173/400... Loss: 23.608972... Val Loss: 433.651951\n",
            "Epoch: 174/400... Loss: 22.334632... Val Loss: 479.379013\n",
            "Epoch: 175/400... Loss: 24.053196... Val Loss: 443.628240\n",
            "Epoch: 176/400... Loss: 29.038284... Val Loss: 454.481308\n",
            "Epoch: 177/400... Loss: 22.719221... Val Loss: 472.747308\n",
            "Epoch: 178/400... Loss: 27.118763... Val Loss: 465.861506\n",
            "Epoch: 179/400... Loss: 21.629788... Val Loss: 439.157223\n",
            "Epoch: 180/400... Loss: 20.952854... Val Loss: 444.972127\n",
            "Epoch: 181/400... Loss: 23.683040... Val Loss: 444.441366\n",
            "Epoch: 182/400... Loss: 22.800699... Val Loss: 414.570299\n",
            "Epoch: 183/400... Loss: 21.230518... Val Loss: 460.118710\n",
            "Epoch: 184/400... Loss: 25.313237... Val Loss: 451.120316\n",
            "Epoch: 185/400... Loss: 27.054366... Val Loss: 436.784463\n",
            "Epoch: 186/400... Loss: 23.018506... Val Loss: 435.625167\n",
            "Epoch: 187/400... Loss: 24.614077... Val Loss: 442.307086\n",
            "Epoch: 188/400... Loss: 23.186977... Val Loss: 422.312134\n",
            "Epoch: 189/400... Loss: 21.904991... Val Loss: 419.095337\n",
            "Epoch: 190/400... Loss: 23.031144... Val Loss: 425.954694\n",
            "Epoch: 191/400... Loss: 21.865062... Val Loss: 443.608835\n",
            "Epoch: 192/400... Loss: 22.831805... Val Loss: 439.117012\n",
            "Epoch: 193/400... Loss: 19.981081... Val Loss: 448.101531\n",
            "Epoch: 194/400... Loss: 21.254383... Val Loss: 416.855268\n",
            "Epoch: 195/400... Loss: 22.617211... Val Loss: 413.191518\n",
            "Epoch: 196/400... Loss: 25.259185... Val Loss: 433.716285\n",
            "Epoch: 197/400... Loss: 21.041767... Val Loss: 440.792723\n",
            "Epoch: 198/400... Loss: 20.430091... Val Loss: 450.523776\n",
            "Epoch: 199/400... Loss: 23.092079... Val Loss: 435.676114\n",
            "Epoch: 200/400... Loss: 21.521018... Val Loss: 435.987516\n",
            "Epoch: 201/400... Loss: 22.448939... Val Loss: 458.064452\n",
            "Epoch: 202/400... Loss: 23.153962... Val Loss: 457.576440\n",
            "Epoch: 203/400... Loss: 22.552041... Val Loss: 409.077455\n",
            "Epoch: 204/400... Loss: 21.087968... Val Loss: 479.197299\n",
            "Epoch: 205/400... Loss: 21.284867... Val Loss: 454.276103\n",
            "Epoch: 206/400... Loss: 24.292572... Val Loss: 443.192999\n",
            "Epoch: 207/400... Loss: 22.817700... Val Loss: 439.865332\n",
            "Epoch: 208/400... Loss: 23.348386... Val Loss: 447.340551\n",
            "Epoch: 209/400... Loss: 22.293714... Val Loss: 445.889589\n",
            "Epoch: 210/400... Loss: 18.636736... Val Loss: 459.916604\n",
            "Epoch: 211/400... Loss: 19.967509... Val Loss: 464.494647\n",
            "Epoch: 212/400... Loss: 19.824587... Val Loss: 441.477492\n",
            "Epoch: 213/400... Loss: 24.040381... Val Loss: 437.864635\n",
            "Epoch: 214/400... Loss: 22.857135... Val Loss: 464.975169\n",
            "Epoch: 215/400... Loss: 22.756076... Val Loss: 450.111210\n",
            "Epoch: 216/400... Loss: 20.887792... Val Loss: 444.952531\n",
            "Epoch: 217/400... Loss: 22.269167... Val Loss: 469.815180\n",
            "Epoch: 218/400... Loss: 20.401370... Val Loss: 458.965368\n",
            "Epoch: 219/400... Loss: 20.811135... Val Loss: 456.638092\n",
            "Epoch: 220/400... Loss: 19.936654... Val Loss: 457.893113\n",
            "Epoch: 221/400... Loss: 20.846794... Val Loss: 451.867353\n",
            "Epoch: 222/400... Loss: 20.262428... Val Loss: 468.907607\n",
            "Epoch: 223/400... Loss: 19.298079... Val Loss: 478.611046\n",
            "Epoch: 224/400... Loss: 20.855595... Val Loss: 420.319147\n",
            "Epoch: 225/400... Loss: 18.399332... Val Loss: 436.155771\n",
            "Epoch: 226/400... Loss: 20.349414... Val Loss: 459.856873\n",
            "Epoch: 227/400... Loss: 21.661688... Val Loss: 423.622937\n",
            "Epoch: 228/400... Loss: 21.269715... Val Loss: 448.266146\n",
            "Epoch: 229/400... Loss: 22.570663... Val Loss: 448.980669\n",
            "Epoch: 230/400... Loss: 18.662593... Val Loss: 458.272204\n",
            "Epoch: 231/400... Loss: 20.292067... Val Loss: 431.843768\n",
            "Epoch: 232/400... Loss: 23.638842... Val Loss: 429.216650\n",
            "Epoch: 233/400... Loss: 19.841516... Val Loss: 433.026061\n",
            "Epoch: 234/400... Loss: 20.033651... Val Loss: 456.859112\n",
            "Epoch: 235/400... Loss: 19.983206... Val Loss: 434.099568\n",
            "Epoch: 236/400... Loss: 19.395044... Val Loss: 421.749914\n",
            "Epoch: 237/400... Loss: 21.186021... Val Loss: 449.096467\n",
            "Epoch: 238/400... Loss: 20.744173... Val Loss: 458.951687\n",
            "Epoch: 239/400... Loss: 22.503825... Val Loss: 436.137612\n",
            "Epoch: 240/400... Loss: 25.260169... Val Loss: 443.712803\n",
            "Epoch: 241/400... Loss: 21.117535... Val Loss: 450.263958\n",
            "Epoch: 242/400... Loss: 18.171072... Val Loss: 468.555749\n",
            "Epoch: 243/400... Loss: 19.932574... Val Loss: 465.298824\n",
            "Epoch: 244/400... Loss: 18.479068... Val Loss: 437.441502\n",
            "Epoch: 245/400... Loss: 18.344173... Val Loss: 447.575057\n",
            "Epoch: 246/400... Loss: 21.988185... Val Loss: 438.845139\n",
            "Epoch: 247/400... Loss: 21.932829... Val Loss: 498.658304\n",
            "Epoch: 248/400... Loss: 19.691996... Val Loss: 400.003325\n",
            "Validation loss decreased (404.940509 --> 400.003325).  Saving model ...\n",
            "Epoch: 249/400... Loss: 21.535737... Val Loss: 454.819765\n",
            "Epoch: 250/400... Loss: 19.889309... Val Loss: 444.248428\n",
            "Epoch: 251/400... Loss: 22.652875... Val Loss: 450.291919\n",
            "Epoch: 252/400... Loss: 20.823845... Val Loss: 439.510646\n",
            "Epoch: 253/400... Loss: 21.895123... Val Loss: 481.815936\n",
            "Epoch: 254/400... Loss: 23.408027... Val Loss: 474.579070\n",
            "Epoch: 255/400... Loss: 21.401969... Val Loss: 463.087861\n",
            "Epoch: 256/400... Loss: 19.317108... Val Loss: 475.760108\n",
            "Epoch: 257/400... Loss: 20.316061... Val Loss: 471.012480\n",
            "Epoch: 258/400... Loss: 20.598290... Val Loss: 455.889044\n",
            "Epoch: 259/400... Loss: 20.896664... Val Loss: 475.340503\n",
            "Epoch: 260/400... Loss: 16.588990... Val Loss: 453.087486\n",
            "Epoch: 261/400... Loss: 18.720635... Val Loss: 474.370778\n",
            "Epoch: 262/400... Loss: 17.973843... Val Loss: 469.157449\n",
            "Epoch: 263/400... Loss: 25.921695... Val Loss: 456.150184\n",
            "Epoch: 264/400... Loss: 18.409490... Val Loss: 428.402985\n",
            "Epoch: 265/400... Loss: 19.208686... Val Loss: 460.258829\n",
            "Epoch: 266/400... Loss: 18.593454... Val Loss: 451.921111\n",
            "Epoch: 267/400... Loss: 19.087709... Val Loss: 440.517787\n",
            "Epoch: 268/400... Loss: 20.088852... Val Loss: 448.679508\n",
            "Epoch: 269/400... Loss: 20.225931... Val Loss: 454.398721\n",
            "Epoch: 270/400... Loss: 17.584031... Val Loss: 458.955037\n",
            "Epoch: 271/400... Loss: 24.162462... Val Loss: 453.515062\n",
            "Epoch: 272/400... Loss: 19.689397... Val Loss: 445.561294\n",
            "Epoch: 273/400... Loss: 19.594855... Val Loss: 469.528168\n",
            "Epoch: 274/400... Loss: 21.968794... Val Loss: 468.137065\n",
            "Epoch: 275/400... Loss: 18.548710... Val Loss: 459.559544\n",
            "Epoch: 276/400... Loss: 18.652543... Val Loss: 461.598141\n",
            "Epoch: 277/400... Loss: 21.290195... Val Loss: 481.465582\n",
            "Epoch: 278/400... Loss: 18.720357... Val Loss: 466.355213\n",
            "Epoch: 279/400... Loss: 19.010285... Val Loss: 472.050479\n",
            "Epoch: 280/400... Loss: 19.355366... Val Loss: 465.047313\n",
            "Epoch: 281/400... Loss: 21.523600... Val Loss: 430.358525\n",
            "Epoch: 282/400... Loss: 17.179047... Val Loss: 464.072498\n",
            "Epoch: 283/400... Loss: 19.564817... Val Loss: 447.017509\n",
            "Epoch: 284/400... Loss: 18.359594... Val Loss: 454.210965\n",
            "Epoch: 285/400... Loss: 22.613545... Val Loss: 443.951615\n",
            "Epoch: 286/400... Loss: 18.165134... Val Loss: 481.775435\n",
            "Epoch: 287/400... Loss: 18.865540... Val Loss: 467.566616\n",
            "Epoch: 288/400... Loss: 18.735701... Val Loss: 490.727813\n",
            "Epoch: 289/400... Loss: 19.902491... Val Loss: 461.031773\n",
            "Epoch: 290/400... Loss: 17.320943... Val Loss: 512.896090\n",
            "Epoch: 291/400... Loss: 20.518840... Val Loss: 476.947250\n",
            "Epoch: 292/400... Loss: 22.003255... Val Loss: 471.711403\n",
            "Epoch: 293/400... Loss: 19.352698... Val Loss: 481.459206\n",
            "Epoch: 294/400... Loss: 19.179894... Val Loss: 482.770845\n",
            "Epoch: 295/400... Loss: 15.906494... Val Loss: 463.621778\n",
            "Epoch: 296/400... Loss: 20.740940... Val Loss: 471.828010\n",
            "Epoch: 297/400... Loss: 19.581773... Val Loss: 476.651550\n",
            "Epoch: 298/400... Loss: 18.136550... Val Loss: 487.480352\n",
            "Epoch: 299/400... Loss: 17.859709... Val Loss: 470.351612\n",
            "Epoch: 300/400... Loss: 16.566083... Val Loss: 478.664564\n",
            "Epoch: 301/400... Loss: 18.342779... Val Loss: 479.061516\n",
            "Epoch: 302/400... Loss: 17.630708... Val Loss: 463.822132\n",
            "Epoch: 303/400... Loss: 20.052767... Val Loss: 513.070974\n",
            "Epoch: 304/400... Loss: 18.710683... Val Loss: 491.164745\n",
            "Epoch: 305/400... Loss: 18.954967... Val Loss: 470.813179\n",
            "Epoch: 306/400... Loss: 20.843102... Val Loss: 497.203656\n",
            "Epoch: 307/400... Loss: 18.051094... Val Loss: 484.056203\n",
            "Epoch: 308/400... Loss: 16.610296... Val Loss: 480.410591\n",
            "Epoch: 309/400... Loss: 17.601787... Val Loss: 476.648750\n",
            "Epoch: 310/400... Loss: 18.211570... Val Loss: 485.015947\n",
            "Epoch: 311/400... Loss: 15.635514... Val Loss: 459.349468\n",
            "Epoch: 312/400... Loss: 18.166647... Val Loss: 471.584223\n",
            "Epoch: 313/400... Loss: 21.000394... Val Loss: 479.826311\n",
            "Epoch: 314/400... Loss: 19.158440... Val Loss: 458.369540\n",
            "Epoch: 315/400... Loss: 15.689966... Val Loss: 459.243125\n",
            "Epoch: 316/400... Loss: 18.780940... Val Loss: 498.156682\n",
            "Epoch: 317/400... Loss: 18.787161... Val Loss: 494.321519\n",
            "Epoch: 318/400... Loss: 19.378028... Val Loss: 458.062429\n",
            "Epoch: 319/400... Loss: 18.735792... Val Loss: 458.675745\n",
            "Epoch: 320/400... Loss: 17.334932... Val Loss: 488.745261\n",
            "Epoch: 321/400... Loss: 18.858821... Val Loss: 478.987295\n",
            "Epoch: 322/400... Loss: 17.421913... Val Loss: 457.370477\n",
            "Epoch: 323/400... Loss: 20.751776... Val Loss: 483.740449\n",
            "Epoch: 324/400... Loss: 19.916705... Val Loss: 493.572935\n",
            "Epoch: 325/400... Loss: 19.380047... Val Loss: 485.990347\n",
            "Epoch: 326/400... Loss: 22.470213... Val Loss: 444.023685\n",
            "Epoch: 327/400... Loss: 18.415158... Val Loss: 473.639742\n",
            "Epoch: 328/400... Loss: 19.224265... Val Loss: 473.243076\n",
            "Epoch: 329/400... Loss: 18.639667... Val Loss: 465.497480\n",
            "Epoch: 330/400... Loss: 20.515197... Val Loss: 453.147993\n",
            "Epoch: 331/400... Loss: 18.715351... Val Loss: 472.886856\n",
            "Epoch: 332/400... Loss: 17.315025... Val Loss: 449.650394\n",
            "Epoch: 333/400... Loss: 18.853575... Val Loss: 494.192285\n",
            "Epoch: 334/400... Loss: 17.130719... Val Loss: 456.221538\n",
            "Epoch: 335/400... Loss: 18.002621... Val Loss: 467.154237\n",
            "Epoch: 336/400... Loss: 19.437993... Val Loss: 459.772963\n",
            "Epoch: 337/400... Loss: 17.651840... Val Loss: 442.628709\n",
            "Epoch: 338/400... Loss: 17.384523... Val Loss: 477.519718\n",
            "Epoch: 339/400... Loss: 19.255256... Val Loss: 484.638883\n",
            "Epoch: 340/400... Loss: 19.034865... Val Loss: 480.087521\n",
            "Epoch: 341/400... Loss: 17.861979... Val Loss: 470.613709\n",
            "Epoch: 342/400... Loss: 17.441508... Val Loss: 467.394707\n",
            "Epoch: 343/400... Loss: 14.420665... Val Loss: 480.825825\n",
            "Epoch: 344/400... Loss: 15.903756... Val Loss: 487.816568\n",
            "Epoch: 345/400... Loss: 18.409716... Val Loss: 482.895485\n",
            "Epoch: 346/400... Loss: 19.331240... Val Loss: 462.604785\n",
            "Epoch: 347/400... Loss: 16.605898... Val Loss: 450.440866\n",
            "Epoch: 348/400... Loss: 20.293178... Val Loss: 463.790301\n",
            "Epoch: 349/400... Loss: 16.424936... Val Loss: 481.834077\n",
            "Epoch: 350/400... Loss: 17.567140... Val Loss: 474.780064\n",
            "Epoch: 351/400... Loss: 20.395744... Val Loss: 476.868593\n",
            "Epoch: 352/400... Loss: 15.496893... Val Loss: 471.364869\n",
            "Epoch: 353/400... Loss: 18.134233... Val Loss: 472.723460\n",
            "Epoch: 354/400... Loss: 17.667256... Val Loss: 496.133619\n",
            "Epoch: 355/400... Loss: 17.343244... Val Loss: 455.594478\n",
            "Epoch: 356/400... Loss: 18.968065... Val Loss: 467.898693\n",
            "Epoch: 357/400... Loss: 17.972133... Val Loss: 488.454561\n",
            "Epoch: 358/400... Loss: 17.318811... Val Loss: 464.805899\n",
            "Epoch: 359/400... Loss: 16.915151... Val Loss: 473.113855\n",
            "Epoch: 360/400... Loss: 15.638325... Val Loss: 486.656008\n",
            "Epoch: 361/400... Loss: 16.055564... Val Loss: 495.128552\n",
            "Epoch: 362/400... Loss: 17.335827... Val Loss: 498.876619\n",
            "Epoch: 363/400... Loss: 18.963999... Val Loss: 484.378359\n",
            "Epoch: 364/400... Loss: 17.539003... Val Loss: 496.435008\n",
            "Epoch: 365/400... Loss: 18.360967... Val Loss: 502.671705\n",
            "Epoch: 366/400... Loss: 16.161072... Val Loss: 483.332047\n",
            "Epoch: 367/400... Loss: 20.664126... Val Loss: 517.859198\n",
            "Epoch: 368/400... Loss: 16.217524... Val Loss: 478.460369\n",
            "Epoch: 369/400... Loss: 18.748597... Val Loss: 500.294424\n",
            "Epoch: 370/400... Loss: 15.849087... Val Loss: 498.517341\n",
            "Epoch: 371/400... Loss: 19.425385... Val Loss: 473.787674\n",
            "Epoch: 372/400... Loss: 17.372538... Val Loss: 476.526778\n",
            "Epoch: 373/400... Loss: 17.832893... Val Loss: 479.724394\n",
            "Epoch: 374/400... Loss: 18.843950... Val Loss: 499.621969\n",
            "Epoch: 375/400... Loss: 16.135400... Val Loss: 484.656964\n",
            "Epoch: 376/400... Loss: 15.411446... Val Loss: 484.467865\n",
            "Epoch: 377/400... Loss: 17.668074... Val Loss: 495.928619\n",
            "Epoch: 378/400... Loss: 17.514863... Val Loss: 486.569593\n",
            "Epoch: 379/400... Loss: 15.366067... Val Loss: 461.099277\n",
            "Epoch: 380/400... Loss: 16.049766... Val Loss: 454.030417\n",
            "Epoch: 381/400... Loss: 17.332503... Val Loss: 463.235775\n",
            "Epoch: 382/400... Loss: 18.261002... Val Loss: 477.816008\n",
            "Epoch: 383/400... Loss: 16.596440... Val Loss: 470.045681\n",
            "Epoch: 384/400... Loss: 18.700430... Val Loss: 462.627739\n",
            "Epoch: 385/400... Loss: 15.196840... Val Loss: 464.748449\n",
            "Epoch: 386/400... Loss: 16.793787... Val Loss: 447.300765\n",
            "Epoch: 387/400... Loss: 19.857029... Val Loss: 507.370957\n",
            "Epoch: 388/400... Loss: 14.394853... Val Loss: 465.482474\n",
            "Epoch: 389/400... Loss: 16.557872... Val Loss: 487.106557\n",
            "Epoch: 390/400... Loss: 18.921182... Val Loss: 488.177270\n",
            "Epoch: 391/400... Loss: 17.572261... Val Loss: 459.464693\n",
            "Epoch: 392/400... Loss: 17.044223... Val Loss: 485.244448\n",
            "Epoch: 393/400... Loss: 15.567488... Val Loss: 454.792224\n",
            "Epoch: 394/400... Loss: 17.008228... Val Loss: 473.542029\n",
            "Epoch: 395/400... Loss: 15.551364... Val Loss: 448.987716\n",
            "Epoch: 396/400... Loss: 20.439472... Val Loss: 471.657944\n",
            "Epoch: 397/400... Loss: 19.120055... Val Loss: 466.911069\n",
            "Epoch: 398/400... Loss: 15.803585... Val Loss: 470.343878\n",
            "Epoch: 399/400... Loss: 18.018453... Val Loss: 467.790974\n",
            "Epoch: 400/400... Loss: 16.537676... Val Loss: 470.168339\n"
          ]
        }
      ],
      "source": [
        "counter = 0\n",
        "training_losses = []\n",
        "val_losses = []\n",
        "\n",
        "\n",
        "model.train()\n",
        "for i in range(epochs):\n",
        "  h = model.init_hidden(batch_size)\n",
        "\n",
        "  avg_training_loss = 0\n",
        "  for inputs, labels in train_dataloader:\n",
        "    counter += 1\n",
        "    model.zero_grad()\n",
        "    output, _ = model(inputs, h)\n",
        "    loss = criterion(output.squeeze(), labels)\n",
        "    avg_training_loss += loss.item()\n",
        "    loss.backward()\n",
        "    torch.nn.utils.clip_grad_norm_(model.parameters(),clip)\n",
        "    optimizer.step()\n",
        "  avg_training_loss /= len(X_train)\n",
        "  training_losses.append(avg_training_loss)\n",
        "\n",
        "  val_h = model.init_hidden(batch_size)\n",
        "  model.eval()\n",
        "  avg_val_loss = 0\n",
        "  with torch.no_grad():\n",
        "    for inputs, labels in test_dataloader:\n",
        "    #for inputs, labels in val_dataloader:\n",
        "      out, val_h = model(inputs, val_h)\n",
        "      val_loss = criterion(out.squeeze(), labels)\n",
        "      avg_val_loss += val_loss.item()\n",
        "  avg_val_loss /= len(X_test)\n",
        "  val_losses.append(avg_val_loss)\n",
        "    \n",
        "  model.train()\n",
        "  print(\"Epoch: {}/{}...\".format(i+1, epochs),\n",
        "  \"Loss: {:.6f}...\".format(avg_training_loss),\n",
        "  \"Val Loss: {:.6f}\".format(avg_val_loss))\n",
        "\n",
        "  if avg_val_loss <= valid_loss_min:\n",
        "      torch.save(model.state_dict(), '/content/drive/Shareddrives/CFA project/checkpoints/lstmv3_seq4layer1hidden20_val.pt')\n",
        "      print('Validation loss decreased ({:.6f} --> {:.6f}).  Saving model ...'.format(valid_loss_min,avg_val_loss))\n",
        "      valid_loss_min = avg_val_loss\n",
        "      best_params = model.state_dict()"
      ]
    },
    {
      "cell_type": "code",
      "execution_count": null,
      "metadata": {
        "colab": {
          "base_uri": "https://localhost:8080/"
        },
        "id": "i6rl0ktLuTHp",
        "outputId": "99070047-e35c-49bb-d970-9b0a44840b4f"
      },
      "outputs": [
        {
          "data": {
            "text/plain": [
              "<All keys matched successfully>"
            ]
          },
          "execution_count": 36,
          "metadata": {},
          "output_type": "execute_result"
        }
      ],
      "source": [
        "best_lstm = LSTMV2(n_hidden=n_hidden, n_features=n_features, seq_length=seq_length, n_layers=n_layers).double()\n",
        "best_lstm.load_state_dict(torch.load('/content/drive/Shareddrives/CFA project/checkpoints/state_dict.pt'))\n"
      ]
    },
    {
      "cell_type": "code",
      "execution_count": null,
      "metadata": {
        "colab": {
          "base_uri": "https://localhost:8080/"
        },
        "id": "xeJdf_TzxK4d",
        "outputId": "fe5d6352-2c18-484a-970b-358c0e75e2ba"
      },
      "outputs": [
        {
          "name": "stdout",
          "output_type": "stream",
          "text": [
            "r2 score for lstm on pct target:  0.7578340352407145\n",
            "mse error for lstm on pct target:  6469.223922679559\n"
          ]
        }
      ],
      "source": [
        "from sklearn.metrics import mean_squared_error, r2_score\n",
        "best_lstm = LSTMV2(n_hidden=n_hidden, n_features=n_features, seq_length=seq_length, n_layers=n_layers).double()\n",
        "best_lstm.load_state_dict(torch.load('/content/drive/Shareddrives/CFA project/checkpoints/lstm_seq4layer1hidden20_val.pt'))\n",
        "best_lstm.eval()\n",
        "with torch.no_grad():\n",
        "  test_h = best_lstm.init_hidden(X_test.shape[0])\n",
        "  predicted, _ = best_lstm(X_test, test_h)\n",
        "predicted_lstm = np.array(predicted.reshape(predicted.shape[0]))\n",
        "\n",
        "print('r2 score for lstm on pct target: ', r2_score(y_test, predicted_lstm))\n",
        "print('mse error for lstm on pct target: ', mean_squared_error(y_test, predicted_lstm))"
      ]
    },
    {
      "cell_type": "code",
      "source": [
        "r2_score(y_test, predicted_lstm)"
      ],
      "metadata": {
        "colab": {
          "base_uri": "https://localhost:8080/"
        },
        "id": "hbMvKCUPAqAN",
        "outputId": "13cfff2b-704c-4114-e2a4-c7a75669edbf"
      },
      "execution_count": null,
      "outputs": [
        {
          "output_type": "execute_result",
          "data": {
            "text/plain": [
              "0.7143164413207592"
            ]
          },
          "metadata": {},
          "execution_count": 51
        }
      ]
    },
    {
      "cell_type": "code",
      "source": [
        "y_test"
      ],
      "metadata": {
        "colab": {
          "base_uri": "https://localhost:8080/"
        },
        "id": "9DrTqKxOAtmF",
        "outputId": "0f2a4222-a2cd-42e3-f2e2-4373a4596dc6"
      },
      "execution_count": null,
      "outputs": [
        {
          "output_type": "execute_result",
          "data": {
            "text/plain": [
              "tensor([ 71.6200,  88.3700, 100.9400,  ..., 117.6900, 137.0400, 165.3700],\n",
              "       dtype=torch.float64)"
            ]
          },
          "metadata": {},
          "execution_count": 52
        }
      ]
    },
    {
      "cell_type": "code",
      "execution_count": null,
      "metadata": {
        "colab": {
          "base_uri": "https://localhost:8080/"
        },
        "id": "CvONzfZduPv2",
        "outputId": "8ebd2ba5-f188-41c0-f9f2-605fe161b275"
      },
      "outputs": [
        {
          "output_type": "stream",
          "name": "stdout",
          "text": [
            "r2 score for lstm on pct target:  0.7143164413207592\n",
            "mse error for lstm on pct target:  7631.75334717679\n"
          ]
        }
      ],
      "source": [
        "from sklearn.metrics import mean_squared_error, r2_score\n",
        "best_lstm = LSTMV3(n_hidden=n_hidden, n_features=n_features, seq_length=seq_length, n_layers=n_layers).double()\n",
        "best_lstm.load_state_dict(torch.load('/content/drive/Shareddrives/CFA project/checkpoints/lstmv3_seq4layer1hidden20_val.pt'))\n",
        "best_lstm.eval()\n",
        "with torch.no_grad():\n",
        "  test_h = best_lstm.init_hidden(X_test.shape[0])\n",
        "  predicted, _ = best_lstm(X_test, test_h)\n",
        "predicted_lstm = np.array(predicted.reshape(predicted.shape[0]))\n",
        "\n",
        "print('r2 score for lstm on pct target: ', r2_score(y_test, predicted_lstm))\n",
        "print('mse error for lstm on pct target: ', mean_squared_error(y_test, predicted_lstm))"
      ]
    },
    {
      "cell_type": "code",
      "source": [
        "with open('/content/drive/Shareddrives/CFA project/checkpoints/predicted_lstmv3_seq4layer1hidden20_val.npy', 'wb') as f:\n",
        "  np.save(f, predicted_lstm)"
      ],
      "metadata": {
        "id": "VagxSgO3-kPi"
      },
      "execution_count": null,
      "outputs": []
    },
    {
      "cell_type": "code",
      "source": [
        "with open('/content/drive/Shareddrives/CFA project/checkpoints/predicted_lstmv3_seq4layer1hidden20_val.npy', 'rb') as f:\n",
        "  np.load(f)"
      ],
      "metadata": {
        "id": "XE3Zz15v_RTn"
      },
      "execution_count": null,
      "outputs": []
    },
    {
      "cell_type": "code",
      "execution_count": null,
      "metadata": {
        "colab": {
          "base_uri": "https://localhost:8080/"
        },
        "id": "3jqMrRjSZ9oR",
        "outputId": "84e7d0d0-c0fd-421d-fe07-bc5583a0bb27"
      },
      "outputs": [
        {
          "name": "stdout",
          "output_type": "stream",
          "text": [
            "r2 score for lstm on pct target:  0.30674191217521163\n",
            "mse error for lstm on pct target:  0.02564973423437852\n"
          ]
        }
      ],
      "source": [
        "from sklearn.metrics import mean_squared_error, r2_score\n",
        "best_lstm = LSTMV2(n_hidden=n_hidden, n_features=n_features, seq_length=seq_length, n_layers=n_layers).double()\n",
        "best_lstm.load_state_dict(torch.load('/content/drive/Shareddrives/CFA project/checkpoints/state_dict_pct_target.pt'))\n",
        "best_lstm.eval()\n",
        "with torch.no_grad():\n",
        "  test_h = best_lstm.init_hidden(X_test.shape[0])\n",
        "  predicted, _ = best_lstm(X_test, test_h)\n",
        "predicted_lstm = np.array(predicted.reshape(predicted.shape[0]))\n",
        "\n",
        "print('r2 score for lstm on pct target: ', r2_score(y_test, predicted_lstm))\n",
        "print('mse error for lstm on pct target: ', mean_squared_error(y_test, predicted_lstm))"
      ]
    },
    {
      "cell_type": "code",
      "execution_count": null,
      "metadata": {
        "colab": {
          "base_uri": "https://localhost:8080/"
        },
        "id": "FD7aoPeCx9e3",
        "outputId": "3209bea9-3534-493b-850b-8db9e7ba70e6"
      },
      "outputs": [
        {
          "data": {
            "text/plain": [
              "torch.Size([3245, 1])"
            ]
          },
          "execution_count": 42,
          "metadata": {},
          "output_type": "execute_result"
        }
      ],
      "source": [
        "predicted.shape"
      ]
    },
    {
      "cell_type": "code",
      "execution_count": null,
      "metadata": {
        "id": "TMzdlGNeyqJC"
      },
      "outputs": [],
      "source": [
        "predicted_lstm = np.array(predicted.reshape(predicted.shape[0]))"
      ]
    },
    {
      "cell_type": "code",
      "execution_count": null,
      "metadata": {
        "colab": {
          "base_uri": "https://localhost:8080/"
        },
        "id": "8JSTg3uN4NhP",
        "outputId": "fcd8f6aa-8651-43bf-fc53-e555bf66644e"
      },
      "outputs": [
        {
          "name": "stdout",
          "output_type": "stream",
          "text": [
            "r2 score:  0.9175618851607551\n",
            "mse error:  1491.7061904212178\n"
          ]
        }
      ],
      "source": [
        "from sklearn.metrics import mean_squared_error, r2_score\n",
        "\n",
        "print('r2 score: ', r2_score(y_test, predicted_lstm))\n",
        "print('mse error: ', mean_squared_error(y_test, predicted_lstm))"
      ]
    },
    {
      "cell_type": "code",
      "execution_count": null,
      "metadata": {
        "id": "8sbUAj7ri-gX"
      },
      "outputs": [],
      "source": [
        "import matplotlib.pyplot as plt\n",
        "from numpy import array, hstack"
      ]
    },
    {
      "cell_type": "code",
      "execution_count": null,
      "metadata": {
        "id": "d5511O3eVQI5"
      },
      "outputs": [],
      "source": [
        "def split_sequences(sequences, n_steps):\n",
        "    X, y = list(), list()\n",
        "    for i in range(len(sequences)):\n",
        "        # find the end of this pattern\n",
        "        end_ix = i + n_steps\n",
        "        # check if we are beyond the dataset\n",
        "        if end_ix > len(sequences):\n",
        "            break\n",
        "        # gather input and output parts of the pattern\n",
        "        seq_x, seq_y = sequences[i:end_ix, :-1], sequences[end_ix-1, -1]\n",
        "        X.append(seq_x)\n",
        "        y.append(seq_y)\n",
        "    return array(X), array(y)\n",
        " \n",
        "# define input sequence\n",
        "in_seq1 = array([x for x in range(0,100,10)])\n",
        "in_seq2 = array([x for x in range(5,105,10)])\n",
        "out_seq = array([in_seq1[i]+in_seq2[i] for i in range(len(in_seq1))])\n",
        "# convert to [rows, columns] structure\n",
        "in_seq1 = in_seq1.reshape((len(in_seq1), 1))\n",
        "in_seq2 = in_seq2.reshape((len(in_seq2), 1))\n",
        "out_seq = out_seq.reshape((len(out_seq), 1))\n",
        "# horizontally stack columns\n",
        "dataset = hstack((in_seq1, in_seq2, out_seq))"
      ]
    },
    {
      "cell_type": "code",
      "execution_count": null,
      "metadata": {
        "colab": {
          "base_uri": "https://localhost:8080/"
        },
        "id": "s8ZPwsgOlBrE",
        "outputId": "fab0c0ca-6348-46a6-b5d0-ba20b52a09c4"
      },
      "outputs": [
        {
          "name": "stdout",
          "output_type": "stream",
          "text": [
            "lstm.weight_ih_l0\n",
            "lstm.weight_hh_l0\n",
            "lstm.bias_ih_l0\n",
            "lstm.bias_hh_l0\n",
            "fc1.weight\n",
            "fc1.bias\n"
          ]
        }
      ],
      "source": [
        "for name, param in mv_net.named_parameters():\n",
        "  print(name)"
      ]
    },
    {
      "cell_type": "code",
      "execution_count": null,
      "metadata": {
        "id": "GXb7eT9gjMgh"
      },
      "outputs": [],
      "source": [
        "n_features = 2 # this is number of parallel inputs\n",
        "n_timesteps = 3 # this is number of timesteps\n",
        "\n",
        "# create NN\n",
        "\n",
        "criterion = torch.nn.MSELoss() # reduction='sum' created huge loss value\n",
        "optimizer = torch.optim.Adam(mv_net2.parameters(), lr=1e-1)\n",
        "\n",
        "\n",
        "train_episodes = 500\n",
        "batch_size = 2"
      ]
    },
    {
      "cell_type": "code",
      "execution_count": null,
      "metadata": {
        "id": "Ycjjc_p0A7DY"
      },
      "outputs": [],
      "source": [
        "X, y = split_sequences(dataset, n_timesteps)"
      ]
    },
    {
      "cell_type": "code",
      "execution_count": null,
      "metadata": {
        "id": "AxJd-pKdHljJ"
      },
      "outputs": [],
      "source": [
        "X = torch.tensor(X, dtype=torch.double)"
      ]
    },
    {
      "cell_type": "code",
      "execution_count": null,
      "metadata": {
        "id": "OSqPQE3XHsqC"
      },
      "outputs": [],
      "source": [
        "y = torch.tensor(y, dtype=torch.double)"
      ]
    },
    {
      "cell_type": "code",
      "execution_count": null,
      "metadata": {
        "colab": {
          "base_uri": "https://localhost:8080/",
          "height": 269
        },
        "id": "nKtJuO2OYiQ1",
        "outputId": "f9eda355-141b-437f-b06e-4a9b2dbf8170"
      },
      "outputs": [
        {
          "data": {
            "image/png": "[encoded data removed]",
            "text/plain": [
              "<Figure size 432x288 with 1 Axes>"
            ]
          },
          "metadata": {},
          "output_type": "display_data"
        }
      ],
      "source": [
        "mv_net2.train()\n",
        "loss_list = []\n",
        "for t in range(train_episodes):\n",
        "    for b in range(0,len(X),batch_size):\n",
        "        inpt = X[b:b+batch_size,:,:]\n",
        "        target = y[b:b+batch_size]    \n",
        "        \n",
        "        x_batch = torch.tensor(inpt,dtype=torch.float32)    \n",
        "        y_batch = torch.tensor(target,dtype=torch.float32)\n",
        "\n",
        "        # mv_net.init_hidden(x_batch.size(0))\n",
        "        \n",
        "        output = mv_net1(x_batch) \n",
        "        loss = criterion(output.view(-1), y_batch)  \n",
        "        \n",
        "        loss.backward()\n",
        "        optimizer.step()\n",
        "        # print(mv_net.hidden)        \n",
        "        optimizer.zero_grad() \n",
        "    loss_list.append(loss.item())\n",
        "    # print('step : ' , t , 'loss : ' , loss.item())\n",
        "plt.plot(loss_list)\n",
        "plt.show()"
      ]
    },
    {
      "cell_type": "code",
      "execution_count": null,
      "metadata": {
        "id": "PqsR4zYwArjX"
      },
      "outputs": [],
      "source": [
        "X_tr, X_te, y_tr, y_te = train_test_split(X, y, test_size=0.2,\n",
        "                                                    random_state=40)"
      ]
    },
    {
      "cell_type": "code",
      "execution_count": null,
      "metadata": {
        "id": "1NBEeaeIA87o"
      },
      "outputs": [],
      "source": [
        "X_tr, X_va, y_tr, y_va = train_test_split(X_tr, y_tr, test_size=0.2,\n",
        "                                                    random_state=40)"
      ]
    },
    {
      "cell_type": "code",
      "execution_count": null,
      "metadata": {
        "colab": {
          "base_uri": "https://localhost:8080/"
        },
        "id": "UhFp8G9lBHqG",
        "outputId": "f7c67ce9-a87e-4ca0-e567-82a138818f9b"
      },
      "outputs": [
        {
          "data": {
            "text/plain": [
              "(torch.Size([4, 3, 2]),\n",
              " torch.Size([2, 3, 2]),\n",
              " torch.Size([2, 3, 2]),\n",
              " torch.Size([4]),\n",
              " torch.Size([2]),\n",
              " torch.Size([2]))"
            ]
          },
          "execution_count": 162,
          "metadata": {},
          "output_type": "execute_result"
        }
      ],
      "source": [
        "X_tr.shape, X_va.shape, X_te.shape, y_tr.shape, y_va.shape,  y_te.shape"
      ]
    },
    {
      "cell_type": "code",
      "execution_count": null,
      "metadata": {
        "id": "izEqaCfzBnbn"
      },
      "outputs": [],
      "source": [
        "train_loader = DataLoader(LSTMDataset(X_tr, y_tr), batch_size = batch_size, shuffle=True, drop_last=True)\n",
        "val_loader = DataLoader(LSTMDataset(X_va, y_va), batch_size = batch_size, shuffle=True, drop_last=True)\n",
        "test_loader = DataLoader(LSTMDataset(X_te, y_te), batch_size = batch_size, shuffle=True, drop_last=True)"
      ]
    },
    {
      "cell_type": "code",
      "execution_count": null,
      "metadata": {
        "colab": {
          "base_uri": "https://localhost:8080/"
        },
        "id": "mzJ16dQiCsuI",
        "outputId": "de2384d0-4265-4bbf-e9fc-0214e6f344c8"
      },
      "outputs": [
        {
          "name": "stdout",
          "output_type": "stream",
          "text": [
            "tensor([145, 105])\n"
          ]
        }
      ],
      "source": [
        "for i,j in train_loader:\n",
        "  print(j)\n",
        "  break"
      ]
    },
    {
      "cell_type": "code",
      "execution_count": null,
      "metadata": {
        "colab": {
          "base_uri": "https://localhost:8080/"
        },
        "id": "28IU2RaSC3lW",
        "outputId": "6a93e131-846d-437c-b3b9-3b8d2065182f"
      },
      "outputs": [
        {
          "name": "stdout",
          "output_type": "stream",
          "text": [
            "tensor([ 26.6000,  50.6000,  19.3000,  22.6200,  57.0000,   5.6200, 158.0400,\n",
            "          1.6500,  57.8700,  35.4800,  47.8600,  50.3600, 114.2800,  15.1200,\n",
            "         46.7100,  76.3300], dtype=torch.float64)\n"
          ]
        }
      ],
      "source": [
        "for i,j in train_dataloader:\n",
        "  print(j)\n",
        "  break"
      ]
    },
    {
      "cell_type": "code",
      "execution_count": null,
      "metadata": {
        "colab": {
          "base_uri": "https://localhost:8080/",
          "height": 320
        },
        "id": "Az6zHBeTI0eh",
        "outputId": "04d4e033-0503-43fb-bb4e-83a21acd2826"
      },
      "outputs": [
        {
          "name": "stderr",
          "output_type": "stream",
          "text": [
            "/usr/local/lib/python3.7/dist-packages/ipykernel_launcher.py:20: UserWarning: To copy construct from a tensor, it is recommended to use sourceTensor.clone().detach() or sourceTensor.clone().detach().requires_grad_(True), rather than torch.tensor(sourceTensor).\n",
            "/usr/local/lib/python3.7/dist-packages/ipykernel_launcher.py:21: UserWarning: To copy construct from a tensor, it is recommended to use sourceTensor.clone().detach() or sourceTensor.clone().detach().requires_grad_(True), rather than torch.tensor(sourceTensor).\n"
          ]
        },
        {
          "data": {
            "image/png": "[encoded data removed]",
            "text/plain": [
              "<Figure size 432x288 with 1 Axes>"
            ]
          },
          "metadata": {},
          "output_type": "display_data"
        }
      ],
      "source": [
        "mv_net2 = LSTMV2(20, n_features,n_timesteps, 1).double()\n",
        "n_features = 2 # this is number of parallel inputs\n",
        "n_timesteps = 3 # this is number of timesteps\n",
        "\n",
        "# create NN\n",
        "\n",
        "criterion = torch.nn.MSELoss() # reduction='sum' created huge loss value\n",
        "optimizer = torch.optim.Adam(mv_net2.parameters(), lr=1e-2)\n",
        "\n",
        "\n",
        "train_episodes = 500\n",
        "batch_size = 2\n",
        "mv_net2.train()\n",
        "loss_list = []\n",
        "for t in range(train_episodes):\n",
        "    for b in range(0,len(X),batch_size):\n",
        "        inpt = X[b:b+batch_size,:,:]\n",
        "        target = y[b:b+batch_size]    \n",
        "        \n",
        "        x_batch = torch.tensor(inpt,dtype=torch.double)    \n",
        "        y_batch = torch.tensor(target,dtype=torch.double)\n",
        "\n",
        "        h = mv_net2.init_hidden(x_batch.size(0))\n",
        "        \n",
        "        output, h = mv_net2(x_batch, h) \n",
        "        loss = criterion(output.view(-1), y_batch)  \n",
        "        \n",
        "        loss.backward()\n",
        "        optimizer.step()\n",
        "        # print(mv_net.hidden)        \n",
        "        optimizer.zero_grad() \n",
        "    loss_list.append(loss.item())\n",
        "    # print('step : ' , t , 'loss : ' , loss.item())\n",
        "plt.plot(loss_list)\n",
        "plt.show()"
      ]
    },
    {
      "cell_type": "code",
      "execution_count": null,
      "metadata": {
        "colab": {
          "base_uri": "https://localhost:8080/"
        },
        "id": "p8Dj2qe4AMXs",
        "outputId": "2e874eff-cc93-4f13-fbbb-86f900e3984d"
      },
      "outputs": [
        {
          "name": "stdout",
          "output_type": "stream",
          "text": [
            "Epoch: 5/1000... Step: 10... Loss: 8831.157681... Val Loss: 20901.749399\n",
            "Epoch: 10/1000... Step: 20... Loss: 13076.991195... Val Loss: 19997.296421\n",
            "Epoch: 15/1000... Step: 30... Loss: 9862.178373... Val Loss: 18650.423430\n",
            "Epoch: 20/1000... Step: 40... Loss: 12369.456225... Val Loss: 16978.520617\n",
            "Epoch: 25/1000... Step: 50... Loss: 5446.415473... Val Loss: 15418.783902\n",
            "Epoch: 30/1000... Step: 60... Loss: 3157.849273... Val Loss: 13974.101557\n",
            "Epoch: 35/1000... Step: 70... Loss: 3875.578771... Val Loss: 12698.964572\n",
            "Epoch: 40/1000... Step: 80... Loss: 1102.563880... Val Loss: 11559.175682\n",
            "Epoch: 45/1000... Step: 90... Loss: 1886.140358... Val Loss: 10566.019876\n",
            "Epoch: 50/1000... Step: 100... Loss: 676.070859... Val Loss: 9678.860238\n",
            "Epoch: 55/1000... Step: 110... Loss: 4299.044033... Val Loss: 8904.786750\n",
            "Epoch: 60/1000... Step: 120... Loss: 1218.127072... Val Loss: 8204.669037\n",
            "Epoch: 65/1000... Step: 130... Loss: 3683.122749... Val Loss: 7585.468967\n",
            "Epoch: 70/1000... Step: 140... Loss: 963.855131... Val Loss: 7027.324355\n",
            "Epoch: 75/1000... Step: 150... Loss: 3831.042762... Val Loss: 6525.997679\n",
            "Epoch: 80/1000... Step: 160... Loss: 3497.246729... Val Loss: 6079.752892\n",
            "Epoch: 85/1000... Step: 170... Loss: 670.961765... Val Loss: 5674.801127\n",
            "Epoch: 90/1000... Step: 180... Loss: 2512.251000... Val Loss: 5299.834412\n",
            "Epoch: 95/1000... Step: 190... Loss: 31.163325... Val Loss: 4929.983028\n",
            "Epoch: 100/1000... Step: 200... Loss: 312.705100... Val Loss: 4589.509762\n",
            "Epoch: 105/1000... Step: 210... Loss: 255.964107... Val Loss: 4271.757311\n",
            "Epoch: 110/1000... Step: 220... Loss: 202.164101... Val Loss: 3984.646913\n",
            "Epoch: 115/1000... Step: 230... Loss: 1677.699292... Val Loss: 3730.736501\n",
            "Epoch: 120/1000... Step: 240... Loss: 125.924372... Val Loss: 3497.403057\n",
            "Epoch: 125/1000... Step: 250... Loss: 1471.426807... Val Loss: 3287.856351\n",
            "Epoch: 130/1000... Step: 260... Loss: 1358.497186... Val Loss: 3099.287681\n",
            "Epoch: 135/1000... Step: 270... Loss: 1335.090765... Val Loss: 2926.883552\n",
            "Epoch: 140/1000... Step: 280... Loss: 41.798723... Val Loss: 2770.612428\n",
            "Epoch: 145/1000... Step: 290... Loss: 62.669804... Val Loss: 2629.277880\n",
            "Epoch: 150/1000... Step: 300... Loss: 1111.707187... Val Loss: 2508.890460\n",
            "Epoch: 155/1000... Step: 310... Loss: 75.926540... Val Loss: 2399.824226\n",
            "Epoch: 160/1000... Step: 320... Loss: 941.849827... Val Loss: 2274.755189\n",
            "Epoch: 165/1000... Step: 330... Loss: 47.008186... Val Loss: 2169.428209\n",
            "Epoch: 170/1000... Step: 340... Loss: 37.615431... Val Loss: 2066.816661\n",
            "Epoch: 175/1000... Step: 350... Loss: 802.543454... Val Loss: 1965.860029\n",
            "Epoch: 180/1000... Step: 360... Loss: 745.633119... Val Loss: 1862.936484\n",
            "Epoch: 185/1000... Step: 370... Loss: 698.962048... Val Loss: 1773.483165\n",
            "Epoch: 190/1000... Step: 380... Loss: 8.532215... Val Loss: 1679.894863\n",
            "Epoch: 195/1000... Step: 390... Loss: 606.843663... Val Loss: 1591.930842\n",
            "Epoch: 200/1000... Step: 400... Loss: 565.513297... Val Loss: 1514.767860\n",
            "Epoch: 205/1000... Step: 410... Loss: 2.680038... Val Loss: 1444.350695\n",
            "Epoch: 210/1000... Step: 420... Loss: 0.392313... Val Loss: 1365.425692\n",
            "Epoch: 215/1000... Step: 430... Loss: 3.851978... Val Loss: 1301.094979\n",
            "Epoch: 220/1000... Step: 440... Loss: 0.126983... Val Loss: 1239.981136\n",
            "Epoch: 225/1000... Step: 450... Loss: 1.532155... Val Loss: 1178.028820\n",
            "Epoch: 230/1000... Step: 460... Loss: 363.406921... Val Loss: 1120.873950\n",
            "Epoch: 235/1000... Step: 470... Loss: 1.259189... Val Loss: 1069.746281\n",
            "Epoch: 240/1000... Step: 480... Loss: 318.293646... Val Loss: 1015.486926\n",
            "Epoch: 245/1000... Step: 490... Loss: 289.199694... Val Loss: 974.292859\n",
            "Epoch: 250/1000... Step: 500... Loss: 13.599250... Val Loss: 926.480289\n",
            "Epoch: 255/1000... Step: 510... Loss: 1.059295... Val Loss: 934.332985\n",
            "Epoch: 260/1000... Step: 520... Loss: 268.352958... Val Loss: 893.772903\n",
            "Epoch: 265/1000... Step: 530... Loss: 21.291504... Val Loss: 847.816977\n",
            "Epoch: 270/1000... Step: 540... Loss: 230.333734... Val Loss: 866.298840\n",
            "Epoch: 275/1000... Step: 550... Loss: 202.397103... Val Loss: 759.477518\n",
            "Epoch: 280/1000... Step: 560... Loss: 171.091972... Val Loss: 725.334417\n",
            "Epoch: 285/1000... Step: 570... Loss: 156.753559... Val Loss: 695.614874\n",
            "Epoch: 290/1000... Step: 580... Loss: 0.010937... Val Loss: 668.749060\n",
            "Epoch: 295/1000... Step: 590... Loss: 0.274744... Val Loss: 643.431871\n",
            "Epoch: 300/1000... Step: 600... Loss: 119.896777... Val Loss: 621.961582\n",
            "Epoch: 305/1000... Step: 610... Loss: 109.250215... Val Loss: 597.978559\n",
            "Epoch: 310/1000... Step: 620... Loss: 99.985187... Val Loss: 577.170653\n",
            "Epoch: 315/1000... Step: 630... Loss: 0.156431... Val Loss: 559.912074\n",
            "Epoch: 320/1000... Step: 640... Loss: 82.918211... Val Loss: 540.737413\n",
            "Epoch: 325/1000... Step: 650... Loss: 0.043552... Val Loss: 524.686964\n",
            "Epoch: 330/1000... Step: 660... Loss: 0.030292... Val Loss: 510.941585\n",
            "Epoch: 335/1000... Step: 670... Loss: 0.931889... Val Loss: 493.171109\n",
            "Epoch: 340/1000... Step: 680... Loss: 2.325258... Val Loss: 483.953660\n",
            "Epoch: 345/1000... Step: 690... Loss: 0.080119... Val Loss: 464.964229\n",
            "Epoch: 350/1000... Step: 700... Loss: 47.023573... Val Loss: 464.265300\n",
            "Epoch: 355/1000... Step: 710... Loss: 12.275518... Val Loss: 446.169485\n",
            "Epoch: 360/1000... Step: 720... Loss: 0.362632... Val Loss: 493.184220\n",
            "Epoch: 365/1000... Step: 730... Loss: 34.915869... Val Loss: 428.268647\n",
            "Epoch: 370/1000... Step: 740... Loss: 31.810766... Val Loss: 423.540176\n",
            "Epoch: 375/1000... Step: 750... Loss: 28.458998... Val Loss: 418.301747\n",
            "Epoch: 380/1000... Step: 760... Loss: 0.235351... Val Loss: 406.561782\n",
            "Epoch: 385/1000... Step: 770... Loss: 49.573196... Val Loss: 378.412648\n",
            "Epoch: 390/1000... Step: 780... Loss: 24.926113... Val Loss: 362.879568\n",
            "Epoch: 395/1000... Step: 790... Loss: 21.299812... Val Loss: 392.046972\n",
            "Epoch: 400/1000... Step: 800... Loss: 17.851635... Val Loss: 334.513741\n",
            "Epoch: 405/1000... Step: 810... Loss: 14.969824... Val Loss: 332.837239\n",
            "Epoch: 410/1000... Step: 820... Loss: 13.963220... Val Loss: 351.967768\n",
            "Epoch: 415/1000... Step: 830... Loss: 14.122732... Val Loss: 360.755575\n",
            "Epoch: 420/1000... Step: 840... Loss: 0.079669... Val Loss: 357.864369\n",
            "Epoch: 425/1000... Step: 850... Loss: 10.068753... Val Loss: 352.711887\n",
            "Epoch: 430/1000... Step: 860... Loss: 8.941867... Val Loss: 358.220365\n",
            "Epoch: 435/1000... Step: 870... Loss: 7.939530... Val Loss: 356.975456\n",
            "Epoch: 440/1000... Step: 880... Loss: 0.088134... Val Loss: 355.110793\n",
            "Epoch: 445/1000... Step: 890... Loss: 0.368825... Val Loss: 355.322456\n",
            "Epoch: 450/1000... Step: 900... Loss: 0.108059... Val Loss: 345.736866\n",
            "Epoch: 455/1000... Step: 910... Loss: 4.694253... Val Loss: 345.777162\n",
            "Epoch: 460/1000... Step: 920... Loss: 1.003837... Val Loss: 350.434102\n",
            "Epoch: 465/1000... Step: 930... Loss: 0.213165... Val Loss: 331.538607\n",
            "Epoch: 470/1000... Step: 940... Loss: 3.649552... Val Loss: 327.644742\n",
            "Epoch: 475/1000... Step: 950... Loss: 3.247652... Val Loss: 339.304594\n",
            "Epoch: 480/1000... Step: 960... Loss: 2.785516... Val Loss: 347.726004\n",
            "Epoch: 485/1000... Step: 970... Loss: 0.874404... Val Loss: 343.169410\n",
            "Epoch: 490/1000... Step: 980... Loss: 2.153830... Val Loss: 337.690672\n",
            "Epoch: 495/1000... Step: 990... Loss: 0.061239... Val Loss: 333.857844\n",
            "Epoch: 500/1000... Step: 1000... Loss: 1.587255... Val Loss: 337.260397\n"
          ]
        }
      ],
      "source": [
        "counter = 0\n",
        "mv_net2 = LSTMV2(20, n_features,n_timesteps, 1).double()\n",
        "criterion = torch.nn.MSELoss() # reduction='sum' created huge loss value\n",
        "optimizer = torch.optim.Adam(mv_net2.parameters(), lr=1e-2)\n",
        "mv_net2.train()\n",
        "for i in range(500):\n",
        "  h = mv_net2.init_hidden(batch_size)\n",
        "\n",
        "  for inputs, labels in train_loader:\n",
        "    counter += 1\n",
        "    mv_net2.zero_grad()\n",
        "    output, _ = mv_net2(inputs, h)\n",
        "    loss = criterion(output.squeeze(), labels)\n",
        "    loss.backward()\n",
        "    # torch.nn.utils.clip_grad_norm_(mv_net2.parameters(),clip)\n",
        "    optimizer.step()\n",
        "\n",
        "    if counter % 10 == 0:\n",
        "      val_h = mv_net2.init_hidden(batch_size)\n",
        "      val_losses = []\n",
        "      mv_net2.eval()\n",
        "      with torch.no_grad():\n",
        "        for inputs, labels in val_loader:\n",
        "          out, val_h = mv_net2(inputs, val_h)\n",
        "          val_loss = criterion(out.squeeze(), labels)\n",
        "          val_losses.append(val_loss)\n",
        "        \n",
        "      mv_net2.train()\n",
        "      print(\"Epoch: {}/{}...\".format(i+1, epochs),\n",
        "      \"Step: {}...\".format(counter),\n",
        "      \"Loss: {:.6f}...\".format(loss.item()),\n",
        "      \"Val Loss: {:.6f}\".format(np.mean(val_losses)))\n",
        "    \n",
        "      # if np.mean(val_losses) <= valid_loss_min:\n",
        "      #     torch.save(lstmv2.state_dict(), '/content/drive/Shareddrives/CFA project/checkpoints/state_dict.pt')\n",
        "      #     print('Validation loss decreased ({:.6f} --> {:.6f}).  Saving model ...'.format(valid_loss_min,np.mean(val_losses)))\n",
        "      #     valid_loss_min = np.mean(val_losses)"
      ]
    },
    {
      "cell_type": "code",
      "execution_count": null,
      "metadata": {
        "colab": {
          "base_uri": "https://localhost:8080/"
        },
        "id": "VBzFXWe0LZqQ",
        "outputId": "eee156b4-d29c-49b7-e287-6e7de0b34e21"
      },
      "outputs": [
        {
          "data": {
            "text/plain": [
              "[5, 4, 3, 2, 1]"
            ]
          },
          "execution_count": 1,
          "metadata": {},
          "output_type": "execute_result"
        }
      ],
      "source": [
        "sorted([4,1,3,5,2], reverse=True)"
      ]
    }
  ],
  "metadata": {
    "accelerator": "GPU",
    "colab": {
      "collapsed_sections": [],
      "name": "lstm.ipynb",
      "provenance": []
    },
    "kernelspec": {
      "display_name": "Python 3",
      "name": "python3"
    },
    "language_info": {
      "name": "python"
    }
  },
  "nbformat": 4,
  "nbformat_minor": 0
}