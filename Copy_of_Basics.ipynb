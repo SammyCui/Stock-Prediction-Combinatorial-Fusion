{
  "nbformat": 4,
  "nbformat_minor": 0,
  "metadata": {
    "colab": {
      "name": "Copy of Basics.ipynb",
      "provenance": [],
      "collapsed_sections": [],
      "toc_visible": true
    },
    "kernelspec": {
      "name": "python3",
      "display_name": "Python 3"
    },
    "language_info": {
      "name": "python"
    }
  },
  "cells": [
    {
      "cell_type": "code",
      "execution_count": null,
      "metadata": {
        "colab": {
          "base_uri": "https://localhost:8080/"
        },
        "id": "nwWD-9XeCjfB",
        "outputId": "beb1a186-ba36-4caa-a3a8-b7195a060901"
      },
      "outputs": [
        {
          "output_type": "stream",
          "name": "stdout",
          "text": [
            "Mounted at /content/drive/\n"
          ]
        }
      ],
      "source": [
        "# Importing Googe Drive\n",
        "from google.colab import drive\n",
        "import sys, os\n",
        "import numpy as np\n",
        "import pandas as pd\n",
        "drive.mount('/content/drive/')\n",
        "\n",
        "sys.path.append('/content/drive/Shareddrives/CFA project/utils')"
      ]
    },
    {
      "cell_type": "code",
      "source": [
        "# Importing necessary packages and libraries\n",
        "# Niu: added the first line to update openpyxl, which is necessary for pandas to read databases\n",
        "\n",
        "!pip install openpyxl --upgrade\n",
        "\n",
        "import numpy as np\n",
        "import pandas as pd\n",
        "import matplotlib.pyplot as plt\n",
        "import string\n",
        "import statsmodels.api as sm\n",
        "from functools import reduce"
      ],
      "metadata": {
        "colab": {
          "base_uri": "https://localhost:8080/"
        },
        "id": "IjGecBVFCrlT",
        "outputId": "fb181106-e01a-4a94-a719-30726a7395ae"
      },
      "execution_count": null,
      "outputs": [
        {
          "output_type": "stream",
          "name": "stdout",
          "text": [
            "Requirement already satisfied: openpyxl in /usr/local/lib/python3.7/dist-packages (3.0.9)\n",
            "Requirement already satisfied: et-xmlfile in /usr/local/lib/python3.7/dist-packages (from openpyxl) (1.1.0)\n"
          ]
        },
        {
          "output_type": "stream",
          "name": "stderr",
          "text": [
            "/usr/local/lib/python3.7/dist-packages/statsmodels/tools/_testing.py:19: FutureWarning: pandas.util.testing is deprecated. Use the functions in the public API at pandas.testing instead.\n",
            "  import pandas.util.testing as tm\n"
          ]
        }
      ]
    },
    {
      "cell_type": "markdown",
      "source": [
        "# Data Pre-Processing"
      ],
      "metadata": {
        "id": "jOKgcDlHCzdO"
      }
    },
    {
      "cell_type": "code",
      "source": [
        "!pip install category_encoders"
      ],
      "metadata": {
        "colab": {
          "base_uri": "https://localhost:8080/"
        },
        "id": "vOCVEQI3Cvpd",
        "outputId": "6dfbc5fa-e2c6-44a1-cb7b-f06262cd7815"
      },
      "execution_count": null,
      "outputs": [
        {
          "output_type": "stream",
          "name": "stdout",
          "text": [
            "Collecting category_encoders\n",
            "  Downloading category_encoders-2.4.0-py2.py3-none-any.whl (86 kB)\n",
            "\u001b[?25l\r\u001b[K     |███▉                            | 10 kB 23.2 MB/s eta 0:00:01\r\u001b[K     |███████▋                        | 20 kB 11.3 MB/s eta 0:00:01\r\u001b[K     |███████████▍                    | 30 kB 9.3 MB/s eta 0:00:01\r\u001b[K     |███████████████▏                | 40 kB 8.5 MB/s eta 0:00:01\r\u001b[K     |███████████████████             | 51 kB 6.5 MB/s eta 0:00:01\r\u001b[K     |██████████████████████▊         | 61 kB 7.6 MB/s eta 0:00:01\r\u001b[K     |██████████████████████████▌     | 71 kB 7.3 MB/s eta 0:00:01\r\u001b[K     |██████████████████████████████▎ | 81 kB 8.1 MB/s eta 0:00:01\r\u001b[K     |████████████████████████████████| 86 kB 4.0 MB/s \n",
            "\u001b[?25hRequirement already satisfied: statsmodels>=0.9.0 in /usr/local/lib/python3.7/dist-packages (from category_encoders) (0.10.2)\n",
            "Requirement already satisfied: patsy>=0.5.1 in /usr/local/lib/python3.7/dist-packages (from category_encoders) (0.5.2)\n",
            "Requirement already satisfied: scikit-learn>=0.20.0 in /usr/local/lib/python3.7/dist-packages (from category_encoders) (1.0.2)\n",
            "Requirement already satisfied: pandas>=0.21.1 in /usr/local/lib/python3.7/dist-packages (from category_encoders) (1.3.5)\n",
            "Requirement already satisfied: numpy>=1.14.0 in /usr/local/lib/python3.7/dist-packages (from category_encoders) (1.21.6)\n",
            "Requirement already satisfied: scipy>=1.0.0 in /usr/local/lib/python3.7/dist-packages (from category_encoders) (1.4.1)\n",
            "Requirement already satisfied: pytz>=2017.3 in /usr/local/lib/python3.7/dist-packages (from pandas>=0.21.1->category_encoders) (2022.1)\n",
            "Requirement already satisfied: python-dateutil>=2.7.3 in /usr/local/lib/python3.7/dist-packages (from pandas>=0.21.1->category_encoders) (2.8.2)\n",
            "Requirement already satisfied: six in /usr/local/lib/python3.7/dist-packages (from patsy>=0.5.1->category_encoders) (1.15.0)\n",
            "Requirement already satisfied: joblib>=0.11 in /usr/local/lib/python3.7/dist-packages (from scikit-learn>=0.20.0->category_encoders) (1.1.0)\n",
            "Requirement already satisfied: threadpoolctl>=2.0.0 in /usr/local/lib/python3.7/dist-packages (from scikit-learn>=0.20.0->category_encoders) (3.1.0)\n",
            "Installing collected packages: category-encoders\n",
            "Successfully installed category-encoders-2.4.0\n"
          ]
        }
      ]
    },
    {
      "cell_type": "code",
      "source": [
        "from category_encoders.target_encoder import TargetEncoder\n",
        "from category_encoders.sum_coding import SumEncoder\n",
        "from category_encoders.m_estimate import MEstimateEncoder\n",
        "from category_encoders.leave_one_out import LeaveOneOutEncoder\n",
        "from category_encoders.binary import BinaryEncoder\n",
        "from category_encoders.cat_boost import CatBoostEncoder\n",
        "from category_encoders.james_stein import JamesSteinEncoder\n",
        "from category_encoders.one_hot import OneHotEncoder\n",
        "from sklearn.preprocessing import StandardScaler\n",
        "\n",
        "from sklearn.preprocessing import RobustScaler\n",
        "from sklearn.model_selection import train_test_split"
      ],
      "metadata": {
        "id": "jJdEOGzfC49g"
      },
      "execution_count": null,
      "outputs": []
    },
    {
      "cell_type": "code",
      "source": [
        "df = pd.read_pickle('/content/drive/Shareddrives/CFA project/data/loaded_df.pkl')\n",
        "df.info()"
      ],
      "metadata": {
        "colab": {
          "base_uri": "https://localhost:8080/"
        },
        "id": "yg15g23_C7Dz",
        "outputId": "66a325f9-8bab-415f-edf7-d6332a22c1bb"
      },
      "execution_count": null,
      "outputs": [
        {
          "output_type": "stream",
          "name": "stdout",
          "text": [
            "<class 'pandas.core.frame.DataFrame'>\n",
            "Int64Index: 20020 entries, 14824 to 20019\n",
            "Data columns (total 30 columns):\n",
            " #   Column                           Non-Null Count  Dtype  \n",
            "---  ------                           --------------  -----  \n",
            " 0   Stock                            20020 non-null  object \n",
            " 1   Free.Operating.Cash.Flow         20019 non-null  float64\n",
            " 2   Total.Debt.Outstanding           20020 non-null  float64\n",
            " 3   Price.Close                      20020 non-null  float64\n",
            " 4   Total.Common.Shares.Outstanding  20020 non-null  int64  \n",
            " 5   Cash.and.Equivalents             20020 non-null  int64  \n",
            " 6   Net.Income                       20020 non-null  int64  \n",
            " 7   Interest.Expense                 19415 non-null  float64\n",
            " 8   Short.Interest                   20020 non-null  float64\n",
            " 9   Avg.Daily.Volume.30D             20020 non-null  int64  \n",
            " 10  Current.Assets                   20020 non-null  float64\n",
            " 11  Non.Current.Assets               20020 non-null  float64\n",
            " 12  Current.Liabilities              20020 non-null  float64\n",
            " 13  RSI.Exponential                  20020 non-null  float64\n",
            " 14  MACD.Line1                       20020 non-null  float64\n",
            " 15  Bollinger.Band,Width             20020 non-null  float64\n",
            " 16  Price.Mo.Volatility.T12M         20020 non-null  float64\n",
            " 17  3M.Sharpe.Ratio                  20020 non-null  float64\n",
            " 18  DATE                             20020 non-null  object \n",
            " 19  CPIAUCSL                         20020 non-null  float64\n",
            " 20  PAYEMS                           20020 non-null  int64  \n",
            " 21  PPIACO                           20020 non-null  float64\n",
            " 22  T10YIE                           20020 non-null  float64\n",
            " 23  T5YIE                            20020 non-null  float64\n",
            " 24  UNRATE                           20020 non-null  float64\n",
            " 25  industry                         18956 non-null  object \n",
            " 26  age                              18984 non-null  float64\n",
            " 27  Month_sin                        20020 non-null  float64\n",
            " 28  Month_cos                        20020 non-null  float64\n",
            " 29  sector                           18956 non-null  object \n",
            "dtypes: float64(21), int64(5), object(4)\n",
            "memory usage: 4.7+ MB\n"
          ]
        }
      ]
    },
    {
      "cell_type": "code",
      "source": [
        "df = df.dropna(subset=['age','sector','industry']).reset_index(drop=True)"
      ],
      "metadata": {
        "id": "eHRBGsNyC-vQ"
      },
      "execution_count": null,
      "outputs": []
    },
    {
      "cell_type": "code",
      "source": [
        "df = df.sort_values(by=['DATE'])\n",
        "df[['Free.Operating.Cash.Flow', 'Interest.Expense']] = df.groupby('Stock')[['Free.Operating.Cash.Flow', 'Interest.Expense']].apply(lambda x: x.interpolate(method='linear', limit_direction='both'))"
      ],
      "metadata": {
        "id": "JpBXmyinDAsu"
      },
      "execution_count": null,
      "outputs": []
    },
    {
      "cell_type": "code",
      "source": [
        "df.isna().sum()\n",
        "# 9143571303"
      ],
      "metadata": {
        "colab": {
          "base_uri": "https://localhost:8080/"
        },
        "id": "tqawOqe1DBHw",
        "outputId": "072551c3-587b-4a3d-ee99-b86fe056c313"
      },
      "execution_count": null,
      "outputs": [
        {
          "output_type": "execute_result",
          "data": {
            "text/plain": [
              "Stock                              0\n",
              "Free.Operating.Cash.Flow           0\n",
              "Total.Debt.Outstanding             0\n",
              "Price.Close                        0\n",
              "Total.Common.Shares.Outstanding    0\n",
              "Cash.and.Equivalents               0\n",
              "Net.Income                         0\n",
              "Interest.Expense                   0\n",
              "Short.Interest                     0\n",
              "Avg.Daily.Volume.30D               0\n",
              "Current.Assets                     0\n",
              "Non.Current.Assets                 0\n",
              "Current.Liabilities                0\n",
              "RSI.Exponential                    0\n",
              "MACD.Line1                         0\n",
              "Bollinger.Band,Width               0\n",
              "Price.Mo.Volatility.T12M           0\n",
              "3M.Sharpe.Ratio                    0\n",
              "DATE                               0\n",
              "CPIAUCSL                           0\n",
              "PAYEMS                             0\n",
              "PPIACO                             0\n",
              "T10YIE                             0\n",
              "T5YIE                              0\n",
              "UNRATE                             0\n",
              "industry                           0\n",
              "age                                0\n",
              "Month_sin                          0\n",
              "Month_cos                          0\n",
              "sector                             0\n",
              "dtype: int64"
            ]
          },
          "metadata": {},
          "execution_count": 8
        }
      ]
    },
    {
      "cell_type": "code",
      "source": [
        "fundamentals = ['Free.Operating.Cash.Flow', 'Total.Debt.Outstanding',\n",
        "       'Total.Common.Shares.Outstanding',\n",
        "       'Cash.and.Equivalents', 'Net.Income', 'Interest.Expense',\n",
        "       'Short.Interest', 'Avg.Daily.Volume.30D', 'Current.Assets',\n",
        "       'Non.Current.Assets', 'Current.Liabilities']\n",
        "\n",
        "technicals = ['RSI.Exponential','MACD.Line1', 'Bollinger.Band,Width', 'Price.Mo.Volatility.T12M']\n",
        "\n",
        "macros_features = ['CPIAUCSL', 'PAYEMS', 'PPIACO', 'T10YIE', 'T5YIE','UNRATE']"
      ],
      "metadata": {
        "id": "sRCcpgwzDC2K"
      },
      "execution_count": null,
      "outputs": []
    },
    {
      "cell_type": "code",
      "source": [
        "# keep two types of data: X: [attributes] -> y: close price\n",
        "#                         X: [pct_change_attributes] -> y: pct_change in close price\n",
        "#TODO: determine y: average? EWA? One single close may not show the whole level of increase/decrease\n",
        "df = df.sort_values(by=['DATE'])\n",
        "df_val = df.copy()\n",
        "df_val['next_close'] = df_val.groupby(['Stock'])['Price.Close'].transform(lambda x: x.shift(-1))\n",
        "df_diff = df.copy()\n",
        "\n",
        "df_val_diff = df.copy()\n",
        "df_val_diff['next_close'] = df_val_diff.groupby(['Stock'])['Price.Close'].transform(lambda x: x.diff(1).shift(-1))\n",
        "\n",
        "features_as_diff = fundamentals + technicals + macros_features\n",
        "df_val_diff[features_as_diff] = df_val_diff.groupby(['Stock'])[features_as_diff].transform(lambda x: x.diff(1))[features_as_diff]\n",
        "\n",
        "# calculate pct_diff as y\n",
        "df_diff['pct_change_close'] = df_diff.groupby(['Stock'])['Price.Close'].transform(lambda x: x.pct_change().shift(-1))\n",
        "\n",
        "# fundamental, close price, and macro shall be saved as pct_change to reflect the pct_change in y; \n",
        "#TODO: shall technical indicators be counted as pct_change as well or remain as is?\n",
        "features_as_pct = fundamentals + ['Price.Close'] + macros_features\n",
        "df_diff[features_as_pct] = df_diff.groupby(['Stock'])[features_as_pct].transform(lambda x: x.pct_change())[features_as_pct]"
      ],
      "metadata": {
        "id": "k8Za6dgZDFEJ"
      },
      "execution_count": null,
      "outputs": []
    },
    {
      "cell_type": "code",
      "source": [
        "df_diff = df_diff.dropna().reset_index()\n",
        "df_val = df_val.dropna().reset_index()\n",
        "df_val_diff = df_val_diff.dropna().reset_index()"
      ],
      "metadata": {
        "id": "D82AsEKvDFw-"
      },
      "execution_count": null,
      "outputs": []
    },
    {
      "cell_type": "code",
      "source": [
        "df_diff = df_diff.replace(np.inf, 1)  \n",
        "df_diff = df_diff.replace(-np.inf, -1)  "
      ],
      "metadata": {
        "id": "P6KZIa2wQgv9"
      },
      "execution_count": null,
      "outputs": []
    },
    {
      "cell_type": "code",
      "source": [
        "import seaborn as sns\n",
        "sns.set(rc={'figure.figsize': (11,8)})\n",
        "sns.heatmap(df_diff.corr())"
      ],
      "metadata": {
        "colab": {
          "base_uri": "https://localhost:8080/",
          "height": 689
        },
        "id": "vUHvSJPoDF6n",
        "outputId": "2a139804-6934-414f-d534-840c2d615891"
      },
      "execution_count": null,
      "outputs": [
        {
          "output_type": "execute_result",
          "data": {
            "text/plain": [
              "<matplotlib.axes._subplots.AxesSubplot at 0x7f006fb07290>"
            ]
          },
          "metadata": {},
          "execution_count": 13
        },
        {
          "output_type": "display_data",
          "data": {
            "text/plain": [
              "<Figure size 792x576 with 2 Axes>"
            ],
            "image/png": "[encoded data removed]"
          },
          "metadata": {}
        }
      ]
    },
    {
      "cell_type": "code",
      "source": [
        "col_2_drop = ['T5YIE', 'Price.Close', 'PAYEMS', '3M.Sharpe.Ratio', 'industry', 'index']\n",
        "df_diff = df_diff.drop(columns=col_2_drop)\n",
        "df_val = df_val.drop(columns=col_2_drop)\n",
        "df_val_diff = df_val_diff.drop(columns=col_2_drop)"
      ],
      "metadata": {
        "id": "rQHtlfMTGvuy"
      },
      "execution_count": null,
      "outputs": []
    },
    {
      "cell_type": "code",
      "source": [
        "def prepare_data(data, drop_features, y_feature, test_size, test_idx, normalize_cols, clip_outliers_cols, clip_quantile = 0.99, encoding_method='BinaryEncoder',\n",
        "                 train_test_split_type='random', normalize_method='RobustScaler',\n",
        "                 encoding_col='sector', random_seed=40, **kwargs):\n",
        "    \"\"\"\n",
        "\n",
        "  :param data:\n",
        "  :param L: sequence length\n",
        "  :param drop_features: features to drop\n",
        "  :param y_feature:\n",
        "  :param train_test_split_type: 'random': randomly split ; 'date': split by a quarter e.g., 2019Q4; 'idx': use given test idx as test set, else as train. Default random\n",
        "  :param test_size: if train_test_slit == 'random': test/all, e.g. 0.3. else: the quarter string to split\n",
        "  :param encoding_method: str() of encoder to use. Default binaryencoder\n",
        "  :param encoding_col: col name to encode\n",
        "  :param sigma: for LOO and catboost encoder -- gaussian noise added to the encoder\n",
        "  :param random_seed: random_seed for train_test_split under the random mode.\n",
        "  :return: tuple of X_train, X_test, y_train, y_test\n",
        "  \"\"\"\n",
        "\n",
        "    df = data.copy()\n",
        "    df = df.sort_values(by=['DATE']).reset_index(drop=True)\n",
        "    for col in clip_outliers_cols:\n",
        "      percentiles = df[col].quantile([1-clip_quantile, clip_quantile]).values\n",
        "      df[col] = np.clip(df[col], percentiles[0], percentiles[1])\n",
        "    X, y = df.drop(columns=[y_feature]), df[y_feature]\n",
        "\n",
        "    # if split dataset randomly\n",
        "    if train_test_split_type == 'random':\n",
        "\n",
        "        X_train, X_test, y_train, y_test = train_test_split(X, y, test_size=test_size,\n",
        "                                                            random_state=random_seed)\n",
        "    # if split dataset by a time (quarter)\n",
        "    elif train_test_split_type == 'date':\n",
        "        train, test = df[df['DATE'] <= test_size].sort_values(by=['DATE']), df[df['DATE'] > test_size].sort_values(\n",
        "            by=['DATE'])\n",
        "        X_train, X_test, y_train, y_test = train.drop(columns=[y_feature]), test.drop(columns=[y_feature]), train[y_feature] , test[y_feature]\n",
        "    \n",
        "    elif train_test_split_type == 'idx':\n",
        "        train, test = pd.merge(df, test_idx, indicator=True, how='outer').query('_merge==\"left_only\"').drop('_merge', axis=1), pd.merge(df, test_idx)\n",
        "        X_train, X_test, y_train, y_test = train.drop(columns=[y_feature]), test.drop(columns=[y_feature]), train[y_feature] , test[y_feature]\n",
        "    \n",
        "    encoder = eval(encoding_method)(**kwargs)\n",
        "    # ohe and binary expand one cat into multiple binary cols\n",
        "    if (encoding_method == 'OneHotEncoder') or (encoding_method == 'BinaryEncoder'):\n",
        "        \n",
        "        encoded_df_train = encoder.fit_transform(X_train[encoding_col], y_train)\n",
        "        # if it's ohe, drop the last col as it's redundant\n",
        "        if encoding_method == 'OneHotEncoder':\n",
        "            encoded_df_train = encoded_df_train.iloc[:, :-1]\n",
        "        X_train = X_train.drop(columns=[encoding_col])\n",
        "        X_train = X_train.join(encoded_df_train)\n",
        "        # test set\n",
        "        encoded_df_test = encoder.transform(X_test[encoding_col])\n",
        "        if encoding_method == 'OneHotEncoder':\n",
        "            encoded_df_test = encoded_df_test.iloc[:, :-1]\n",
        "        X_test = X_test.drop(columns=[encoding_col])\n",
        "        X_test = X_test.join(encoded_df_test)\n",
        "    # target-encoding based methods generate 1 col from 1 cat col\n",
        "    else:\n",
        "        X_train[encoding_col] = encoder.fit_transform(X_train[encoding_col], X_train[y_feature])\n",
        "        X_test[encoding_col] = encoder.transform(X_test[encoding_col])\n",
        "\n",
        "    X_train.drop(columns=drop_features, inplace=True)\n",
        "    X_test.drop(columns=drop_features, inplace=True)\n",
        "    # normalize\n",
        "    \n",
        "    if normalize_method is not None:\n",
        "        normalizer = eval(normalize_method)()\n",
        "        # X_train[normalize_cols] = normalizer.fit_transform(X_train[normalize_cols])\n",
        "        # X_test[normalize_cols] = normalizer.transform(X_test[normalize_cols])\n",
        "        X_train[normalize_cols] = normalizer.fit_transform(X_train[normalize_cols])\n",
        "        X_test[normalize_cols] = normalizer.transform(X_test[normalize_cols])\n",
        "\n",
        "    return X_train, np.array(y_train), X_test, np.array(y_test)"
      ],
      "metadata": {
        "id": "i7GHXaz2HWLk"
      },
      "execution_count": null,
      "outputs": []
    },
    {
      "cell_type": "code",
      "source": [
        "normalize_cols = fundamentals + technicals + macros_features\n",
        "normalize_cols.remove('T5YIE')\n",
        "normalize_cols.remove('PAYEMS')\n",
        "normalize_cols.extend(['age']) # if it's target-encoded, we normalize; otherwise, we don't\n",
        "drop_features = ['Stock', 'DATE']\n",
        "normalize_cols"
      ],
      "metadata": {
        "colab": {
          "base_uri": "https://localhost:8080/"
        },
        "id": "sThLI1FvNwTC",
        "outputId": "241122e0-88fd-4947-9ae6-de7a0b448834"
      },
      "execution_count": null,
      "outputs": [
        {
          "output_type": "execute_result",
          "data": {
            "text/plain": [
              "['Free.Operating.Cash.Flow',\n",
              " 'Total.Debt.Outstanding',\n",
              " 'Total.Common.Shares.Outstanding',\n",
              " 'Cash.and.Equivalents',\n",
              " 'Net.Income',\n",
              " 'Interest.Expense',\n",
              " 'Short.Interest',\n",
              " 'Avg.Daily.Volume.30D',\n",
              " 'Current.Assets',\n",
              " 'Non.Current.Assets',\n",
              " 'Current.Liabilities',\n",
              " 'RSI.Exponential',\n",
              " 'MACD.Line1',\n",
              " 'Bollinger.Band,Width',\n",
              " 'Price.Mo.Volatility.T12M',\n",
              " 'CPIAUCSL',\n",
              " 'PPIACO',\n",
              " 'T10YIE',\n",
              " 'UNRATE',\n",
              " 'age']"
            ]
          },
          "metadata": {},
          "execution_count": 16
        }
      ]
    },
    {
      "cell_type": "code",
      "source": [
        "cap_columns = []# fundamentals + technicals"
      ],
      "metadata": {
        "id": "Awg3VD_bRFkM"
      },
      "execution_count": null,
      "outputs": []
    },
    {
      "cell_type": "code",
      "source": [
        "test_idx = pd.read_pickle('/content/drive/Shareddrives/CFA project/data/test_idx.pkl')\n",
        "test_idx"
      ],
      "metadata": {
        "colab": {
          "base_uri": "https://localhost:8080/",
          "height": 423
        },
        "id": "S4uNv2KhPReW",
        "outputId": "efbc7844-36f0-4382-dba5-71303ab9a9df"
      },
      "execution_count": null,
      "outputs": [
        {
          "output_type": "execute_result",
          "data": {
            "text/plain": [
              "       Stock    DATE\n",
              "16499    A.N  2020Q1\n",
              "17383    A.N  2020Q2\n",
              "17631    A.N  2020Q3\n",
              "16315  AAP.N  2020Q1\n",
              "17243  AAP.N  2020Q2\n",
              "...      ...     ...\n",
              "17519  ZBH.N  2020Q2\n",
              "17594  ZBH.N  2020Q3\n",
              "16488  ZTS.N  2020Q1\n",
              "17404  ZTS.N  2020Q2\n",
              "17905  ZTS.N  2020Q3\n",
              "\n",
              "[2028 rows x 2 columns]"
            ],
            "text/html": [
              "\n",
              "  <div id=\"df-f9541880-b8ef-446f-b80c-b452d241fae7\">\n",
              "    <div class=\"colab-df-container\">\n",
              "      <div>\n",
              "<style scoped>\n",
              "    .dataframe tbody tr th:only-of-type {\n",
              "        vertical-align: middle;\n",
              "    }\n",
              "\n",
              "    .dataframe tbody tr th {\n",
              "        vertical-align: top;\n",
              "    }\n",
              "\n",
              "    .dataframe thead th {\n",
              "        text-align: right;\n",
              "    }\n",
              "</style>\n",
              "<table border=\"1\" class=\"dataframe\">\n",
              "  <thead>\n",
              "    <tr style=\"text-align: right;\">\n",
              "      <th></th>\n",
              "      <th>Stock</th>\n",
              "      <th>DATE</th>\n",
              "    </tr>\n",
              "  </thead>\n",
              "  <tbody>\n",
              "    <tr>\n",
              "      <th>16499</th>\n",
              "      <td>A.N</td>\n",
              "      <td>2020Q1</td>\n",
              "    </tr>\n",
              "    <tr>\n",
              "      <th>17383</th>\n",
              "      <td>A.N</td>\n",
              "      <td>2020Q2</td>\n",
              "    </tr>\n",
              "    <tr>\n",
              "      <th>17631</th>\n",
              "      <td>A.N</td>\n",
              "      <td>2020Q3</td>\n",
              "    </tr>\n",
              "    <tr>\n",
              "      <th>16315</th>\n",
              "      <td>AAP.N</td>\n",
              "      <td>2020Q1</td>\n",
              "    </tr>\n",
              "    <tr>\n",
              "      <th>17243</th>\n",
              "      <td>AAP.N</td>\n",
              "      <td>2020Q2</td>\n",
              "    </tr>\n",
              "    <tr>\n",
              "      <th>...</th>\n",
              "      <td>...</td>\n",
              "      <td>...</td>\n",
              "    </tr>\n",
              "    <tr>\n",
              "      <th>17519</th>\n",
              "      <td>ZBH.N</td>\n",
              "      <td>2020Q2</td>\n",
              "    </tr>\n",
              "    <tr>\n",
              "      <th>17594</th>\n",
              "      <td>ZBH.N</td>\n",
              "      <td>2020Q3</td>\n",
              "    </tr>\n",
              "    <tr>\n",
              "      <th>16488</th>\n",
              "      <td>ZTS.N</td>\n",
              "      <td>2020Q1</td>\n",
              "    </tr>\n",
              "    <tr>\n",
              "      <th>17404</th>\n",
              "      <td>ZTS.N</td>\n",
              "      <td>2020Q2</td>\n",
              "    </tr>\n",
              "    <tr>\n",
              "      <th>17905</th>\n",
              "      <td>ZTS.N</td>\n",
              "      <td>2020Q3</td>\n",
              "    </tr>\n",
              "  </tbody>\n",
              "</table>\n",
              "<p>2028 rows × 2 columns</p>\n",
              "</div>\n",
              "      <button class=\"colab-df-convert\" onclick=\"convertToInteractive('df-f9541880-b8ef-446f-b80c-b452d241fae7')\"\n",
              "              title=\"Convert this dataframe to an interactive table.\"\n",
              "              style=\"display:none;\">\n",
              "        \n",
              "  <svg xmlns=\"http://www.w3.org/2000/svg\" height=\"24px\"viewBox=\"0 0 24 24\"\n",
              "       width=\"24px\">\n",
              "    <path d=\"M0 0h24v24H0V0z\" fill=\"none\"/>\n",
              "    <path d=\"M18.56 5.44l.94 2.06.94-2.06 2.06-.94-2.06-.94-.94-2.06-.94 2.06-2.06.94zm-11 1L8.5 8.5l.94-2.06 2.06-.94-2.06-.94L8.5 2.5l-.94 2.06-2.06.94zm10 10l.94 2.06.94-2.06 2.06-.94-2.06-.94-.94-2.06-.94 2.06-2.06.94z\"/><path d=\"M17.41 7.96l-1.37-1.37c-.4-.4-.92-.59-1.43-.59-.52 0-1.04.2-1.43.59L10.3 9.45l-7.72 7.72c-.78.78-.78 2.05 0 2.83L4 21.41c.39.39.9.59 1.41.59.51 0 1.02-.2 1.41-.59l7.78-7.78 2.81-2.81c.8-.78.8-2.07 0-2.86zM5.41 20L4 18.59l7.72-7.72 1.47 1.35L5.41 20z\"/>\n",
              "  </svg>\n",
              "      </button>\n",
              "      \n",
              "  <style>\n",
              "    .colab-df-container {\n",
              "      display:flex;\n",
              "      flex-wrap:wrap;\n",
              "      gap: 12px;\n",
              "    }\n",
              "\n",
              "    .colab-df-convert {\n",
              "      background-color: #E8F0FE;\n",
              "      border: none;\n",
              "      border-radius: 50%;\n",
              "      cursor: pointer;\n",
              "      display: none;\n",
              "      fill: #1967D2;\n",
              "      height: 32px;\n",
              "      padding: 0 0 0 0;\n",
              "      width: 32px;\n",
              "    }\n",
              "\n",
              "    .colab-df-convert:hover {\n",
              "      background-color: #E2EBFA;\n",
              "      box-shadow: 0px 1px 2px rgba(60, 64, 67, 0.3), 0px 1px 3px 1px rgba(60, 64, 67, 0.15);\n",
              "      fill: #174EA6;\n",
              "    }\n",
              "\n",
              "    [theme=dark] .colab-df-convert {\n",
              "      background-color: #3B4455;\n",
              "      fill: #D2E3FC;\n",
              "    }\n",
              "\n",
              "    [theme=dark] .colab-df-convert:hover {\n",
              "      background-color: #434B5C;\n",
              "      box-shadow: 0px 1px 3px 1px rgba(0, 0, 0, 0.15);\n",
              "      filter: drop-shadow(0px 1px 2px rgba(0, 0, 0, 0.3));\n",
              "      fill: #FFFFFF;\n",
              "    }\n",
              "  </style>\n",
              "\n",
              "      <script>\n",
              "        const buttonEl =\n",
              "          document.querySelector('#df-f9541880-b8ef-446f-b80c-b452d241fae7 button.colab-df-convert');\n",
              "        buttonEl.style.display =\n",
              "          google.colab.kernel.accessAllowed ? 'block' : 'none';\n",
              "\n",
              "        async function convertToInteractive(key) {\n",
              "          const element = document.querySelector('#df-f9541880-b8ef-446f-b80c-b452d241fae7');\n",
              "          const dataTable =\n",
              "            await google.colab.kernel.invokeFunction('convertToInteractive',\n",
              "                                                     [key], {});\n",
              "          if (!dataTable) return;\n",
              "\n",
              "          const docLinkHtml = 'Like what you see? Visit the ' +\n",
              "            '<a target=\"_blank\" href=https://colab.research.google.com/notebooks/data_table.ipynb>data table notebook</a>'\n",
              "            + ' to learn more about interactive tables.';\n",
              "          element.innerHTML = '';\n",
              "          dataTable['output_type'] = 'display_data';\n",
              "          await google.colab.output.renderOutput(dataTable, element);\n",
              "          const docLink = document.createElement('div');\n",
              "          docLink.innerHTML = docLinkHtml;\n",
              "          element.appendChild(docLink);\n",
              "        }\n",
              "      </script>\n",
              "    </div>\n",
              "  </div>\n",
              "  "
            ]
          },
          "metadata": {},
          "execution_count": 18
        }
      ]
    },
    {
      "cell_type": "code",
      "source": [
        "from sklearn.preprocessing import MinMaxScaler\n",
        "\n",
        "X_train_val_diff, y_train_val_diff, X_test_val_diff, y_test_val_diff = prepare_data(data = df_val_diff, drop_features = drop_features, y_feature ='next_close', test_size=0.2, test_idx=test_idx, normalize_cols=normalize_cols, clip_outliers_cols=cap_columns, clip_quantile=0.95, encoding_method='BinaryEncoder',\n",
        "                 train_test_split_type='idx', normalize_method='StandardScaler', \n",
        "                 encoding_col='sector',  random_seed=40)\n",
        "\n",
        "X_train_val, y_train_val, X_test_val, y_test_val = prepare_data(data = df_val, drop_features = drop_features, y_feature ='next_close', test_size=0.2, test_idx=test_idx, normalize_cols=normalize_cols, clip_outliers_cols=cap_columns, clip_quantile=0.95, encoding_method='BinaryEncoder',\n",
        "                 train_test_split_type='idx', normalize_method='StandardScaler', \n",
        "                 encoding_col='sector',  random_seed=40)"
      ],
      "metadata": {
        "id": "DbkGWNZXNcdW"
      },
      "execution_count": null,
      "outputs": []
    },
    {
      "cell_type": "code",
      "source": [
        "X_train_val.columns"
      ],
      "metadata": {
        "colab": {
          "base_uri": "https://localhost:8080/"
        },
        "id": "DI3REd_RXMeV",
        "outputId": "93e0b0ea-1246-4172-8936-6f41cd9d77df"
      },
      "execution_count": null,
      "outputs": [
        {
          "output_type": "execute_result",
          "data": {
            "text/plain": [
              "Index(['Free.Operating.Cash.Flow', 'Total.Debt.Outstanding',\n",
              "       'Total.Common.Shares.Outstanding', 'Cash.and.Equivalents', 'Net.Income',\n",
              "       'Interest.Expense', 'Short.Interest', 'Avg.Daily.Volume.30D',\n",
              "       'Current.Assets', 'Non.Current.Assets', 'Current.Liabilities',\n",
              "       'RSI.Exponential', 'MACD.Line1', 'Bollinger.Band,Width',\n",
              "       'Price.Mo.Volatility.T12M', 'CPIAUCSL', 'PPIACO', 'T10YIE', 'UNRATE',\n",
              "       'age', 'Month_sin', 'Month_cos', 'sector_0', 'sector_1', 'sector_2',\n",
              "       'sector_3'],\n",
              "      dtype='object')"
            ]
          },
          "metadata": {},
          "execution_count": 21
        }
      ]
    },
    {
      "cell_type": "markdown",
      "source": [
        "### Feature Engineering"
      ],
      "metadata": {
        "id": "qRnRD3MJYwvX"
      }
    },
    {
      "cell_type": "code",
      "source": [
        "from sklearn.ensemble import RandomForestRegressor\n",
        "rf = RandomForestRegressor()\n",
        "rf.fit(X_train_val, y_train_val)"
      ],
      "metadata": {
        "colab": {
          "base_uri": "https://localhost:8080/"
        },
        "id": "nQ7EIReVY2Hb",
        "outputId": "602bec10-ac26-4ea7-920a-71d3c78132d5"
      },
      "execution_count": null,
      "outputs": [
        {
          "output_type": "execute_result",
          "data": {
            "text/plain": [
              "RandomForestRegressor()"
            ]
          },
          "metadata": {},
          "execution_count": 24
        }
      ]
    },
    {
      "cell_type": "code",
      "source": [
        "f_i = list(zip(X_train_val.columns,rf.feature_importances_))\n",
        "f_i.sort(key = lambda x : x[1])\n",
        "plt.barh([x[0] for x in f_i],[x[1] for x in f_i])\n",
        "\n",
        "plt.show()"
      ],
      "metadata": {
        "colab": {
          "base_uri": "https://localhost:8080/",
          "height": 485
        },
        "id": "eUMdbj36Z5eC",
        "outputId": "72059aa8-b6a7-4f52-c590-44daec284839"
      },
      "execution_count": null,
      "outputs": [
        {
          "output_type": "display_data",
          "data": {
            "text/plain": [
              "<Figure size 792x576 with 1 Axes>"
            ],
            "image/png": "[encoded data removed]"
          },
          "metadata": {}
        }
      ]
    },
    {
      "cell_type": "code",
      "source": [
        "def drop_k_features(sorted_f,k):\n",
        "  return [i[0] for i in sorted_f[:k]]\n"
      ],
      "metadata": {
        "id": "wslbDPjRamx6"
      },
      "execution_count": null,
      "outputs": []
    },
    {
      "cell_type": "code",
      "source": [
        "to_drop = drop_k_features(f_i, 5)"
      ],
      "metadata": {
        "id": "5J7mzpzVgdB_",
        "colab": {
          "base_uri": "https://localhost:8080/",
          "height": 168
        },
        "outputId": "3aaf8cd4-0212-46fa-fc45-cd70657aec80"
      },
      "execution_count": null,
      "outputs": [
        {
          "output_type": "error",
          "ename": "NameError",
          "evalue": "ignored",
          "traceback": [
            "\u001b[0;31m---------------------------------------------------------------------------\u001b[0m",
            "\u001b[0;31mNameError\u001b[0m                                 Traceback (most recent call last)",
            "\u001b[0;32m<ipython-input-22-83d231d71403>\u001b[0m in \u001b[0;36m<module>\u001b[0;34m()\u001b[0m\n\u001b[0;32m----> 1\u001b[0;31m \u001b[0mto_drop\u001b[0m \u001b[0;34m=\u001b[0m \u001b[0mdrop_k_features\u001b[0m\u001b[0;34m(\u001b[0m\u001b[0mf_i\u001b[0m\u001b[0;34m,\u001b[0m \u001b[0;36m5\u001b[0m\u001b[0;34m)\u001b[0m\u001b[0;34m\u001b[0m\u001b[0;34m\u001b[0m\u001b[0m\n\u001b[0m",
            "\u001b[0;31mNameError\u001b[0m: name 'drop_k_features' is not defined"
          ]
        }
      ]
    },
    {
      "cell_type": "code",
      "source": [
        "to_drop = ['sector_0', 'Month_sin', 'Month_cos', 'sector_3', 'T10YIE']"
      ],
      "metadata": {
        "id": "p0240T0mPdrt"
      },
      "execution_count": null,
      "outputs": []
    },
    {
      "cell_type": "code",
      "source": [
        "X_train_val_dropped, X_test_val_dropped = X_train_val.drop(columns=to_drop), X_test_val.drop(columns=to_drop)"
      ],
      "metadata": {
        "id": "io8ampP_abDR"
      },
      "execution_count": null,
      "outputs": []
    },
    {
      "cell_type": "markdown",
      "source": [
        "# Training"
      ],
      "metadata": {
        "id": "5h9vdSX6O6fn"
      }
    },
    {
      "cell_type": "code",
      "source": [
        "from sklearn.inspection import permutation_importance\n",
        "from sklearn.metrics import r2_score\n",
        "from sklearn.metrics import mean_squared_error\n",
        "from sklearn.linear_model import LinearRegression\n",
        "from sklearn.svm import SVR\n",
        "from sklearn.ensemble import RandomForestRegressor\n",
        "from sklearn.neural_network import MLPRegressor\n",
        "from sklearn.model_selection import RandomizedSearchCV\n",
        "from sklearn import linear_model\n",
        "from sklearn.model_selection import GridSearchCV\n",
        "\n",
        "import xgboost"
      ],
      "metadata": {
        "id": "vTSBbbyjXw7l"
      },
      "execution_count": null,
      "outputs": []
    },
    {
      "cell_type": "code",
      "source": [
        "b = np.argsort(permutation_importance(reg,X_train,y_train)['importances_std'])\n"
      ],
      "metadata": {
        "id": "MxPeSvZEa947"
      },
      "execution_count": null,
      "outputs": []
    },
    {
      "cell_type": "markdown",
      "source": [
        "#### Predicted using value->value"
      ],
      "metadata": {
        "id": "k2QoALd3WiF8"
      }
    },
    {
      "cell_type": "code",
      "source": [
        "from sklearn.metrics import mean_squared_error\n",
        "from sklearn.metrics import r2_score"
      ],
      "metadata": {
        "id": "Fqn37IIHJJ81"
      },
      "execution_count": null,
      "outputs": []
    },
    {
      "cell_type": "code",
      "source": [
        "print('R-square Correlation')\n",
        "print('lr: ', r2_score(y_test_val, predicted_lr_val))\n",
        "print('svm: ', r2_score(y_test_val, predicted_svm_val))\n",
        "print('rf: ', r2_score(y_test_val, predicted_rf_val))\n",
        "print('nn: ', r2_score(y_test_val, predicted_nn_val))\n",
        "print('xgb: ', r2_score(y_test_val, predicted_xgb_val))\n",
        "print('MSE Error')\n",
        "print('lr: ', mean_squared_error(y_test_val, predicted_lr_val))\n",
        "print('svm: ', mean_squared_error(y_test_val, predicted_svm_val))\n",
        "print('rf: ', mean_squared_error(y_test_val, predicted_rf_val))\n",
        "print('nn: ', mean_squared_error(y_test_val, predicted_nn_val))\n",
        "print('xgb: ', mean_squared_error(y_test_val, predicted_xgb_val))"
      ],
      "metadata": {
        "colab": {
          "base_uri": "https://localhost:8080/"
        },
        "id": "Y7oja6otXxRe",
        "outputId": "43ab3e8a-95f7-42ef-b2d0-e82f3c230ea1"
      },
      "execution_count": null,
      "outputs": [
        {
          "output_type": "stream",
          "name": "stdout",
          "text": [
            "R-square Correlation\n",
            "lr:  0.7090584289193649\n",
            "svm:  0.052746525989994075\n",
            "rf:  0.81412954759458\n",
            "nn:  0.27132972836408453\n",
            "xgb:  0.8565797643286381\n",
            "MSE Error\n",
            "lr:  7772.215941276902\n",
            "svm:  25304.938458210323\n",
            "rf:  4965.345061663169\n",
            "nn:  19465.704677773996\n",
            "xgb:  3831.3295616242813\n"
          ]
        }
      ]
    },
    {
      "cell_type": "markdown",
      "source": [
        "##### After dropping less-important features"
      ],
      "metadata": {
        "id": "5MDlR1pbjLXy"
      }
    },
    {
      "cell_type": "markdown",
      "source": [
        "###### LR"
      ],
      "metadata": {
        "id": "15ILC_KhzELm"
      }
    },
    {
      "cell_type": "code",
      "source": [
        "lr = linear_model.Ridge()\n",
        "lr_params = {'alpha': [64, 128, 256, 512, 600, 650, 900]}\n",
        "ridge_gridsearch = GridSearchCV(lr, lr_params, scoring = 'neg_mean_squared_error')\n",
        "ridge_gridsearch.fit(X_train_val_dropped, y_train_val)\n",
        "\n",
        "ridge_gridsearch.best_params_"
      ],
      "metadata": {
        "colab": {
          "base_uri": "https://localhost:8080/"
        },
        "id": "e0MPBbQly5VX",
        "outputId": "6315855f-1fad-4205-8a26-ea2a6940f21b"
      },
      "execution_count": null,
      "outputs": [
        {
          "output_type": "execute_result",
          "data": {
            "text/plain": [
              "{'alpha': 600}"
            ]
          },
          "metadata": {},
          "execution_count": 24
        }
      ]
    },
    {
      "cell_type": "code",
      "source": [
        "lr = linear_model.Lasso()\n",
        "lr_params = {'alpha': [0.02, 0.04, 0.16, 0.32, 0.64]}\n",
        "lasso_gridsearch = GridSearchCV(lr, lr_params, scoring = 'neg_mean_squared_error')\n",
        "lasso_gridsearch.fit(X_train_val_dropped, y_train_val)\n",
        "\n",
        "lasso_gridsearch.best_params_"
      ],
      "metadata": {
        "colab": {
          "base_uri": "https://localhost:8080/"
        },
        "id": "UYVENT0PU9oi",
        "outputId": "587ca728-76f2-4c15-e48c-bc27fbe5b9b6"
      },
      "execution_count": null,
      "outputs": [
        {
          "output_type": "execute_result",
          "data": {
            "text/plain": [
              "{'alpha': 0.16}"
            ]
          },
          "metadata": {},
          "execution_count": 25
        }
      ]
    },
    {
      "cell_type": "code",
      "source": [
        "ridge = linear_model.Ridge(**ridge_gridsearch.best_params_)\n",
        "ridge.fit(X_train_val_dropped, y_train_val)\n",
        "print('Ridge: ', r2_score(y_test_val, ridge.predict(X_test_val_dropped)))\n",
        "\n",
        "lasso = linear_model.Lasso(**lasso_gridsearch.best_params_)\n",
        "lasso.fit(X_train_val_dropped, y_train_val)\n",
        "print('Lasso: ', r2_score(y_test_val, lasso.predict(X_test_val_dropped)))"
      ],
      "metadata": {
        "colab": {
          "base_uri": "https://localhost:8080/"
        },
        "id": "Z4Rb2kyBVuNC",
        "outputId": "16c530b7-e4d4-4221-aa13-21b4ebae92fc"
      },
      "execution_count": null,
      "outputs": [
        {
          "output_type": "stream",
          "name": "stdout",
          "text": [
            "Ridge:  0.6908902195921647\n",
            "Lasso:  0.7373515267572341\n"
          ]
        }
      ]
    },
    {
      "cell_type": "code",
      "source": [
        "predicted_lasso = lasso.predict(X_test_val_dropped)\n",
        "predicted_ridge = ridge.predict(X_test_val_dropped)"
      ],
      "metadata": {
        "id": "TNdscBlHYVIJ"
      },
      "execution_count": null,
      "outputs": []
    },
    {
      "cell_type": "markdown",
      "source": [
        "###### SVR"
      ],
      "metadata": {
        "id": "_m-M5FobB5bl"
      }
    },
    {
      "cell_type": "code",
      "source": [
        "param_grid = {'C': [0.1, 1, 10, 100, 1000],\n",
        "              'gamma': [1, 0.1, 0.01, 0.001, 0.0001],\n",
        "              'kernel': ['rbf']}\n",
        "\n",
        "gridsvm = GridSearchCV(SVR(), param_grid, scoring = 'neg_mean_squared_error')\n",
        "gridsvm.fit(X_train_val_dropped, y_train_val)\n",
        "\n",
        "print(gridsvm.best_params_)\n",
        "print('svm r2: ', r2_score(y_test_val, gridsvm.best_estimator_.predict(X_test_val_dropped)))"
      ],
      "metadata": {
        "colab": {
          "base_uri": "https://localhost:8080/"
        },
        "id": "uNWdxWg1B95M",
        "outputId": "c9671155-a4eb-4f04-e0e0-b3722e4f6766"
      },
      "execution_count": null,
      "outputs": [
        {
          "output_type": "stream",
          "name": "stdout",
          "text": [
            "{'C': 1000, 'gamma': 0.01, 'kernel': 'rbf'}\n",
            "svm r2:  0.4822926005616298\n"
          ]
        }
      ]
    },
    {
      "cell_type": "code",
      "source": [
        "svm_best_params = {'C': 1000, 'gamma': 0.01, 'kernel': 'rbf'}\n",
        "svr = SVR(**svm_best_params)\n",
        "svr.fit(X_train_val_dropped, y_train_val)\n",
        "predicted_svm = svr.predict(X_test_val_dropped)\n",
        "print('svr: ', r2_score(y_test_val, predicted_svm))"
      ],
      "metadata": {
        "colab": {
          "base_uri": "https://localhost:8080/"
        },
        "id": "nNVm90ZoDQAq",
        "outputId": "444a6988-b3c6-4092-b6f2-ebeac28703b5"
      },
      "execution_count": null,
      "outputs": [
        {
          "output_type": "stream",
          "name": "stdout",
          "text": [
            "svr:  0.4822926005616298\n"
          ]
        }
      ]
    },
    {
      "cell_type": "markdown",
      "source": [
        "###### RF"
      ],
      "metadata": {
        "id": "I6dY971yPkWg"
      }
    },
    {
      "cell_type": "code",
      "source": [
        "\n",
        "random_grid = {'max_depth': [10, 20, 30, 40, 50, 60, 70, 80, 90, 100, 110, None],\n",
        "               'max_features': ['auto', 'sqrt'],\n",
        "               'min_samples_leaf': [1, 2, 4],\n",
        "               'min_samples_split': [2, 5, 10],\n",
        "               'n_estimators': [130, 180, 230]}\n",
        "random_rf = RandomizedSearchCV(RandomForestRegressor(), random_grid, scoring = 'neg_mean_squared_error')\n",
        "random_rf.fit(X_train_val_dropped, y_train_val)\n",
        "\n",
        "print(random_rf.best_params_)\n",
        "print('rf r2: ', r2_score(y_test_val, random_rf.best_estimator_.predict(X_test_val_dropped)))"
      ],
      "metadata": {
        "colab": {
          "base_uri": "https://localhost:8080/"
        },
        "id": "iZe6651XPnCc",
        "outputId": "1a8a6e56-4acd-4070-c1a3-f1fdef19abd7"
      },
      "execution_count": null,
      "outputs": [
        {
          "output_type": "stream",
          "name": "stdout",
          "text": [
            "{'n_estimators': 130, 'min_samples_split': 2, 'min_samples_leaf': 1, 'max_features': 'auto', 'max_depth': 90}\n",
            "rf r2:  0.8265386326600394\n"
          ]
        }
      ]
    },
    {
      "cell_type": "code",
      "source": [
        "rf_best_params = {'n_estimators': 130, 'min_samples_split': 2, 'min_samples_leaf': 1, 'max_features': 'auto', 'max_depth': 90}\n",
        "rf = RandomForestRegressor(**rf_best_params)\n",
        "rf.fit(X_train_val_dropped, y_train_val)\n",
        "predicted_rf = rf.predict(X_test_val_dropped)\n",
        "print('RF: ', r2_score(y_test_val, predicted_rf))"
      ],
      "metadata": {
        "colab": {
          "base_uri": "https://localhost:8080/"
        },
        "id": "UQUP3LEPaLZP",
        "outputId": "50780b86-6292-483a-cd45-e5f74285046d"
      },
      "execution_count": null,
      "outputs": [
        {
          "output_type": "stream",
          "name": "stdout",
          "text": [
            "RF:  0.820169276806173\n"
          ]
        }
      ]
    },
    {
      "cell_type": "code",
      "source": [
        "rf = RandomForestRegressor()\n",
        "rf.fit(X_train_val_dropped, y_train_val)\n",
        "predicted_rf = rf.predict(X_test_val_dropped)\n",
        "print('RF: ', r2_score(y_test_val, predicted_rf))"
      ],
      "metadata": {
        "colab": {
          "base_uri": "https://localhost:8080/"
        },
        "id": "jzNccvTPuwIx",
        "outputId": "bb08cf98-78a3-48f1-f0b4-6941e117afdd"
      },
      "execution_count": null,
      "outputs": [
        {
          "output_type": "stream",
          "name": "stdout",
          "text": [
            "RF:  0.8336875534221768\n"
          ]
        }
      ]
    },
    {
      "cell_type": "code",
      "source": [
        "xgb_params = {'max_depth': [3, 5, 6, 10, 15, 20],\n",
        "              'learning_rate': [0.01, 0.1, 0.2, 0.3],\n",
        "              'subsample': np.arange(0.5, 1.0, 0.1),\n",
        "              'colsample_bytree': np.arange(0.4, 1.0, 0.1),\n",
        "              'colsample_bylevel': np.arange(0.4, 1.0, 0.1),\n",
        "              'n_estimators': [100, 500, 1000]}\n",
        "\n",
        "\n",
        "xgbr = xgboost.XGBRegressor()\n",
        "randomsearch_xgbr = RandomizedSearchCV(estimator=xgbr,\n",
        "                         param_distributions=xgb_params,\n",
        "                         scoring='neg_mean_squared_error',\n",
        "                         n_iter=25,\n",
        "                         verbose=1)\n",
        "randomsearch_xgbr.fit(X_train_val_dropped, y_train_val)\n",
        "print(randomsearch_xgbr.best_params_)\n",
        "print('xgb r2: ', r2_score(y_test_val, randomsearch_xgbr.best_estimator_.predict(X_test_val_dropped)))"
      ],
      "metadata": {
        "id": "jlF3rxcCabVD"
      },
      "execution_count": null,
      "outputs": []
    },
    {
      "cell_type": "code",
      "source": [
        "xgb = xgboost.XGBRegressor()\n",
        "xgb.fit(X_train_val_dropped, y_train_val)\n",
        "predicted_xgb = xgb.predict(X_test_val_dropped)\n",
        "print('xgb: ', r2_score(y_test_val, predicted_xgb))"
      ],
      "metadata": {
        "colab": {
          "base_uri": "https://localhost:8080/"
        },
        "id": "kwLc1fJ-vHCn",
        "outputId": "b6165d09-c97f-47c8-9734-93dec32c99ec"
      },
      "execution_count": null,
      "outputs": [
        {
          "output_type": "stream",
          "name": "stdout",
          "text": [
            "[14:47:05] WARNING: /workspace/src/objective/regression_obj.cu:152: reg:linear is now deprecated in favor of reg:squarederror.\n",
            "xgb:  0.8584827063750196\n"
          ]
        }
      ]
    },
    {
      "cell_type": "markdown",
      "source": [
        "### NN"
      ],
      "metadata": {
        "id": "Et4_coSwsvHO"
      }
    },
    {
      "cell_type": "code",
      "source": [
        "!pip install pytorch_lightning"
      ],
      "metadata": {
        "id": "5o_puU69szR7"
      },
      "execution_count": null,
      "outputs": []
    },
    {
      "cell_type": "code",
      "source": [
        "from torch import nn\n",
        "import pytorch_lightning as pl\n",
        "import torch.nn.functional as F\n",
        "from torch.optim import SGD\n",
        "\n",
        "class model(pl.LightningModule):\n",
        "    def __init__(self):\n",
        "        super(model,self).__init__()\n",
        "        self.fc1 = nn.Linear(28*28,256)\n",
        "        self.fc2 = nn.Linear(256,128)\n",
        "        self.out = nn.Linear(128,10)\n",
        "        self.lr = 0.01\n",
        "        self.loss = nn.CrossEntropyLoss()\n",
        "    \n",
        "    def forward(self,x):\n",
        "        batch_size, _, _, _ = x.size()\n",
        "        x = x.view(batch_size,-1)\n",
        "        x = F.relu(self.fc1(x))\n",
        "        x = F.relu(self.fc2(x))\n",
        "        return self.out(x)\n",
        "    \n",
        "    def configure_optimizers(self):\n",
        "        return SGD(self.parameters(),lr = self.lr)\n",
        "    \n",
        "    def training_step(self, train_batch, batch_idx):\n",
        "        x, y = train_batch\n",
        "        logits = self.forward(x)\n",
        "        loss = self.loss(logits,y)\n",
        "        return loss\n",
        "    \n",
        "    def validation_step(self, valid_batch, batch_idx):\n",
        "        x, y = valid_batch\n",
        "        logits = self.forward(x)\n",
        "        loss = self.loss(logits,y)"
      ],
      "metadata": {
        "id": "1frcXvKWswm_"
      },
      "execution_count": null,
      "outputs": []
    },
    {
      "cell_type": "markdown",
      "source": [
        "### Neural Net"
      ],
      "metadata": {
        "id": "qka3i6mDWUo7"
      }
    },
    {
      "cell_type": "code",
      "source": [
        "import torch\n",
        "import torch.nn as nn\n",
        "import torch.nn.functional as F\n",
        "from torch.utils.data import DataLoader, Dataset"
      ],
      "metadata": {
        "id": "iL6hmgEzfFss"
      },
      "execution_count": null,
      "outputs": []
    },
    {
      "cell_type": "code",
      "source": [
        "val_size = 0.2\n",
        "train_val_split_point = int(np.ceil(len(X_train) * val_size))\n",
        "\n",
        "X_train, y_train, X_val, y_val = X_train[train_val_split_point:], y_train[train_val_split_point:], X_train[:train_val_split_point], y_train[:train_val_split_point]"
      ],
      "metadata": {
        "id": "r2o1rpzFNP54"
      },
      "execution_count": null,
      "outputs": []
    },
    {
      "cell_type": "code",
      "source": [
        "class BasicDataset(Dataset):\n",
        "  def __init__(self, X, y):\n",
        "    self.X = X\n",
        "    self.y = y\n",
        "\n",
        "  def __len__(self):\n",
        "    return len(self.y)\n",
        "\n",
        "  def __getitem__(self, index):\n",
        "    return self.X[index], self.y[index]"
      ],
      "metadata": {
        "id": "8dJPcbb4OnNn"
      },
      "execution_count": null,
      "outputs": []
    },
    {
      "cell_type": "code",
      "source": [
        "train_dataloader = DataLoader(BasicDataset(X_train, y_train), batch_size=64, shuffle=True)\n",
        "val_dataloader = DataLoader(BasicDataset(X_val, y_val), batch_size=64, shuffle=True)\n",
        "test_dataloader = DataLoader(BasicDataset(X_test, y_test), batch_size=64, shuffle=True)"
      ],
      "metadata": {
        "id": "mLlCLCebRuid"
      },
      "execution_count": null,
      "outputs": []
    },
    {
      "cell_type": "code",
      "source": [
        "from torch.nn.modules.activation import LeakyReLU\n",
        "class BasicNet(nn.Module):\n",
        "    def __init__(self, n_features):\n",
        "        super().__init__()\n",
        "        self.layers = nn.Sequential(\n",
        "          nn.Linear(n_features, n_features*2),\n",
        "          #nn.Dropout(p=0.5),\n",
        "          nn.ReLU(),\n",
        "          # nn.Linear(64, 32),\n",
        "          nn.Dropout(p=0.5),\n",
        "          # nn.ReLU(),\n",
        "          nn.Linear(n_features*2, n_features),\n",
        "          nn.ReLU(),\n",
        "          # nn.LeakyReLU(),\n",
        "          nn.Linear(n_features, 1)\n",
        "          # nn.LeakyReLU()\n",
        "        )\n",
        "\n",
        "\n",
        "    def forward(self, x):\n",
        "\n",
        "      return self.layers(x)"
      ],
      "metadata": {
        "id": "5wZVbp8PfLCT"
      },
      "execution_count": null,
      "outputs": []
    },
    {
      "cell_type": "code",
      "source": [
        "epochs = 100\n",
        "n_features = X_train.shape[1]\n",
        "basenet = BasicNet(n_features)\n",
        "criterion = torch.nn.MSELoss()\n",
        "optimizer = torch.optim.Adam(basenet.parameters(), lr=0.001)\n",
        "device = \"cpu\"  # \"cuda:0\" if torch.cuda.is_available() else \"cpu\"\n",
        "patience = 20\n"
      ],
      "metadata": {
        "id": "09_6CcNQMXvW"
      },
      "execution_count": null,
      "outputs": []
    },
    {
      "cell_type": "code",
      "source": [
        "training_loss_list = []\n",
        "val_loss_list = []\n",
        "best_val_loss = np.inf\n",
        "patience_count = 0\n",
        "\n",
        "for epoch in range(epochs):\n",
        "    basenet.train()\n",
        "\n",
        "    training_loss_per_pass = 0\n",
        "    for i, (data, labels) in enumerate(train_dataloader):\n",
        "        data = data.float().to(device)\n",
        "        labels = labels.float().to(device)\n",
        "        outputs = basenet(data)\n",
        "        print(outputs.squeeze().shape, labels.shape)\n",
        "        loss = criterion(outputs.squeeze(), labels)\n",
        "        optimizer.zero_grad()\n",
        "        loss.backward()\n",
        "        optimizer.step()\n",
        "        training_loss_per_pass += loss.item()\n",
        "        break\n",
        "    training_loss_list.append(training_loss_per_pass)\n",
        "    # validation\n",
        "    val_loss_per_pass = 0\n",
        "    basenet.eval()\n",
        "    with torch.no_grad():\n",
        "        for data, labels in val_dataloader:\n",
        "            data = data.float().to(device)\n",
        "            labels = labels.float().to(device)\n",
        "            outputs = basenet(data)\n",
        "            val_loss = criterion(outputs, labels)\n",
        "            val_loss_per_pass += val_loss.item()\n",
        "    val_loss_list.append(val_loss_per_pass)\n",
        "    print('Epoch [{}/{}], Training Loss: {:.4f}, Validation Loss: {:.4f}'\n",
        "          .format(epoch + 1, epochs, training_loss_per_pass, val_loss_per_pass))\n",
        "    if val_loss_per_pass <= best_val_loss:\n",
        "        best_val_loss = val_loss_per_pass\n",
        "        best_model = basenet.state_dict()\n",
        "        patience_count = 0\n",
        "        best_epoch = epoch+1\n",
        "    # else:\n",
        "    #     patience_count += 1\n",
        "    #     if patience_count >= patience:\n",
        "    #         print(\" --- Early Stopped ---\")\n",
        "    #         break\n",
        "    break"
      ],
      "metadata": {
        "id": "hbrMdIOeTUfY",
        "colab": {
          "base_uri": "https://localhost:8080/"
        },
        "outputId": "23759f9d-dcbd-4897-d2cb-5708c0adaaa5"
      },
      "execution_count": null,
      "outputs": [
        {
          "output_type": "stream",
          "name": "stdout",
          "text": [
            "torch.Size([64]) torch.Size([64])\n",
            "Epoch [1/100], Training Loss: 0.0237, Validation Loss: 1.5611\n"
          ]
        },
        {
          "output_type": "stream",
          "name": "stderr",
          "text": [
            "/usr/local/lib/python3.7/dist-packages/torch/nn/modules/loss.py:529: UserWarning: Using a target size (torch.Size([64])) that is different to the input size (torch.Size([64, 1])). This will likely lead to incorrect results due to broadcasting. Please ensure they have the same size.\n",
            "  return F.mse_loss(input, target, reduction=self.reduction)\n",
            "/usr/local/lib/python3.7/dist-packages/torch/nn/modules/loss.py:529: UserWarning: Using a target size (torch.Size([30])) that is different to the input size (torch.Size([30, 1])). This will likely lead to incorrect results due to broadcasting. Please ensure they have the same size.\n",
            "  return F.mse_loss(input, target, reduction=self.reduction)\n"
          ]
        }
      ]
    },
    {
      "cell_type": "code",
      "source": [
        "s = torch.tensor([[1,2,3]])\n",
        "s.shape"
      ],
      "metadata": {
        "colab": {
          "base_uri": "https://localhost:8080/"
        },
        "id": "llFSygXMTQ49",
        "outputId": "c9ad9140-22e2-41d7-9e9f-6907811d595e"
      },
      "execution_count": null,
      "outputs": [
        {
          "output_type": "execute_result",
          "data": {
            "text/plain": [
              "torch.Size([1, 3])"
            ]
          },
          "metadata": {},
          "execution_count": 44
        }
      ]
    },
    {
      "cell_type": "code",
      "source": [
        "f = torch.zeros(3,1)\n",
        "f"
      ],
      "metadata": {
        "colab": {
          "base_uri": "https://localhost:8080/"
        },
        "id": "T_diorQATV27",
        "outputId": "a6f39ca9-042a-4ae3-eefd-46a6d0beb116"
      },
      "execution_count": null,
      "outputs": [
        {
          "output_type": "execute_result",
          "data": {
            "text/plain": [
              "tensor([[0.],\n",
              "        [0.],\n",
              "        [0.]])"
            ]
          },
          "metadata": {},
          "execution_count": 46
        }
      ]
    },
    {
      "cell_type": "code",
      "source": [
        "f.squeeze()"
      ],
      "metadata": {
        "colab": {
          "base_uri": "https://localhost:8080/"
        },
        "id": "_Zw0b15HTeWR",
        "outputId": "e60e2857-53e5-4c9a-c7f0-d6633bde0d63"
      },
      "execution_count": null,
      "outputs": [
        {
          "output_type": "execute_result",
          "data": {
            "text/plain": [
              "tensor([0., 0., 0.])"
            ]
          },
          "metadata": {},
          "execution_count": 47
        }
      ]
    },
    {
      "cell_type": "code",
      "source": [
        "plt.plot(training_loss_list)\n",
        "plt.plot(val_loss_list)\n",
        "plt.show()"
      ],
      "metadata": {
        "colab": {
          "base_uri": "https://localhost:8080/",
          "height": 487
        },
        "id": "8Z-gj8vAe2c6",
        "outputId": "745ccefc-f8e0-4258-fffa-23009f8ecd5f"
      },
      "execution_count": null,
      "outputs": [
        {
          "output_type": "display_data",
          "data": {
            "text/plain": [
              "<Figure size 792x576 with 1 Axes>"
            ],
            "image/png": "[encoded data removed]"
          },
          "metadata": {}
        }
      ]
    },
    {
      "cell_type": "code",
      "source": [
        "test_model = BasicNet(n_features)\n",
        "test_model.load_state_dict(best_model)\n",
        "\n",
        "with torch.no_grad():\n",
        "  predicted = test_model(torch.tensor(X_test).float())"
      ],
      "metadata": {
        "id": "r-heYr_jj6y_"
      },
      "execution_count": null,
      "outputs": []
    },
    {
      "cell_type": "code",
      "source": [
        "predicted_nn = np.array(predicted).reshape([5591])"
      ],
      "metadata": {
        "id": "Ga46nUdFreLg"
      },
      "execution_count": null,
      "outputs": []
    },
    {
      "cell_type": "code",
      "source": [
        "X_test.shape"
      ],
      "metadata": {
        "colab": {
          "base_uri": "https://localhost:8080/"
        },
        "id": "SIE6THR7quqQ",
        "outputId": "8001b2bc-639a-4dd8-d660-1b1dde88cdba"
      },
      "execution_count": null,
      "outputs": [
        {
          "output_type": "execute_result",
          "data": {
            "text/plain": [
              "(5591, 26)"
            ]
          },
          "metadata": {},
          "execution_count": 47
        }
      ]
    },
    {
      "cell_type": "code",
      "source": [
        "print('nn: ', mean_squared_error(y_test, predicted_nn))"
      ],
      "metadata": {
        "colab": {
          "base_uri": "https://localhost:8080/"
        },
        "id": "PYnQwhgNr4AL",
        "outputId": "c894d6d0-b787-45de-9db6-a02c74785604"
      },
      "execution_count": null,
      "outputs": [
        {
          "output_type": "stream",
          "name": "stdout",
          "text": [
            "nn:  0.02568518415275452\n"
          ]
        }
      ]
    },
    {
      "cell_type": "code",
      "source": [
        "from sklearn.metrics import mean_squared_error, mean_absolute_error,r2_score"
      ],
      "metadata": {
        "id": "wo_TqWwVSk0I"
      },
      "execution_count": null,
      "outputs": []
    },
    {
      "cell_type": "code",
      "source": [
        "np.array(predicted).reshape([5591])"
      ],
      "metadata": {
        "colab": {
          "base_uri": "https://localhost:8080/"
        },
        "id": "UrbxGvWTOf7o",
        "outputId": "eb711a0e-d0da-48a9-d8a2-bd9f9e94d098"
      },
      "execution_count": null,
      "outputs": [
        {
          "output_type": "execute_result",
          "data": {
            "text/plain": [
              "array([0.02348677, 0.02432479, 0.02410356, ..., 0.02585591, 0.02385829,\n",
              "       0.02337763], dtype=float32)"
            ]
          },
          "metadata": {},
          "execution_count": 51
        }
      ]
    },
    {
      "cell_type": "markdown",
      "source": [
        "#### LSTM"
      ],
      "metadata": {
        "id": "6dln0MMGJrMY"
      }
    },
    {
      "cell_type": "code",
      "source": [
        "X_train_val.shape"
      ],
      "metadata": {
        "colab": {
          "base_uri": "https://localhost:8080/"
        },
        "id": "F15yaWt4J59o",
        "outputId": "80fe049c-4ec1-4197-f118-b1a3de90b74e"
      },
      "execution_count": null,
      "outputs": [
        {
          "output_type": "execute_result",
          "data": {
            "text/plain": [
              "(16224, 26)"
            ]
          },
          "metadata": {},
          "execution_count": 49
        }
      ]
    },
    {
      "cell_type": "code",
      "source": [
        "best_lstm = LSTMV2(n_hidden=n_hidden, n_features=n_features, seq_length=seq_length, n_layers=n_layers).double()\n",
        "best_lstm.load_state_dict(torch.load('/content/drive/Shareddrives/CFA project/checkpoints/state_dict_split_date.pt'))\n",
        "best_lstm.eval()\n",
        "with torch.no_grad():\n",
        "  test_h = best_lstm.init_hidden(X_test.shape[0])\n",
        "  predicted, _ = best_lstm(X_test, test_h)\n",
        "predicted_lstm = np.array(predicted.reshape(predicted.shape[0]))\n",
        "\n",
        "print('r2 score for lstm: ', r2_score(y_test, predicted_lstm))\n",
        "print('mse error for lstm: ', mean_squared_error(y_test, predicted_lstm))"
      ],
      "metadata": {
        "id": "4CcKsS_HJp0c"
      },
      "execution_count": null,
      "outputs": []
    },
    {
      "cell_type": "code",
      "source": [
        ""
      ],
      "metadata": {
        "id": "wP3i-Gk0sswx"
      },
      "execution_count": null,
      "outputs": []
    },
    {
      "cell_type": "markdown",
      "source": [
        "# Rank-score"
      ],
      "metadata": {
        "id": "w2vWMPKrWYGy"
      }
    },
    {
      "cell_type": "code",
      "source": [
        "from scipy.stats import spearmanr, rankdata"
      ],
      "metadata": {
        "id": "XeXdIciOdCUM"
      },
      "execution_count": null,
      "outputs": []
    },
    {
      "cell_type": "code",
      "source": [
        "with open('/content/drive/Shareddrives/CFA project/checkpoints/predicted_lstmv3_seq4layer1hidden20_val.npy', 'rb') as f:\n",
        "  predicted_lstm = np.load(f)"
      ],
      "metadata": {
        "id": "R1Wdj2VM_YEw"
      },
      "execution_count": null,
      "outputs": []
    },
    {
      "cell_type": "code",
      "source": [
        "mean_squared_error(y_test_val, predicted_lstm)"
      ],
      "metadata": {
        "colab": {
          "base_uri": "https://localhost:8080/"
        },
        "id": "3b86Wr9X_f2M",
        "outputId": "58c58c14-2fb8-4ac6-b152-ae2071b5f60e"
      },
      "execution_count": null,
      "outputs": [
        {
          "output_type": "execute_result",
          "data": {
            "text/plain": [
              "36107.15404161027"
            ]
          },
          "metadata": {},
          "execution_count": 31
        }
      ]
    },
    {
      "cell_type": "code",
      "source": [
        "results = np.stack([predicted_lasso, predicted_ridge,predicted_svm,predicted_rf, predicted_xgb, list(y_test_val)], axis=1)\n",
        "results"
      ],
      "metadata": {
        "colab": {
          "base_uri": "https://localhost:8080/"
        },
        "id": "sHeAnOUjEz4d",
        "outputId": "122b4c02-9c7d-450a-80af-d2b9e3eea65c"
      },
      "execution_count": null,
      "outputs": [
        {
          "output_type": "execute_result",
          "data": {
            "text/plain": [
              "array([[ 98.8487619 ,  97.07814471, 112.19300988,  93.64826421,\n",
              "         88.42470551,  81.69      ],\n",
              "       [ 67.55228336,  63.65136459,  76.49181724,  57.3662    ,\n",
              "         55.25198364,  54.14      ],\n",
              "       [ 54.46406458,  54.42315592,  34.87505988,  16.0844688 ,\n",
              "         20.70265961,   7.22      ],\n",
              "       ...,\n",
              "       [ 80.03586169,  68.24278165, 112.22393522, 109.35054956,\n",
              "        117.42856598,  85.99      ],\n",
              "       [ 65.24101512,  52.67839929,  74.34854459,  39.13700201,\n",
              "         50.41279984,  52.96      ],\n",
              "       [ 46.30469573,  36.12274197,  50.88129465,  25.46585   ,\n",
              "         27.97898865,  18.81      ]])"
            ]
          },
          "metadata": {},
          "execution_count": 31
        }
      ]
    },
    {
      "cell_type": "code",
      "source": [
        "y_test_val"
      ],
      "metadata": {
        "colab": {
          "base_uri": "https://localhost:8080/"
        },
        "id": "AIfv0LL3A0S6",
        "outputId": "a40eea1f-66bb-45a8-94db-1c139affd41b"
      },
      "execution_count": null,
      "outputs": [
        {
          "output_type": "execute_result",
          "data": {
            "text/plain": [
              "array([81.69, 54.14,  7.22, ..., 85.99, 52.96, 18.81])"
            ]
          },
          "metadata": {},
          "execution_count": 32
        }
      ]
    },
    {
      "cell_type": "code",
      "source": [
        "result_df = test_idx.copy()\n",
        "result_df[['predicted_lasso', 'predicted_ridge', 'predicted_svm','predicted_rf', 'predicted_xgb', 'y_true']] = results\n",
        "result_df"
      ],
      "metadata": {
        "colab": {
          "base_uri": "https://localhost:8080/",
          "height": 423
        },
        "id": "ExEJvtPaiR8L",
        "outputId": "45e45a19-9a0a-4dee-8a26-1f94d690be7b"
      },
      "execution_count": null,
      "outputs": [
        {
          "output_type": "execute_result",
          "data": {
            "text/plain": [
              "       Stock    DATE  predicted_lasso  predicted_ridge  predicted_svm  \\\n",
              "16499    A.N  2020Q1        98.848762        97.078145     112.193010   \n",
              "17383    A.N  2020Q2        67.552283        63.651365      76.491817   \n",
              "17631    A.N  2020Q3        54.464065        54.423156      34.875060   \n",
              "16315  AAP.N  2020Q1        87.457130        87.784231      99.816231   \n",
              "17243  AAP.N  2020Q2        37.325512        32.292571      18.099240   \n",
              "...      ...     ...              ...              ...            ...   \n",
              "17519  ZBH.N  2020Q2        63.423003        50.650282      73.053185   \n",
              "17594  ZBH.N  2020Q3       117.190360       103.966283     157.630027   \n",
              "16488  ZTS.N  2020Q1        80.035862        68.242782     112.223935   \n",
              "17404  ZTS.N  2020Q2        65.241015        52.678399      74.348545   \n",
              "17905  ZTS.N  2020Q3        46.304696        36.122742      50.881295   \n",
              "\n",
              "       predicted_rf  predicted_xgb  y_true  \n",
              "16499     93.648264      88.424706   81.69  \n",
              "17383     57.366200      55.251984   54.14  \n",
              "17631     16.084469      20.702660    7.22  \n",
              "16315     79.419857      73.725204   46.01  \n",
              "17243     13.382900      26.219847    3.29  \n",
              "...             ...            ...     ...  \n",
              "17519     44.412157      54.871468   45.77  \n",
              "17594    146.272434     140.569336  208.82  \n",
              "16488    109.350550     117.428566   85.99  \n",
              "17404     39.137002      50.412800   52.96  \n",
              "17905     25.465850      27.978989   18.81  \n",
              "\n",
              "[2028 rows x 8 columns]"
            ],
            "text/html": [
              "\n",
              "  <div id=\"df-29d65e86-66c1-40a6-b686-7f6348dff6b2\">\n",
              "    <div class=\"colab-df-container\">\n",
              "      <div>\n",
              "<style scoped>\n",
              "    .dataframe tbody tr th:only-of-type {\n",
              "        vertical-align: middle;\n",
              "    }\n",
              "\n",
              "    .dataframe tbody tr th {\n",
              "        vertical-align: top;\n",
              "    }\n",
              "\n",
              "    .dataframe thead th {\n",
              "        text-align: right;\n",
              "    }\n",
              "</style>\n",
              "<table border=\"1\" class=\"dataframe\">\n",
              "  <thead>\n",
              "    <tr style=\"text-align: right;\">\n",
              "      <th></th>\n",
              "      <th>Stock</th>\n",
              "      <th>DATE</th>\n",
              "      <th>predicted_lasso</th>\n",
              "      <th>predicted_ridge</th>\n",
              "      <th>predicted_svm</th>\n",
              "      <th>predicted_rf</th>\n",
              "      <th>predicted_xgb</th>\n",
              "      <th>y_true</th>\n",
              "    </tr>\n",
              "  </thead>\n",
              "  <tbody>\n",
              "    <tr>\n",
              "      <th>16499</th>\n",
              "      <td>A.N</td>\n",
              "      <td>2020Q1</td>\n",
              "      <td>98.848762</td>\n",
              "      <td>97.078145</td>\n",
              "      <td>112.193010</td>\n",
              "      <td>93.648264</td>\n",
              "      <td>88.424706</td>\n",
              "      <td>81.69</td>\n",
              "    </tr>\n",
              "    <tr>\n",
              "      <th>17383</th>\n",
              "      <td>A.N</td>\n",
              "      <td>2020Q2</td>\n",
              "      <td>67.552283</td>\n",
              "      <td>63.651365</td>\n",
              "      <td>76.491817</td>\n",
              "      <td>57.366200</td>\n",
              "      <td>55.251984</td>\n",
              "      <td>54.14</td>\n",
              "    </tr>\n",
              "    <tr>\n",
              "      <th>17631</th>\n",
              "      <td>A.N</td>\n",
              "      <td>2020Q3</td>\n",
              "      <td>54.464065</td>\n",
              "      <td>54.423156</td>\n",
              "      <td>34.875060</td>\n",
              "      <td>16.084469</td>\n",
              "      <td>20.702660</td>\n",
              "      <td>7.22</td>\n",
              "    </tr>\n",
              "    <tr>\n",
              "      <th>16315</th>\n",
              "      <td>AAP.N</td>\n",
              "      <td>2020Q1</td>\n",
              "      <td>87.457130</td>\n",
              "      <td>87.784231</td>\n",
              "      <td>99.816231</td>\n",
              "      <td>79.419857</td>\n",
              "      <td>73.725204</td>\n",
              "      <td>46.01</td>\n",
              "    </tr>\n",
              "    <tr>\n",
              "      <th>17243</th>\n",
              "      <td>AAP.N</td>\n",
              "      <td>2020Q2</td>\n",
              "      <td>37.325512</td>\n",
              "      <td>32.292571</td>\n",
              "      <td>18.099240</td>\n",
              "      <td>13.382900</td>\n",
              "      <td>26.219847</td>\n",
              "      <td>3.29</td>\n",
              "    </tr>\n",
              "    <tr>\n",
              "      <th>...</th>\n",
              "      <td>...</td>\n",
              "      <td>...</td>\n",
              "      <td>...</td>\n",
              "      <td>...</td>\n",
              "      <td>...</td>\n",
              "      <td>...</td>\n",
              "      <td>...</td>\n",
              "      <td>...</td>\n",
              "    </tr>\n",
              "    <tr>\n",
              "      <th>17519</th>\n",
              "      <td>ZBH.N</td>\n",
              "      <td>2020Q2</td>\n",
              "      <td>63.423003</td>\n",
              "      <td>50.650282</td>\n",
              "      <td>73.053185</td>\n",
              "      <td>44.412157</td>\n",
              "      <td>54.871468</td>\n",
              "      <td>45.77</td>\n",
              "    </tr>\n",
              "    <tr>\n",
              "      <th>17594</th>\n",
              "      <td>ZBH.N</td>\n",
              "      <td>2020Q3</td>\n",
              "      <td>117.190360</td>\n",
              "      <td>103.966283</td>\n",
              "      <td>157.630027</td>\n",
              "      <td>146.272434</td>\n",
              "      <td>140.569336</td>\n",
              "      <td>208.82</td>\n",
              "    </tr>\n",
              "    <tr>\n",
              "      <th>16488</th>\n",
              "      <td>ZTS.N</td>\n",
              "      <td>2020Q1</td>\n",
              "      <td>80.035862</td>\n",
              "      <td>68.242782</td>\n",
              "      <td>112.223935</td>\n",
              "      <td>109.350550</td>\n",
              "      <td>117.428566</td>\n",
              "      <td>85.99</td>\n",
              "    </tr>\n",
              "    <tr>\n",
              "      <th>17404</th>\n",
              "      <td>ZTS.N</td>\n",
              "      <td>2020Q2</td>\n",
              "      <td>65.241015</td>\n",
              "      <td>52.678399</td>\n",
              "      <td>74.348545</td>\n",
              "      <td>39.137002</td>\n",
              "      <td>50.412800</td>\n",
              "      <td>52.96</td>\n",
              "    </tr>\n",
              "    <tr>\n",
              "      <th>17905</th>\n",
              "      <td>ZTS.N</td>\n",
              "      <td>2020Q3</td>\n",
              "      <td>46.304696</td>\n",
              "      <td>36.122742</td>\n",
              "      <td>50.881295</td>\n",
              "      <td>25.465850</td>\n",
              "      <td>27.978989</td>\n",
              "      <td>18.81</td>\n",
              "    </tr>\n",
              "  </tbody>\n",
              "</table>\n",
              "<p>2028 rows × 8 columns</p>\n",
              "</div>\n",
              "      <button class=\"colab-df-convert\" onclick=\"convertToInteractive('df-29d65e86-66c1-40a6-b686-7f6348dff6b2')\"\n",
              "              title=\"Convert this dataframe to an interactive table.\"\n",
              "              style=\"display:none;\">\n",
              "        \n",
              "  <svg xmlns=\"http://www.w3.org/2000/svg\" height=\"24px\"viewBox=\"0 0 24 24\"\n",
              "       width=\"24px\">\n",
              "    <path d=\"M0 0h24v24H0V0z\" fill=\"none\"/>\n",
              "    <path d=\"M18.56 5.44l.94 2.06.94-2.06 2.06-.94-2.06-.94-.94-2.06-.94 2.06-2.06.94zm-11 1L8.5 8.5l.94-2.06 2.06-.94-2.06-.94L8.5 2.5l-.94 2.06-2.06.94zm10 10l.94 2.06.94-2.06 2.06-.94-2.06-.94-.94-2.06-.94 2.06-2.06.94z\"/><path d=\"M17.41 7.96l-1.37-1.37c-.4-.4-.92-.59-1.43-.59-.52 0-1.04.2-1.43.59L10.3 9.45l-7.72 7.72c-.78.78-.78 2.05 0 2.83L4 21.41c.39.39.9.59 1.41.59.51 0 1.02-.2 1.41-.59l7.78-7.78 2.81-2.81c.8-.78.8-2.07 0-2.86zM5.41 20L4 18.59l7.72-7.72 1.47 1.35L5.41 20z\"/>\n",
              "  </svg>\n",
              "      </button>\n",
              "      \n",
              "  <style>\n",
              "    .colab-df-container {\n",
              "      display:flex;\n",
              "      flex-wrap:wrap;\n",
              "      gap: 12px;\n",
              "    }\n",
              "\n",
              "    .colab-df-convert {\n",
              "      background-color: #E8F0FE;\n",
              "      border: none;\n",
              "      border-radius: 50%;\n",
              "      cursor: pointer;\n",
              "      display: none;\n",
              "      fill: #1967D2;\n",
              "      height: 32px;\n",
              "      padding: 0 0 0 0;\n",
              "      width: 32px;\n",
              "    }\n",
              "\n",
              "    .colab-df-convert:hover {\n",
              "      background-color: #E2EBFA;\n",
              "      box-shadow: 0px 1px 2px rgba(60, 64, 67, 0.3), 0px 1px 3px 1px rgba(60, 64, 67, 0.15);\n",
              "      fill: #174EA6;\n",
              "    }\n",
              "\n",
              "    [theme=dark] .colab-df-convert {\n",
              "      background-color: #3B4455;\n",
              "      fill: #D2E3FC;\n",
              "    }\n",
              "\n",
              "    [theme=dark] .colab-df-convert:hover {\n",
              "      background-color: #434B5C;\n",
              "      box-shadow: 0px 1px 3px 1px rgba(0, 0, 0, 0.15);\n",
              "      filter: drop-shadow(0px 1px 2px rgba(0, 0, 0, 0.3));\n",
              "      fill: #FFFFFF;\n",
              "    }\n",
              "  </style>\n",
              "\n",
              "      <script>\n",
              "        const buttonEl =\n",
              "          document.querySelector('#df-29d65e86-66c1-40a6-b686-7f6348dff6b2 button.colab-df-convert');\n",
              "        buttonEl.style.display =\n",
              "          google.colab.kernel.accessAllowed ? 'block' : 'none';\n",
              "\n",
              "        async function convertToInteractive(key) {\n",
              "          const element = document.querySelector('#df-29d65e86-66c1-40a6-b686-7f6348dff6b2');\n",
              "          const dataTable =\n",
              "            await google.colab.kernel.invokeFunction('convertToInteractive',\n",
              "                                                     [key], {});\n",
              "          if (!dataTable) return;\n",
              "\n",
              "          const docLinkHtml = 'Like what you see? Visit the ' +\n",
              "            '<a target=\"_blank\" href=https://colab.research.google.com/notebooks/data_table.ipynb>data table notebook</a>'\n",
              "            + ' to learn more about interactive tables.';\n",
              "          element.innerHTML = '';\n",
              "          dataTable['output_type'] = 'display_data';\n",
              "          await google.colab.output.renderOutput(dataTable, element);\n",
              "          const docLink = document.createElement('div');\n",
              "          docLink.innerHTML = docLinkHtml;\n",
              "          element.appendChild(docLink);\n",
              "        }\n",
              "      </script>\n",
              "    </div>\n",
              "  </div>\n",
              "  "
            ]
          },
          "metadata": {},
          "execution_count": 32
        }
      ]
    },
    {
      "cell_type": "code",
      "source": [
        "result_df.to_pickle('/content/drive/Shareddrives/CFA project/data/predicted_results.pkl')"
      ],
      "metadata": {
        "id": "2SVIFruxbMsA"
      },
      "execution_count": null,
      "outputs": []
    },
    {
      "cell_type": "code",
      "source": [
        "result_df = pd.read_pickle('/content/drive/Shareddrives/CFA project/data/predicted_results.pkl')\n",
        "result_df \n"
      ],
      "metadata": {
        "colab": {
          "base_uri": "https://localhost:8080/",
          "height": 423
        },
        "id": "wGAfLmmRchlQ",
        "outputId": "1c4a4284-5fb5-441c-8a37-5bb84df1bcda"
      },
      "execution_count": null,
      "outputs": [
        {
          "output_type": "execute_result",
          "data": {
            "text/plain": [
              "       Stock    DATE  predicted_lasso  predicted_ridge  predicted_svm  \\\n",
              "16499    A.N  2020Q1        98.848762        97.078145     112.193010   \n",
              "17383    A.N  2020Q2        67.552283        63.651365      76.491817   \n",
              "17631    A.N  2020Q3        54.464065        54.423156      34.875060   \n",
              "16315  AAP.N  2020Q1        87.457130        87.784231      99.816231   \n",
              "17243  AAP.N  2020Q2        37.325512        32.292571      18.099240   \n",
              "...      ...     ...              ...              ...            ...   \n",
              "17519  ZBH.N  2020Q2        63.423003        50.650282      73.053185   \n",
              "17594  ZBH.N  2020Q3       117.190360       103.966283     157.630027   \n",
              "16488  ZTS.N  2020Q1        80.035862        68.242782     112.223935   \n",
              "17404  ZTS.N  2020Q2        65.241015        52.678399      74.348545   \n",
              "17905  ZTS.N  2020Q3        46.304696        36.122742      50.881295   \n",
              "\n",
              "       predicted_rf  predicted_xgb  y_true  \n",
              "16499     93.648264      88.424706   81.69  \n",
              "17383     57.366200      55.251984   54.14  \n",
              "17631     16.084469      20.702660    7.22  \n",
              "16315     79.419857      73.725204   46.01  \n",
              "17243     13.382900      26.219847    3.29  \n",
              "...             ...            ...     ...  \n",
              "17519     44.412157      54.871468   45.77  \n",
              "17594    146.272434     140.569336  208.82  \n",
              "16488    109.350550     117.428566   85.99  \n",
              "17404     39.137002      50.412800   52.96  \n",
              "17905     25.465850      27.978989   18.81  \n",
              "\n",
              "[2028 rows x 8 columns]"
            ],
            "text/html": [
              "\n",
              "  <div id=\"df-b411a708-2098-4bd9-bebd-be9a4ad94612\">\n",
              "    <div class=\"colab-df-container\">\n",
              "      <div>\n",
              "<style scoped>\n",
              "    .dataframe tbody tr th:only-of-type {\n",
              "        vertical-align: middle;\n",
              "    }\n",
              "\n",
              "    .dataframe tbody tr th {\n",
              "        vertical-align: top;\n",
              "    }\n",
              "\n",
              "    .dataframe thead th {\n",
              "        text-align: right;\n",
              "    }\n",
              "</style>\n",
              "<table border=\"1\" class=\"dataframe\">\n",
              "  <thead>\n",
              "    <tr style=\"text-align: right;\">\n",
              "      <th></th>\n",
              "      <th>Stock</th>\n",
              "      <th>DATE</th>\n",
              "      <th>predicted_lasso</th>\n",
              "      <th>predicted_ridge</th>\n",
              "      <th>predicted_svm</th>\n",
              "      <th>predicted_rf</th>\n",
              "      <th>predicted_xgb</th>\n",
              "      <th>y_true</th>\n",
              "    </tr>\n",
              "  </thead>\n",
              "  <tbody>\n",
              "    <tr>\n",
              "      <th>16499</th>\n",
              "      <td>A.N</td>\n",
              "      <td>2020Q1</td>\n",
              "      <td>98.848762</td>\n",
              "      <td>97.078145</td>\n",
              "      <td>112.193010</td>\n",
              "      <td>93.648264</td>\n",
              "      <td>88.424706</td>\n",
              "      <td>81.69</td>\n",
              "    </tr>\n",
              "    <tr>\n",
              "      <th>17383</th>\n",
              "      <td>A.N</td>\n",
              "      <td>2020Q2</td>\n",
              "      <td>67.552283</td>\n",
              "      <td>63.651365</td>\n",
              "      <td>76.491817</td>\n",
              "      <td>57.366200</td>\n",
              "      <td>55.251984</td>\n",
              "      <td>54.14</td>\n",
              "    </tr>\n",
              "    <tr>\n",
              "      <th>17631</th>\n",
              "      <td>A.N</td>\n",
              "      <td>2020Q3</td>\n",
              "      <td>54.464065</td>\n",
              "      <td>54.423156</td>\n",
              "      <td>34.875060</td>\n",
              "      <td>16.084469</td>\n",
              "      <td>20.702660</td>\n",
              "      <td>7.22</td>\n",
              "    </tr>\n",
              "    <tr>\n",
              "      <th>16315</th>\n",
              "      <td>AAP.N</td>\n",
              "      <td>2020Q1</td>\n",
              "      <td>87.457130</td>\n",
              "      <td>87.784231</td>\n",
              "      <td>99.816231</td>\n",
              "      <td>79.419857</td>\n",
              "      <td>73.725204</td>\n",
              "      <td>46.01</td>\n",
              "    </tr>\n",
              "    <tr>\n",
              "      <th>17243</th>\n",
              "      <td>AAP.N</td>\n",
              "      <td>2020Q2</td>\n",
              "      <td>37.325512</td>\n",
              "      <td>32.292571</td>\n",
              "      <td>18.099240</td>\n",
              "      <td>13.382900</td>\n",
              "      <td>26.219847</td>\n",
              "      <td>3.29</td>\n",
              "    </tr>\n",
              "    <tr>\n",
              "      <th>...</th>\n",
              "      <td>...</td>\n",
              "      <td>...</td>\n",
              "      <td>...</td>\n",
              "      <td>...</td>\n",
              "      <td>...</td>\n",
              "      <td>...</td>\n",
              "      <td>...</td>\n",
              "      <td>...</td>\n",
              "    </tr>\n",
              "    <tr>\n",
              "      <th>17519</th>\n",
              "      <td>ZBH.N</td>\n",
              "      <td>2020Q2</td>\n",
              "      <td>63.423003</td>\n",
              "      <td>50.650282</td>\n",
              "      <td>73.053185</td>\n",
              "      <td>44.412157</td>\n",
              "      <td>54.871468</td>\n",
              "      <td>45.77</td>\n",
              "    </tr>\n",
              "    <tr>\n",
              "      <th>17594</th>\n",
              "      <td>ZBH.N</td>\n",
              "      <td>2020Q3</td>\n",
              "      <td>117.190360</td>\n",
              "      <td>103.966283</td>\n",
              "      <td>157.630027</td>\n",
              "      <td>146.272434</td>\n",
              "      <td>140.569336</td>\n",
              "      <td>208.82</td>\n",
              "    </tr>\n",
              "    <tr>\n",
              "      <th>16488</th>\n",
              "      <td>ZTS.N</td>\n",
              "      <td>2020Q1</td>\n",
              "      <td>80.035862</td>\n",
              "      <td>68.242782</td>\n",
              "      <td>112.223935</td>\n",
              "      <td>109.350550</td>\n",
              "      <td>117.428566</td>\n",
              "      <td>85.99</td>\n",
              "    </tr>\n",
              "    <tr>\n",
              "      <th>17404</th>\n",
              "      <td>ZTS.N</td>\n",
              "      <td>2020Q2</td>\n",
              "      <td>65.241015</td>\n",
              "      <td>52.678399</td>\n",
              "      <td>74.348545</td>\n",
              "      <td>39.137002</td>\n",
              "      <td>50.412800</td>\n",
              "      <td>52.96</td>\n",
              "    </tr>\n",
              "    <tr>\n",
              "      <th>17905</th>\n",
              "      <td>ZTS.N</td>\n",
              "      <td>2020Q3</td>\n",
              "      <td>46.304696</td>\n",
              "      <td>36.122742</td>\n",
              "      <td>50.881295</td>\n",
              "      <td>25.465850</td>\n",
              "      <td>27.978989</td>\n",
              "      <td>18.81</td>\n",
              "    </tr>\n",
              "  </tbody>\n",
              "</table>\n",
              "<p>2028 rows × 8 columns</p>\n",
              "</div>\n",
              "      <button class=\"colab-df-convert\" onclick=\"convertToInteractive('df-b411a708-2098-4bd9-bebd-be9a4ad94612')\"\n",
              "              title=\"Convert this dataframe to an interactive table.\"\n",
              "              style=\"display:none;\">\n",
              "        \n",
              "  <svg xmlns=\"http://www.w3.org/2000/svg\" height=\"24px\"viewBox=\"0 0 24 24\"\n",
              "       width=\"24px\">\n",
              "    <path d=\"M0 0h24v24H0V0z\" fill=\"none\"/>\n",
              "    <path d=\"M18.56 5.44l.94 2.06.94-2.06 2.06-.94-2.06-.94-.94-2.06-.94 2.06-2.06.94zm-11 1L8.5 8.5l.94-2.06 2.06-.94-2.06-.94L8.5 2.5l-.94 2.06-2.06.94zm10 10l.94 2.06.94-2.06 2.06-.94-2.06-.94-.94-2.06-.94 2.06-2.06.94z\"/><path d=\"M17.41 7.96l-1.37-1.37c-.4-.4-.92-.59-1.43-.59-.52 0-1.04.2-1.43.59L10.3 9.45l-7.72 7.72c-.78.78-.78 2.05 0 2.83L4 21.41c.39.39.9.59 1.41.59.51 0 1.02-.2 1.41-.59l7.78-7.78 2.81-2.81c.8-.78.8-2.07 0-2.86zM5.41 20L4 18.59l7.72-7.72 1.47 1.35L5.41 20z\"/>\n",
              "  </svg>\n",
              "      </button>\n",
              "      \n",
              "  <style>\n",
              "    .colab-df-container {\n",
              "      display:flex;\n",
              "      flex-wrap:wrap;\n",
              "      gap: 12px;\n",
              "    }\n",
              "\n",
              "    .colab-df-convert {\n",
              "      background-color: #E8F0FE;\n",
              "      border: none;\n",
              "      border-radius: 50%;\n",
              "      cursor: pointer;\n",
              "      display: none;\n",
              "      fill: #1967D2;\n",
              "      height: 32px;\n",
              "      padding: 0 0 0 0;\n",
              "      width: 32px;\n",
              "    }\n",
              "\n",
              "    .colab-df-convert:hover {\n",
              "      background-color: #E2EBFA;\n",
              "      box-shadow: 0px 1px 2px rgba(60, 64, 67, 0.3), 0px 1px 3px 1px rgba(60, 64, 67, 0.15);\n",
              "      fill: #174EA6;\n",
              "    }\n",
              "\n",
              "    [theme=dark] .colab-df-convert {\n",
              "      background-color: #3B4455;\n",
              "      fill: #D2E3FC;\n",
              "    }\n",
              "\n",
              "    [theme=dark] .colab-df-convert:hover {\n",
              "      background-color: #434B5C;\n",
              "      box-shadow: 0px 1px 3px 1px rgba(0, 0, 0, 0.15);\n",
              "      filter: drop-shadow(0px 1px 2px rgba(0, 0, 0, 0.3));\n",
              "      fill: #FFFFFF;\n",
              "    }\n",
              "  </style>\n",
              "\n",
              "      <script>\n",
              "        const buttonEl =\n",
              "          document.querySelector('#df-b411a708-2098-4bd9-bebd-be9a4ad94612 button.colab-df-convert');\n",
              "        buttonEl.style.display =\n",
              "          google.colab.kernel.accessAllowed ? 'block' : 'none';\n",
              "\n",
              "        async function convertToInteractive(key) {\n",
              "          const element = document.querySelector('#df-b411a708-2098-4bd9-bebd-be9a4ad94612');\n",
              "          const dataTable =\n",
              "            await google.colab.kernel.invokeFunction('convertToInteractive',\n",
              "                                                     [key], {});\n",
              "          if (!dataTable) return;\n",
              "\n",
              "          const docLinkHtml = 'Like what you see? Visit the ' +\n",
              "            '<a target=\"_blank\" href=https://colab.research.google.com/notebooks/data_table.ipynb>data table notebook</a>'\n",
              "            + ' to learn more about interactive tables.';\n",
              "          element.innerHTML = '';\n",
              "          dataTable['output_type'] = 'display_data';\n",
              "          await google.colab.output.renderOutput(dataTable, element);\n",
              "          const docLink = document.createElement('div');\n",
              "          docLink.innerHTML = docLinkHtml;\n",
              "          element.appendChild(docLink);\n",
              "        }\n",
              "      </script>\n",
              "    </div>\n",
              "  </div>\n",
              "  "
            ]
          },
          "metadata": {},
          "execution_count": 6
        }
      ]
    },
    {
      "cell_type": "code",
      "source": [
        ""
      ],
      "metadata": {
        "colab": {
          "base_uri": "https://localhost:8080/"
        },
        "id": "Uyi7TRCze9vQ",
        "outputId": "91b98e87-eb87-42c2-cad6-d19816c42185"
      },
      "execution_count": null,
      "outputs": [
        {
          "output_type": "execute_result",
          "data": {
            "text/plain": [
              "0           A.N\n",
              "1           A.N\n",
              "2           A.N\n",
              "3         AAP.N\n",
              "4         AAP.N\n",
              "         ...   \n",
              "2023    1592.34\n",
              "2024    1710.68\n",
              "2025    1949.72\n",
              "2026    2758.82\n",
              "2027    3148.73\n",
              "Length: 16224, dtype: object"
            ]
          },
          "metadata": {},
          "execution_count": 37
        }
      ]
    },
    {
      "cell_type": "code",
      "source": [
        "result_df_grouped = result_df.groupby('Stock').mean()\n",
        "#result_df_grouped['combined'] = (result_df_grouped['predicted_lr'] + result_df_grouped['predicted_xgb'] + result_df_grouped['predicted_nn']) / 3"
      ],
      "metadata": {
        "id": "9QQ7TWSsQAvI"
      },
      "execution_count": null,
      "outputs": []
    },
    {
      "cell_type": "code",
      "source": [
        "from sklearn.preprocessing import MinMaxScaler\n",
        "# call MinMaxScaler object\n",
        "\n",
        "min_max_scaler = MinMaxScaler(feature_range=(0,1))\n",
        "predicted = min_max_scaler.fit_transform(result_df_grouped)\n",
        "\n",
        "result_df_grouped[['predicted_lasso', 'predicted_ridge', 'predicted_svm','predicted_rf', 'predicted_xgb', 'y_true']] = predicted"
      ],
      "metadata": {
        "id": "-Gepq6XUysJW"
      },
      "execution_count": null,
      "outputs": []
    },
    {
      "cell_type": "code",
      "source": [
        "rank_result = result_df_grouped.apply(lambda x: len(result_df_grouped) - rankdata(x))"
      ],
      "metadata": {
        "id": "Bf5E3UbMZ4bg"
      },
      "execution_count": null,
      "outputs": []
    },
    {
      "cell_type": "code",
      "source": [
        "rank_result"
      ],
      "metadata": {
        "colab": {
          "base_uri": "https://localhost:8080/",
          "height": 455
        },
        "id": "Nf4Gfq21b7m1",
        "outputId": "c56b50cc-6f98-4ffa-fc64-d85c8a1d3ce1"
      },
      "execution_count": null,
      "outputs": [
        {
          "output_type": "execute_result",
          "data": {
            "text/plain": [
              "         predicted_lasso  predicted_ridge  predicted_svm  predicted_rf  \\\n",
              "Stock                                                                    \n",
              "A.N                314.0            258.0          519.0         452.0   \n",
              "AAP.N              428.0            336.0          615.0         580.0   \n",
              "AAWW.OQ            300.0            233.0          493.0         458.0   \n",
              "ABBV.N             514.0            401.0          629.0         570.0   \n",
              "ABC.N              472.0            410.0          646.0         582.0   \n",
              "...                  ...              ...            ...           ...   \n",
              "XRAY.OQ            484.0            458.0          556.0         516.0   \n",
              "XYL.N              122.0            127.0          314.0          88.0   \n",
              "YUM.N              295.0            317.0          423.0         317.0   \n",
              "ZBH.N              391.0            395.0          472.0         300.0   \n",
              "ZTS.N              416.0            416.0          485.0         440.0   \n",
              "\n",
              "         predicted_xgb  y_true  \n",
              "Stock                           \n",
              "A.N              461.0   456.0  \n",
              "AAP.N            490.0   628.0  \n",
              "AAWW.OQ          380.0   428.0  \n",
              "ABBV.N           604.0   572.0  \n",
              "ABC.N            525.0   580.0  \n",
              "...                ...     ...  \n",
              "XRAY.OQ          590.0   635.0  \n",
              "XYL.N             86.0    88.0  \n",
              "YUM.N            287.0   239.0  \n",
              "ZBH.N            338.0   223.0  \n",
              "ZTS.N            379.0   411.0  \n",
              "\n",
              "[676 rows x 6 columns]"
            ],
            "text/html": [
              "\n",
              "  <div id=\"df-18fa62c8-149d-4805-a099-a67e3c5c1de7\">\n",
              "    <div class=\"colab-df-container\">\n",
              "      <div>\n",
              "<style scoped>\n",
              "    .dataframe tbody tr th:only-of-type {\n",
              "        vertical-align: middle;\n",
              "    }\n",
              "\n",
              "    .dataframe tbody tr th {\n",
              "        vertical-align: top;\n",
              "    }\n",
              "\n",
              "    .dataframe thead th {\n",
              "        text-align: right;\n",
              "    }\n",
              "</style>\n",
              "<table border=\"1\" class=\"dataframe\">\n",
              "  <thead>\n",
              "    <tr style=\"text-align: right;\">\n",
              "      <th></th>\n",
              "      <th>predicted_lasso</th>\n",
              "      <th>predicted_ridge</th>\n",
              "      <th>predicted_svm</th>\n",
              "      <th>predicted_rf</th>\n",
              "      <th>predicted_xgb</th>\n",
              "      <th>y_true</th>\n",
              "    </tr>\n",
              "    <tr>\n",
              "      <th>Stock</th>\n",
              "      <th></th>\n",
              "      <th></th>\n",
              "      <th></th>\n",
              "      <th></th>\n",
              "      <th></th>\n",
              "      <th></th>\n",
              "    </tr>\n",
              "  </thead>\n",
              "  <tbody>\n",
              "    <tr>\n",
              "      <th>A.N</th>\n",
              "      <td>314.0</td>\n",
              "      <td>258.0</td>\n",
              "      <td>519.0</td>\n",
              "      <td>452.0</td>\n",
              "      <td>461.0</td>\n",
              "      <td>456.0</td>\n",
              "    </tr>\n",
              "    <tr>\n",
              "      <th>AAP.N</th>\n",
              "      <td>428.0</td>\n",
              "      <td>336.0</td>\n",
              "      <td>615.0</td>\n",
              "      <td>580.0</td>\n",
              "      <td>490.0</td>\n",
              "      <td>628.0</td>\n",
              "    </tr>\n",
              "    <tr>\n",
              "      <th>AAWW.OQ</th>\n",
              "      <td>300.0</td>\n",
              "      <td>233.0</td>\n",
              "      <td>493.0</td>\n",
              "      <td>458.0</td>\n",
              "      <td>380.0</td>\n",
              "      <td>428.0</td>\n",
              "    </tr>\n",
              "    <tr>\n",
              "      <th>ABBV.N</th>\n",
              "      <td>514.0</td>\n",
              "      <td>401.0</td>\n",
              "      <td>629.0</td>\n",
              "      <td>570.0</td>\n",
              "      <td>604.0</td>\n",
              "      <td>572.0</td>\n",
              "    </tr>\n",
              "    <tr>\n",
              "      <th>ABC.N</th>\n",
              "      <td>472.0</td>\n",
              "      <td>410.0</td>\n",
              "      <td>646.0</td>\n",
              "      <td>582.0</td>\n",
              "      <td>525.0</td>\n",
              "      <td>580.0</td>\n",
              "    </tr>\n",
              "    <tr>\n",
              "      <th>...</th>\n",
              "      <td>...</td>\n",
              "      <td>...</td>\n",
              "      <td>...</td>\n",
              "      <td>...</td>\n",
              "      <td>...</td>\n",
              "      <td>...</td>\n",
              "    </tr>\n",
              "    <tr>\n",
              "      <th>XRAY.OQ</th>\n",
              "      <td>484.0</td>\n",
              "      <td>458.0</td>\n",
              "      <td>556.0</td>\n",
              "      <td>516.0</td>\n",
              "      <td>590.0</td>\n",
              "      <td>635.0</td>\n",
              "    </tr>\n",
              "    <tr>\n",
              "      <th>XYL.N</th>\n",
              "      <td>122.0</td>\n",
              "      <td>127.0</td>\n",
              "      <td>314.0</td>\n",
              "      <td>88.0</td>\n",
              "      <td>86.0</td>\n",
              "      <td>88.0</td>\n",
              "    </tr>\n",
              "    <tr>\n",
              "      <th>YUM.N</th>\n",
              "      <td>295.0</td>\n",
              "      <td>317.0</td>\n",
              "      <td>423.0</td>\n",
              "      <td>317.0</td>\n",
              "      <td>287.0</td>\n",
              "      <td>239.0</td>\n",
              "    </tr>\n",
              "    <tr>\n",
              "      <th>ZBH.N</th>\n",
              "      <td>391.0</td>\n",
              "      <td>395.0</td>\n",
              "      <td>472.0</td>\n",
              "      <td>300.0</td>\n",
              "      <td>338.0</td>\n",
              "      <td>223.0</td>\n",
              "    </tr>\n",
              "    <tr>\n",
              "      <th>ZTS.N</th>\n",
              "      <td>416.0</td>\n",
              "      <td>416.0</td>\n",
              "      <td>485.0</td>\n",
              "      <td>440.0</td>\n",
              "      <td>379.0</td>\n",
              "      <td>411.0</td>\n",
              "    </tr>\n",
              "  </tbody>\n",
              "</table>\n",
              "<p>676 rows × 6 columns</p>\n",
              "</div>\n",
              "      <button class=\"colab-df-convert\" onclick=\"convertToInteractive('df-18fa62c8-149d-4805-a099-a67e3c5c1de7')\"\n",
              "              title=\"Convert this dataframe to an interactive table.\"\n",
              "              style=\"display:none;\">\n",
              "        \n",
              "  <svg xmlns=\"http://www.w3.org/2000/svg\" height=\"24px\"viewBox=\"0 0 24 24\"\n",
              "       width=\"24px\">\n",
              "    <path d=\"M0 0h24v24H0V0z\" fill=\"none\"/>\n",
              "    <path d=\"M18.56 5.44l.94 2.06.94-2.06 2.06-.94-2.06-.94-.94-2.06-.94 2.06-2.06.94zm-11 1L8.5 8.5l.94-2.06 2.06-.94-2.06-.94L8.5 2.5l-.94 2.06-2.06.94zm10 10l.94 2.06.94-2.06 2.06-.94-2.06-.94-.94-2.06-.94 2.06-2.06.94z\"/><path d=\"M17.41 7.96l-1.37-1.37c-.4-.4-.92-.59-1.43-.59-.52 0-1.04.2-1.43.59L10.3 9.45l-7.72 7.72c-.78.78-.78 2.05 0 2.83L4 21.41c.39.39.9.59 1.41.59.51 0 1.02-.2 1.41-.59l7.78-7.78 2.81-2.81c.8-.78.8-2.07 0-2.86zM5.41 20L4 18.59l7.72-7.72 1.47 1.35L5.41 20z\"/>\n",
              "  </svg>\n",
              "      </button>\n",
              "      \n",
              "  <style>\n",
              "    .colab-df-container {\n",
              "      display:flex;\n",
              "      flex-wrap:wrap;\n",
              "      gap: 12px;\n",
              "    }\n",
              "\n",
              "    .colab-df-convert {\n",
              "      background-color: #E8F0FE;\n",
              "      border: none;\n",
              "      border-radius: 50%;\n",
              "      cursor: pointer;\n",
              "      display: none;\n",
              "      fill: #1967D2;\n",
              "      height: 32px;\n",
              "      padding: 0 0 0 0;\n",
              "      width: 32px;\n",
              "    }\n",
              "\n",
              "    .colab-df-convert:hover {\n",
              "      background-color: #E2EBFA;\n",
              "      box-shadow: 0px 1px 2px rgba(60, 64, 67, 0.3), 0px 1px 3px 1px rgba(60, 64, 67, 0.15);\n",
              "      fill: #174EA6;\n",
              "    }\n",
              "\n",
              "    [theme=dark] .colab-df-convert {\n",
              "      background-color: #3B4455;\n",
              "      fill: #D2E3FC;\n",
              "    }\n",
              "\n",
              "    [theme=dark] .colab-df-convert:hover {\n",
              "      background-color: #434B5C;\n",
              "      box-shadow: 0px 1px 3px 1px rgba(0, 0, 0, 0.15);\n",
              "      filter: drop-shadow(0px 1px 2px rgba(0, 0, 0, 0.3));\n",
              "      fill: #FFFFFF;\n",
              "    }\n",
              "  </style>\n",
              "\n",
              "      <script>\n",
              "        const buttonEl =\n",
              "          document.querySelector('#df-18fa62c8-149d-4805-a099-a67e3c5c1de7 button.colab-df-convert');\n",
              "        buttonEl.style.display =\n",
              "          google.colab.kernel.accessAllowed ? 'block' : 'none';\n",
              "\n",
              "        async function convertToInteractive(key) {\n",
              "          const element = document.querySelector('#df-18fa62c8-149d-4805-a099-a67e3c5c1de7');\n",
              "          const dataTable =\n",
              "            await google.colab.kernel.invokeFunction('convertToInteractive',\n",
              "                                                     [key], {});\n",
              "          if (!dataTable) return;\n",
              "\n",
              "          const docLinkHtml = 'Like what you see? Visit the ' +\n",
              "            '<a target=\"_blank\" href=https://colab.research.google.com/notebooks/data_table.ipynb>data table notebook</a>'\n",
              "            + ' to learn more about interactive tables.';\n",
              "          element.innerHTML = '';\n",
              "          dataTable['output_type'] = 'display_data';\n",
              "          await google.colab.output.renderOutput(dataTable, element);\n",
              "          const docLink = document.createElement('div');\n",
              "          docLink.innerHTML = docLinkHtml;\n",
              "          element.appendChild(docLink);\n",
              "        }\n",
              "      </script>\n",
              "    </div>\n",
              "  </div>\n",
              "  "
            ]
          },
          "metadata": {},
          "execution_count": 73
        }
      ]
    },
    {
      "cell_type": "code",
      "source": [
        "# Normalize result_df_grouped\n",
        "\n",
        "# copy the data\n",
        "df_min_max_scaled = result_df_grouped.copy()\n",
        "  \n",
        "# apply normalization techniques\n",
        "for column in df_min_max_scaled.columns:\n",
        "    df_min_max_scaled[column] = (df_min_max_scaled[column] - df_min_max_scaled[column].min()) / (df_min_max_scaled[column].max() - df_min_max_scaled[column].min())    \n",
        "      \n",
        "# view normalized data\n",
        "display(df_min_max_scaled)\n",
        "\n",
        "import matplotlib.pyplot as plt\n",
        "plt.plot(sorted(df_min_max_scaled['predicted_lr'], reverse=True), color='red', label='LR')\n",
        "plt.plot(sorted(df_min_max_scaled['predicted_svm'], reverse=True), color='blue', label='SVR')\n",
        "plt.plot(sorted(df_min_max_scaled['predicted_rf'], reverse=True), color='green', label='RF')\n",
        "plt.plot(sorted(df_min_max_scaled['predicted_xgb'], reverse=True), color='yellow', label='XGBoost')\n",
        "plt.plot(sorted(df_min_max_scaled['predicted_nn'], reverse=True), color='brown', label='NN')\n",
        "plt.plot(sorted(df_min_max_scaled['combined'], reverse=True), color='orange', label='NN')\n",
        "plt.plot(sorted(df_min_max_scaled['y_true'], reverse=True), color='black', label='TRUE')\n",
        "\n",
        "# plt.plot(sorted((predicted[:,2]+predicted[:,3]+predicted[:,4])/3, reverse=True), color='grey', label='Combined')\n",
        "\n",
        "plt.legend()\n",
        "plt.show()"
      ],
      "metadata": {
        "colab": {
          "base_uri": "https://localhost:8080/",
          "height": 923
        },
        "id": "BLtfh0s1jghu",
        "outputId": "9c6676b9-d0c7-4152-fa7c-66b5611cdb81"
      },
      "execution_count": null,
      "outputs": [
        {
          "output_type": "display_data",
          "data": {
            "text/plain": [
              "         predicted_lr  predicted_svm  predicted_rf  predicted_xgb  \\\n",
              "Stock                                                               \n",
              "A.N          0.205839       0.348464      0.058432       0.053564   \n",
              "AAP.N        0.188623       0.299101      0.037632       0.048833   \n",
              "AAWW.OQ      0.213552       0.445172      0.057756       0.064072   \n",
              "ABBV.N       0.174699       0.191489      0.038887       0.028975   \n",
              "ABC.N        0.181658       0.234826      0.036775       0.041383   \n",
              "...               ...            ...           ...            ...   \n",
              "XRAY.OQ      0.165371       0.198671      0.044260       0.034903   \n",
              "XYL.N        0.244579       0.468352      0.171351       0.156131   \n",
              "YUM.N        0.198239       0.283836      0.082456       0.085961   \n",
              "ZBH.N        0.182532       0.304201      0.085804       0.075581   \n",
              "ZTS.N        0.175906       0.245693      0.055256       0.063640   \n",
              "\n",
              "         predicted_nn    y_true  combined  \n",
              "Stock                                      \n",
              "A.N          0.379994  0.035521  0.204815  \n",
              "AAP.N        0.357800  0.014335  0.185524  \n",
              "AAWW.OQ      0.349974  0.038175  0.195214  \n",
              "ABBV.N       0.339451  0.022379  0.164370  \n",
              "ABC.N        0.289083  0.021677  0.144426  \n",
              "...               ...       ...       ...  \n",
              "XRAY.OQ      0.285125  0.013415  0.134478  \n",
              "XYL.N        0.396338  0.118600  0.261165  \n",
              "YUM.N        0.313903  0.067879  0.178154  \n",
              "ZBH.N        0.461373  0.071402  0.246828  \n",
              "ZTS.N        0.370830  0.039897  0.192862  \n",
              "\n",
              "[676 rows x 7 columns]"
            ],
            "text/html": [
              "\n",
              "  <div id=\"df-2fc5af90-ad10-4b68-a3f3-902843d446a1\">\n",
              "    <div class=\"colab-df-container\">\n",
              "      <div>\n",
              "<style scoped>\n",
              "    .dataframe tbody tr th:only-of-type {\n",
              "        vertical-align: middle;\n",
              "    }\n",
              "\n",
              "    .dataframe tbody tr th {\n",
              "        vertical-align: top;\n",
              "    }\n",
              "\n",
              "    .dataframe thead th {\n",
              "        text-align: right;\n",
              "    }\n",
              "</style>\n",
              "<table border=\"1\" class=\"dataframe\">\n",
              "  <thead>\n",
              "    <tr style=\"text-align: right;\">\n",
              "      <th></th>\n",
              "      <th>predicted_lr</th>\n",
              "      <th>predicted_svm</th>\n",
              "      <th>predicted_rf</th>\n",
              "      <th>predicted_xgb</th>\n",
              "      <th>predicted_nn</th>\n",
              "      <th>y_true</th>\n",
              "      <th>combined</th>\n",
              "    </tr>\n",
              "    <tr>\n",
              "      <th>Stock</th>\n",
              "      <th></th>\n",
              "      <th></th>\n",
              "      <th></th>\n",
              "      <th></th>\n",
              "      <th></th>\n",
              "      <th></th>\n",
              "      <th></th>\n",
              "    </tr>\n",
              "  </thead>\n",
              "  <tbody>\n",
              "    <tr>\n",
              "      <th>A.N</th>\n",
              "      <td>0.205839</td>\n",
              "      <td>0.348464</td>\n",
              "      <td>0.058432</td>\n",
              "      <td>0.053564</td>\n",
              "      <td>0.379994</td>\n",
              "      <td>0.035521</td>\n",
              "      <td>0.204815</td>\n",
              "    </tr>\n",
              "    <tr>\n",
              "      <th>AAP.N</th>\n",
              "      <td>0.188623</td>\n",
              "      <td>0.299101</td>\n",
              "      <td>0.037632</td>\n",
              "      <td>0.048833</td>\n",
              "      <td>0.357800</td>\n",
              "      <td>0.014335</td>\n",
              "      <td>0.185524</td>\n",
              "    </tr>\n",
              "    <tr>\n",
              "      <th>AAWW.OQ</th>\n",
              "      <td>0.213552</td>\n",
              "      <td>0.445172</td>\n",
              "      <td>0.057756</td>\n",
              "      <td>0.064072</td>\n",
              "      <td>0.349974</td>\n",
              "      <td>0.038175</td>\n",
              "      <td>0.195214</td>\n",
              "    </tr>\n",
              "    <tr>\n",
              "      <th>ABBV.N</th>\n",
              "      <td>0.174699</td>\n",
              "      <td>0.191489</td>\n",
              "      <td>0.038887</td>\n",
              "      <td>0.028975</td>\n",
              "      <td>0.339451</td>\n",
              "      <td>0.022379</td>\n",
              "      <td>0.164370</td>\n",
              "    </tr>\n",
              "    <tr>\n",
              "      <th>ABC.N</th>\n",
              "      <td>0.181658</td>\n",
              "      <td>0.234826</td>\n",
              "      <td>0.036775</td>\n",
              "      <td>0.041383</td>\n",
              "      <td>0.289083</td>\n",
              "      <td>0.021677</td>\n",
              "      <td>0.144426</td>\n",
              "    </tr>\n",
              "    <tr>\n",
              "      <th>...</th>\n",
              "      <td>...</td>\n",
              "      <td>...</td>\n",
              "      <td>...</td>\n",
              "      <td>...</td>\n",
              "      <td>...</td>\n",
              "      <td>...</td>\n",
              "      <td>...</td>\n",
              "    </tr>\n",
              "    <tr>\n",
              "      <th>XRAY.OQ</th>\n",
              "      <td>0.165371</td>\n",
              "      <td>0.198671</td>\n",
              "      <td>0.044260</td>\n",
              "      <td>0.034903</td>\n",
              "      <td>0.285125</td>\n",
              "      <td>0.013415</td>\n",
              "      <td>0.134478</td>\n",
              "    </tr>\n",
              "    <tr>\n",
              "      <th>XYL.N</th>\n",
              "      <td>0.244579</td>\n",
              "      <td>0.468352</td>\n",
              "      <td>0.171351</td>\n",
              "      <td>0.156131</td>\n",
              "      <td>0.396338</td>\n",
              "      <td>0.118600</td>\n",
              "      <td>0.261165</td>\n",
              "    </tr>\n",
              "    <tr>\n",
              "      <th>YUM.N</th>\n",
              "      <td>0.198239</td>\n",
              "      <td>0.283836</td>\n",
              "      <td>0.082456</td>\n",
              "      <td>0.085961</td>\n",
              "      <td>0.313903</td>\n",
              "      <td>0.067879</td>\n",
              "      <td>0.178154</td>\n",
              "    </tr>\n",
              "    <tr>\n",
              "      <th>ZBH.N</th>\n",
              "      <td>0.182532</td>\n",
              "      <td>0.304201</td>\n",
              "      <td>0.085804</td>\n",
              "      <td>0.075581</td>\n",
              "      <td>0.461373</td>\n",
              "      <td>0.071402</td>\n",
              "      <td>0.246828</td>\n",
              "    </tr>\n",
              "    <tr>\n",
              "      <th>ZTS.N</th>\n",
              "      <td>0.175906</td>\n",
              "      <td>0.245693</td>\n",
              "      <td>0.055256</td>\n",
              "      <td>0.063640</td>\n",
              "      <td>0.370830</td>\n",
              "      <td>0.039897</td>\n",
              "      <td>0.192862</td>\n",
              "    </tr>\n",
              "  </tbody>\n",
              "</table>\n",
              "<p>676 rows × 7 columns</p>\n",
              "</div>\n",
              "      <button class=\"colab-df-convert\" onclick=\"convertToInteractive('df-2fc5af90-ad10-4b68-a3f3-902843d446a1')\"\n",
              "              title=\"Convert this dataframe to an interactive table.\"\n",
              "              style=\"display:none;\">\n",
              "        \n",
              "  <svg xmlns=\"http://www.w3.org/2000/svg\" height=\"24px\"viewBox=\"0 0 24 24\"\n",
              "       width=\"24px\">\n",
              "    <path d=\"M0 0h24v24H0V0z\" fill=\"none\"/>\n",
              "    <path d=\"M18.56 5.44l.94 2.06.94-2.06 2.06-.94-2.06-.94-.94-2.06-.94 2.06-2.06.94zm-11 1L8.5 8.5l.94-2.06 2.06-.94-2.06-.94L8.5 2.5l-.94 2.06-2.06.94zm10 10l.94 2.06.94-2.06 2.06-.94-2.06-.94-.94-2.06-.94 2.06-2.06.94z\"/><path d=\"M17.41 7.96l-1.37-1.37c-.4-.4-.92-.59-1.43-.59-.52 0-1.04.2-1.43.59L10.3 9.45l-7.72 7.72c-.78.78-.78 2.05 0 2.83L4 21.41c.39.39.9.59 1.41.59.51 0 1.02-.2 1.41-.59l7.78-7.78 2.81-2.81c.8-.78.8-2.07 0-2.86zM5.41 20L4 18.59l7.72-7.72 1.47 1.35L5.41 20z\"/>\n",
              "  </svg>\n",
              "      </button>\n",
              "      \n",
              "  <style>\n",
              "    .colab-df-container {\n",
              "      display:flex;\n",
              "      flex-wrap:wrap;\n",
              "      gap: 12px;\n",
              "    }\n",
              "\n",
              "    .colab-df-convert {\n",
              "      background-color: #E8F0FE;\n",
              "      border: none;\n",
              "      border-radius: 50%;\n",
              "      cursor: pointer;\n",
              "      display: none;\n",
              "      fill: #1967D2;\n",
              "      height: 32px;\n",
              "      padding: 0 0 0 0;\n",
              "      width: 32px;\n",
              "    }\n",
              "\n",
              "    .colab-df-convert:hover {\n",
              "      background-color: #E2EBFA;\n",
              "      box-shadow: 0px 1px 2px rgba(60, 64, 67, 0.3), 0px 1px 3px 1px rgba(60, 64, 67, 0.15);\n",
              "      fill: #174EA6;\n",
              "    }\n",
              "\n",
              "    [theme=dark] .colab-df-convert {\n",
              "      background-color: #3B4455;\n",
              "      fill: #D2E3FC;\n",
              "    }\n",
              "\n",
              "    [theme=dark] .colab-df-convert:hover {\n",
              "      background-color: #434B5C;\n",
              "      box-shadow: 0px 1px 3px 1px rgba(0, 0, 0, 0.15);\n",
              "      filter: drop-shadow(0px 1px 2px rgba(0, 0, 0, 0.3));\n",
              "      fill: #FFFFFF;\n",
              "    }\n",
              "  </style>\n",
              "\n",
              "      <script>\n",
              "        const buttonEl =\n",
              "          document.querySelector('#df-2fc5af90-ad10-4b68-a3f3-902843d446a1 button.colab-df-convert');\n",
              "        buttonEl.style.display =\n",
              "          google.colab.kernel.accessAllowed ? 'block' : 'none';\n",
              "\n",
              "        async function convertToInteractive(key) {\n",
              "          const element = document.querySelector('#df-2fc5af90-ad10-4b68-a3f3-902843d446a1');\n",
              "          const dataTable =\n",
              "            await google.colab.kernel.invokeFunction('convertToInteractive',\n",
              "                                                     [key], {});\n",
              "          if (!dataTable) return;\n",
              "\n",
              "          const docLinkHtml = 'Like what you see? Visit the ' +\n",
              "            '<a target=\"_blank\" href=https://colab.research.google.com/notebooks/data_table.ipynb>data table notebook</a>'\n",
              "            + ' to learn more about interactive tables.';\n",
              "          element.innerHTML = '';\n",
              "          dataTable['output_type'] = 'display_data';\n",
              "          await google.colab.output.renderOutput(dataTable, element);\n",
              "          const docLink = document.createElement('div');\n",
              "          docLink.innerHTML = docLinkHtml;\n",
              "          element.appendChild(docLink);\n",
              "        }\n",
              "      </script>\n",
              "    </div>\n",
              "  </div>\n",
              "  "
            ]
          },
          "metadata": {}
        },
        {
          "output_type": "display_data",
          "data": {
            "text/plain": [
              "<Figure size 792x576 with 1 Axes>"
            ],
            "image/png": "[encoded data removed]"
          },
          "metadata": {}
        }
      ]
    },
    {
      "cell_type": "code",
      "source": [
        "import matplotlib.pyplot as plt\n",
        "plt.plot(sorted(result_df_grouped['predicted_lasso'], reverse=True), color='red', label='LR - L1')\n",
        "plt.plot(sorted(result_df_grouped['predicted_ridge'], reverse=True), color='brown', label='LR - L2')\n",
        "plt.plot(sorted(result_df_grouped['predicted_svm'], reverse=True), color='blue', label='SVR')\n",
        "plt.plot(sorted(result_df_grouped['predicted_rf'], reverse=True), color='green', label='RF')\n",
        "plt.plot(sorted(result_df_grouped['predicted_xgb'], reverse=True), color='yellow', label='XGBoost')\n",
        "# plt.plot(sorted(result_df_grouped['predicted_nn'], reverse=True), color='brown', label='NN')\n",
        "# plt.plot(sorted(result_df_grouped['combined'], reverse=True), color='orange', label='NN')\n",
        "plt.plot(sorted(result_df_grouped['y_true'], reverse=True), color='black', label='TRUE')\n",
        "\n",
        "# plt.plot(sorted((predicted[:,2]+predicted[:,3]+predicted[:,4])/3, reverse=True), color='grey', label='Combined')\n",
        "\n",
        "plt.legend()\n",
        "plt.show()"
      ],
      "metadata": {
        "colab": {
          "base_uri": "https://localhost:8080/",
          "height": 485
        },
        "id": "qD5y2KAIWxtU",
        "outputId": "27dacccc-430b-4b06-9c71-82e591d01192"
      },
      "execution_count": null,
      "outputs": [
        {
          "output_type": "display_data",
          "data": {
            "text/plain": [
              "<Figure size 792x576 with 1 Axes>"
            ],
            "image/png": "[encoded data removed]"
          },
          "metadata": {}
        }
      ]
    },
    {
      "cell_type": "code",
      "source": [
        "def cognitive_div(col, score_result_df):\n",
        "  sorted_df = score_result_df.copy()\n",
        "  for column in sorted_df:\n",
        "    sorted_df[column] = sorted_df[column].sort_values(ignore_index=True)\n",
        "  except_df = sorted_df.drop(columns=[col])\n",
        "  len_df = len(sorted_df)\n",
        "  cd_col = 0\n",
        "  for score_col in except_df:\n",
        "    CD = np.sqrt(sum((except_df[score_col] - sorted_df[col]) ** 2) / len_df)\n",
        "    cd_col += CD\n",
        "  return cd_col"
      ],
      "metadata": {
        "id": "6ZVq3JxYR3Ye"
      },
      "execution_count": null,
      "outputs": []
    },
    {
      "cell_type": "code",
      "source": [
        "model_diversity = {}\n",
        "for model in ['predicted_lasso', 'predicted_ridge', 'predicted_svm','predicted_rf', 'predicted_xgb']:\n",
        "  model_diversity[model] = cognitive_div(model, result_df_grouped.drop(columns=['y_true']).reset_index(drop=True))\n",
        "\n",
        "print(model_diversity)"
      ],
      "metadata": {
        "colab": {
          "base_uri": "https://localhost:8080/"
        },
        "id": "hoM17_MadtFK",
        "outputId": "1c561132-3435-4e52-8945-789a0471abec"
      },
      "execution_count": null,
      "outputs": [
        {
          "output_type": "stream",
          "name": "stdout",
          "text": [
            "{'predicted_lasso': 0.2578818201995152, 'predicted_ridge': 0.32921468636788725, 'predicted_svm': 0.25454084862966464, 'predicted_rf': 0.25284363915636193, 'predicted_xgb': 0.26696586468555866}\n"
          ]
        }
      ]
    },
    {
      "cell_type": "code",
      "source": [
        "lasso_spearmanr = spearmanr(rank_result['predicted_lasso'], rank_result['y_true']).correlation\n",
        "ridge_spearmanr = spearmanr(rank_result['predicted_ridge'], rank_result['y_true']).correlation\n",
        "svm_spearmanr = spearmanr(rank_result['predicted_svm'], rank_result['y_true']).correlation\n",
        "rf_spearmanr = spearmanr(rank_result['predicted_rf'], rank_result['y_true']).correlation\n",
        "xgb_spearmanr = spearmanr(rank_result['predicted_xgb'], rank_result['y_true']).correlation"
      ],
      "metadata": {
        "id": "kL3qq4v0PxoF"
      },
      "execution_count": null,
      "outputs": []
    },
    {
      "cell_type": "code",
      "source": [
        "print('Lasso', spearmanr(len(result_df_grouped) - rankdata(result_df_grouped['predicted_lasso']), len(result_df_grouped) - result_df_grouped['y_true']))\n",
        "print('Ridge', spearmanr(len(result_df_grouped) - rankdata(result_df_grouped['predicted_ridge']), len(result_df_grouped) - result_df_grouped['y_true']))\n",
        "print('SVM', spearmanr(len(result_df_grouped) - rankdata(result_df_grouped['predicted_svm']), len(result_df_grouped) - result_df_grouped['y_true']))\n",
        "print('RF', spearmanr(len(result_df_grouped) - rankdata(result_df_grouped['predicted_rf']), len(result_df_grouped) - result_df_grouped['y_true']))\n",
        "print('XGB', spearmanr(len(result_df_grouped) - rankdata(result_df_grouped['predicted_xgb']), len(result_df_grouped) - result_df_grouped['y_true']))"
      ],
      "metadata": {
        "id": "vzsa2nU8JvtB",
        "colab": {
          "base_uri": "https://localhost:8080/"
        },
        "outputId": "52782e92-b532-408d-dbbe-74f07269bc1d"
      },
      "execution_count": null,
      "outputs": [
        {
          "output_type": "stream",
          "name": "stdout",
          "text": [
            "Lasso SpearmanrResult(correlation=0.7846046937014619, pvalue=4.599107861361831e-142)\n",
            "Ridge SpearmanrResult(correlation=0.6143220948793545, pvalue=2.2306820098976045e-71)\n",
            "SVM SpearmanrResult(correlation=0.6213559112399202, pvalue=1.9320042538043102e-73)\n",
            "RF SpearmanrResult(correlation=0.9215845682487358, pvalue=3.3835338789007576e-279)\n",
            "XGB SpearmanrResult(correlation=0.9378254195211085, pvalue=6.13494427298e-312)\n"
          ]
        }
      ]
    },
    {
      "cell_type": "code",
      "source": [
        "grouped_result = result_df.groupby('Stock').mean()\n",
        "grouped_result['ridge_svm_xgb'] = (grouped_result['predicted_ridge'] + grouped_result['predicted_svm'] + grouped_result['predicted_xgb']) / 3"
      ],
      "metadata": {
        "id": "eMXtauaJeR0U"
      },
      "execution_count": null,
      "outputs": []
    },
    {
      "cell_type": "code",
      "source": [
        "grouped_result['ridge_svm_xgb'] = min_max_scaler.fit_transform(grouped_result['ridge_svm_xgb'].to_numpy().reshape(-1, 1))"
      ],
      "metadata": {
        "id": "C-HQZ6qYTjjt"
      },
      "execution_count": null,
      "outputs": []
    },
    {
      "cell_type": "code",
      "source": [
        "print('score combination ridge_svm_xgb', spearmanr(len(grouped_result) - rankdata(grouped_result['ridge_svm_xgb']), rank_result['y_true']))"
      ],
      "metadata": {
        "colab": {
          "base_uri": "https://localhost:8080/"
        },
        "id": "RgEF_mxYUpfI",
        "outputId": "c19b6f4d-4a12-4219-86c8-e9b19f7a1672"
      },
      "execution_count": null,
      "outputs": [
        {
          "output_type": "stream",
          "name": "stdout",
          "text": [
            "score combination ridge_svm_xgb SpearmanrResult(correlation=0.9113150083494795, pvalue=5.782532964959389e-262)\n"
          ]
        }
      ]
    },
    {
      "cell_type": "code",
      "source": [
        "rank_ridge_svm_xgb = rankdata(rankdata(result_df_grouped['predicted_ridge']) + rankdata(result_df_grouped['predicted_svm']) + rankdata(result_df_grouped['predicted_xgb']))\n",
        "print('rank combination by average ridge_svm_xgb: ', spearmanr(rank_ridge_svm_xgb, rankdata(result_df_grouped['y_true'])).correlation)"
      ],
      "metadata": {
        "colab": {
          "base_uri": "https://localhost:8080/"
        },
        "id": "plQlsf0NWIZz",
        "outputId": "e34ee03d-0816-4452-c5e0-706cb8878f39"
      },
      "execution_count": null,
      "outputs": [
        {
          "output_type": "stream",
          "name": "stdout",
          "text": [
            "rank combination by average ridge_svm_xgb:  0.9251046223610313\n"
          ]
        }
      ]
    },
    {
      "cell_type": "code",
      "source": [
        "(result_df_grouped['y_true'])"
      ],
      "metadata": {
        "colab": {
          "base_uri": "https://localhost:8080/"
        },
        "id": "n4_OSZL9pwX6",
        "outputId": "ba4acf40-f478-4099-bc32-1b06868b77f0"
      },
      "execution_count": null,
      "outputs": [
        {
          "output_type": "execute_result",
          "data": {
            "text/plain": [
              "Stock\n",
              "A.N        0.035521\n",
              "AAP.N      0.014335\n",
              "AAWW.OQ    0.038175\n",
              "ABBV.N     0.022379\n",
              "ABC.N      0.021677\n",
              "             ...   \n",
              "XRAY.OQ    0.013415\n",
              "XYL.N      0.118600\n",
              "YUM.N      0.067879\n",
              "ZBH.N      0.071402\n",
              "ZTS.N      0.039897\n",
              "Name: y_true, Length: 676, dtype: float64"
            ]
          },
          "metadata": {},
          "execution_count": 83
        }
      ]
    },
    {
      "cell_type": "markdown",
      "source": [
        "#### Weighted average combination by diversity strength"
      ],
      "metadata": {
        "id": "m1GAmcyEntTA"
      }
    },
    {
      "cell_type": "code",
      "source": [
        "grouped_result['ridge_svm_xgb_ds'] = grouped_result['predicted_ridge'] * model_diversity['predicted_ridge'] + grouped_result['predicted_svm'] * model_diversity['predicted_svm'] + grouped_result['predicted_xgb'] * model_diversity['predicted_xgb']\n",
        "ridge_svm_xgb_ds_ranking = len(grouped_result) - rankdata(grouped_result['ridge_svm_xgb_ds'])\n",
        "print('score combination ridge_svm_xgb', spearmanr(ridge_svm_xgb_ds_ranking, rank_result['y_true']).correlation)"
      ],
      "metadata": {
        "colab": {
          "base_uri": "https://localhost:8080/"
        },
        "id": "84GbW8xdnx_F",
        "outputId": "5c4fcff4-853b-4af9-f9f2-b11b133980d8"
      },
      "execution_count": null,
      "outputs": [
        {
          "output_type": "stream",
          "name": "stdout",
          "text": [
            "score combination ridge_svm_xgb 0.9199245781093094\n"
          ]
        }
      ]
    },
    {
      "cell_type": "code",
      "source": [
        "ridge_svm_xgb_ds_rank_comb = rank_result['predicted_ridge'] * model_diversity['predicted_ridge'] + rank_result['predicted_svm'] * model_diversity['predicted_svm'] + rank_result['predicted_xgb'] * model_diversity['predicted_xgb']\n",
        "ridge_svm_xgb_ds_rank_comb_ranking = rankdata(ridge_svm_xgb_ds_rank_comb)\n",
        "print('rank combination ridge_svm_xgb', spearmanr(ridge_svm_xgb_ds_rank_comb_ranking, rank_result['y_true']).correlation)"
      ],
      "metadata": {
        "colab": {
          "base_uri": "https://localhost:8080/"
        },
        "id": "tW7iuzZurpxL",
        "outputId": "9fe77ad7-f125-4a3c-e501-4c13bd50d3b3"
      },
      "execution_count": null,
      "outputs": [
        {
          "output_type": "stream",
          "name": "stdout",
          "text": [
            "rank combination ridge_svm_xgb 0.9178482017038941\n"
          ]
        }
      ]
    },
    {
      "cell_type": "code",
      "source": [
        "ridge_xgb_ds = grouped_result['predicted_ridge'] * model_diversity['predicted_ridge'] + grouped_result['predicted_xgb'] * model_diversity['predicted_xgb']\n",
        "ridge_svm_xgb_ds_ranking = len(grouped_result) - rankdata(ridge_xgb_ds)\n",
        "print('score combination ridge_xgb_ds', spearmanr(ridge_svm_xgb_ds_ranking, rank_result['y_true']).correlation)"
      ],
      "metadata": {
        "colab": {
          "base_uri": "https://localhost:8080/"
        },
        "id": "NYL1kRs3sNqL",
        "outputId": "01f72e9a-ff5c-411c-8980-0d3e044887e2"
      },
      "execution_count": null,
      "outputs": [
        {
          "output_type": "stream",
          "name": "stdout",
          "text": [
            "score combination ridge_xgb_ds 0.806954718896735\n"
          ]
        }
      ]
    },
    {
      "cell_type": "code",
      "source": [
        "import itertools\n",
        "\n",
        "model_list = ['predicted_lasso', 'predicted_ridge', 'predicted_svm','predicted_rf', 'predicted_xgb']\n",
        "combinations = []\n",
        "for L in range(2, len(model_list)+1):\n",
        "    for subset in itertools.combinations(model_list, L):\n",
        "        combinations.append(subset)"
      ],
      "metadata": {
        "id": "UNjYFHTXsiIf"
      },
      "execution_count": null,
      "outputs": []
    },
    {
      "cell_type": "code",
      "source": [
        "for combo in combinations:\n",
        "  "
      ],
      "metadata": {
        "id": "UtpGcuLSu-zB"
      },
      "execution_count": null,
      "outputs": []
    },
    {
      "cell_type": "code",
      "source": [
        "a = (1,2,3)"
      ],
      "metadata": {
        "id": "OdLEyFMxZjIw"
      },
      "execution_count": null,
      "outputs": []
    },
    {
      "cell_type": "code",
      "source": [
        "list(a)"
      ],
      "metadata": {
        "id": "KLQ9H33DZkyZ",
        "outputId": "ec6b07b3-01a1-4b1c-d5a1-6b3dc0e8eb97",
        "colab": {
          "base_uri": "https://localhost:8080/"
        }
      },
      "execution_count": null,
      "outputs": [
        {
          "output_type": "execute_result",
          "data": {
            "text/plain": [
              "[1, 2, 3]"
            ]
          },
          "metadata": {},
          "execution_count": 14
        }
      ]
    }
  ]
}